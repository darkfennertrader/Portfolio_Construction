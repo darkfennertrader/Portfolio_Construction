{
 "cells": [
  {
   "cell_type": "markdown",
   "id": "ceef82e1-84d9-4488-9f22-f447bb990f28",
   "metadata": {},
   "source": [
    "# Covariance Estimation"
   ]
  },
  {
   "cell_type": "code",
   "execution_count": 1,
   "id": "e410b099-907b-4074-8401-0e352c7414ba",
   "metadata": {
    "tags": []
   },
   "outputs": [],
   "source": [
    "# used during development to releoad modules every time there is a change\n",
    "%load_ext autoreload\n",
    "%autoreload 2\n",
    "\n",
    "import os\n",
    "import sys\n",
    "module_path = os.path.abspath(os.path.join('..'))\n",
    "if module_path not in sys.path:\n",
    "    sys.path.append(module_path)\n",
    "import numpy as np\n",
    "import pandas as pd\n",
    "from scipy.stats import norm\n",
    "import matplotlib.pyplot as plt\n",
    "import seaborn as sns\n",
    "from scipy.optimize import minimize\n",
    "import statsmodels.api as sm\n",
    "from course_1.risk_kit import Metrics, pre_processing_hfi, \\\n",
    "pre_processing_ind, get_ind30_nfirms, \\\n",
    "get_ind30_size, plot_ef2, get_fff_returns, \\\n",
    "get_ind_market_caps, get_ind30_nfirms, weight_ew, weight_cw, \\\n",
    "weight_ew_cap_teth\n",
    "\n",
    "from data_prep import get_ind_returns, get_ind_returns2, get_ind_market_caps\n",
    "\n",
    "import ipywidgets as widgets\n",
    "import ipywidgets as widgets\n",
    "from IPython.display import display\n",
    "\n",
    "import warnings\n",
    "warnings.filterwarnings('ignore')\n",
    "from IPython.core.interactiveshell import InteractiveShell\n",
    "InteractiveShell.ast_node_interactivity = 'all'\n",
    "pd.options.display.float_format = '{:.6f}'.format\n",
    "\n",
    "m= Metrics()"
   ]
  },
  {
   "cell_type": "code",
   "execution_count": null,
   "id": "db2e04f3-9f8f-4206-8dbe-626fbca06190",
   "metadata": {},
   "outputs": [],
   "source": []
  },
  {
   "cell_type": "code",
   "execution_count": null,
   "id": "5a2b8b86-8062-4f25-9436-3424ea698d4d",
   "metadata": {},
   "outputs": [],
   "source": []
  }
 ],
 "metadata": {
  "kernelspec": {
   "display_name": "Python (modern_ts)",
   "language": "python",
   "name": "modern_ts"
  },
  "language_info": {
   "codemirror_mode": {
    "name": "ipython",
    "version": 3
   },
   "file_extension": ".py",
   "mimetype": "text/x-python",
   "name": "python",
   "nbconvert_exporter": "python",
   "pygments_lexer": "ipython3",
   "version": "3.10.12"
  }
 },
 "nbformat": 4,
 "nbformat_minor": 5
}
