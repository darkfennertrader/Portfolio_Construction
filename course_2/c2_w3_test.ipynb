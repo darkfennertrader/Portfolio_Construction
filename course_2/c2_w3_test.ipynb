{
 "cells": [
  {
   "cell_type": "code",
   "execution_count": 1,
   "id": "afb08846-0224-48f0-a39c-6e07f7af1506",
   "metadata": {
    "tags": []
   },
   "outputs": [],
   "source": [
    "# used during development to releoad modules every time there is a change\n",
    "%load_ext autoreload\n",
    "%autoreload 2\n",
    "\n",
    "import os\n",
    "import sys\n",
    "module_path = os.path.abspath(os.path.join('..'))\n",
    "if module_path not in sys.path:\n",
    "    sys.path.append(module_path)\n",
    "import numpy as np\n",
    "import pandas as pd\n",
    "from scipy.stats import norm\n",
    "import matplotlib.pyplot as plt\n",
    "import seaborn as sns\n",
    "from scipy.optimize import minimize\n",
    "from numpy.linalg import inv\n",
    "\n",
    "import statsmodels.api as sm\n",
    "from course_1.risk_kit import Metrics\n",
    "import nb.edhec_risk_kit_206 as erk\n",
    "from backtesting import Backtester, EquallyWeighted, CapWeighted,\\\n",
    "GlobalMiminumVariance, BlackLitterman\n",
    "\n",
    "import ipywidgets as widgets\n",
    "import ipywidgets as widgets\n",
    "from IPython.display import display\n",
    "\n",
    "import warnings\n",
    "warnings.filterwarnings('ignore')\n",
    "from IPython.core.interactiveshell import InteractiveShell\n",
    "InteractiveShell.ast_node_interactivity = 'all'\n",
    "pd.options.display.float_format = '{:.6f}'.format\n",
    "\n",
    "m= Metrics()\n",
    "blit = BlackLitterman()"
   ]
  },
  {
   "cell_type": "code",
   "execution_count": 2,
   "id": "50b85358-4af8-459d-8f04-b91d3f854326",
   "metadata": {
    "tags": []
   },
   "outputs": [],
   "source": [
    "ind49_rets = erk.get_ind_returns(weighting=\"vw\", n_inds=49)[\"2013\":]\n",
    "ind49_mcap = erk.get_ind_market_caps(49, weights=True)[\"2013\":]\n",
    "inds = ['Hlth', 'Fin', 'Whlsl', 'Rtail', 'Food']\n",
    "rho_ = ind49_rets[inds].corr()\n",
    "vols_ = (ind49_rets[inds].std()*np.sqrt(12))    \n",
    "sigma_prior_ =  (vols_.T).dot(vols_) * rho_"
   ]
  },
  {
   "cell_type": "code",
   "execution_count": 3,
   "id": "0dc68d68-8d7d-4c11-9f6a-2d233c9c2ef0",
   "metadata": {
    "tags": []
   },
   "outputs": [
    {
     "data": {
      "text/html": [
       "<div>\n",
       "<style scoped>\n",
       "    .dataframe tbody tr th:only-of-type {\n",
       "        vertical-align: middle;\n",
       "    }\n",
       "\n",
       "    .dataframe tbody tr th {\n",
       "        vertical-align: top;\n",
       "    }\n",
       "\n",
       "    .dataframe thead th {\n",
       "        text-align: right;\n",
       "    }\n",
       "</style>\n",
       "<table border=\"1\" class=\"dataframe\">\n",
       "  <thead>\n",
       "    <tr style=\"text-align: right;\">\n",
       "      <th></th>\n",
       "      <th>Hlth</th>\n",
       "      <th>Fin</th>\n",
       "      <th>Whlsl</th>\n",
       "      <th>Rtail</th>\n",
       "      <th>Food</th>\n",
       "    </tr>\n",
       "  </thead>\n",
       "  <tbody>\n",
       "    <tr>\n",
       "      <th>Hlth</th>\n",
       "      <td>0.108718</td>\n",
       "      <td>0.057064</td>\n",
       "      <td>0.070764</td>\n",
       "      <td>0.062429</td>\n",
       "      <td>0.040410</td>\n",
       "    </tr>\n",
       "    <tr>\n",
       "      <th>Fin</th>\n",
       "      <td>0.057064</td>\n",
       "      <td>0.108718</td>\n",
       "      <td>0.084545</td>\n",
       "      <td>0.064723</td>\n",
       "      <td>0.037292</td>\n",
       "    </tr>\n",
       "    <tr>\n",
       "      <th>Whlsl</th>\n",
       "      <td>0.070764</td>\n",
       "      <td>0.084545</td>\n",
       "      <td>0.108718</td>\n",
       "      <td>0.080859</td>\n",
       "      <td>0.058843</td>\n",
       "    </tr>\n",
       "    <tr>\n",
       "      <th>Rtail</th>\n",
       "      <td>0.062429</td>\n",
       "      <td>0.064723</td>\n",
       "      <td>0.080859</td>\n",
       "      <td>0.108718</td>\n",
       "      <td>0.062519</td>\n",
       "    </tr>\n",
       "    <tr>\n",
       "      <th>Food</th>\n",
       "      <td>0.040410</td>\n",
       "      <td>0.037292</td>\n",
       "      <td>0.058843</td>\n",
       "      <td>0.062519</td>\n",
       "      <td>0.108718</td>\n",
       "    </tr>\n",
       "  </tbody>\n",
       "</table>\n",
       "</div>"
      ],
      "text/plain": [
       "          Hlth      Fin    Whlsl    Rtail     Food\n",
       "Hlth  0.108718 0.057064 0.070764 0.062429 0.040410\n",
       "Fin   0.057064 0.108718 0.084545 0.064723 0.037292\n",
       "Whlsl 0.070764 0.084545 0.108718 0.080859 0.058843\n",
       "Rtail 0.062429 0.064723 0.080859 0.108718 0.062519\n",
       "Food  0.040410 0.037292 0.058843 0.062519 0.108718"
      ]
     },
     "execution_count": 3,
     "metadata": {},
     "output_type": "execute_result"
    }
   ],
   "source": [
    "sigma_prior_"
   ]
  },
  {
   "cell_type": "code",
   "execution_count": 4,
   "id": "7f0e325f-aacd-4b3f-b8c9-c543e201c2dd",
   "metadata": {
    "tags": []
   },
   "outputs": [
    {
     "data": {
      "text/plain": [
       "Hlth    0.042624\n",
       "Fin     0.184533\n",
       "Whlsl   0.096043\n",
       "Rtail   0.537344\n",
       "Food    0.139456\n",
       "Name: 2013-02, dtype: float64"
      ]
     },
     "execution_count": 4,
     "metadata": {},
     "output_type": "execute_result"
    }
   ],
   "source": [
    "def cw_weights(r, cap_weights):\n",
    "    w = cap_weights.loc[r.index[1]]\n",
    "    return w / w.sum()\n",
    "\n",
    "cw_weights(ind49_rets[inds], ind49_mcap[inds])"
   ]
  },
  {
   "cell_type": "code",
   "execution_count": 5,
   "id": "ee6257a3-10ed-4fbc-8fc3-4d65b696e1e5",
   "metadata": {
    "tags": []
   },
   "outputs": [
    {
     "data": {
      "text/plain": [
       "Hlth    0.042624\n",
       "Fin     0.184533\n",
       "Whlsl   0.096043\n",
       "Rtail   0.537344\n",
       "Food    0.139456\n",
       "Name: 2013-02, dtype: float64"
      ]
     },
     "execution_count": 5,
     "metadata": {},
     "output_type": "execute_result"
    }
   ],
   "source": [
    "w= ind49_mcap[inds].iloc[1]\n",
    "w_prior = w / w.sum()\n",
    "w_prior"
   ]
  },
  {
   "cell_type": "code",
   "execution_count": 20,
   "id": "9ac51ab8-3f0d-4911-a1d1-5bd71f707642",
   "metadata": {
    "tags": []
   },
   "outputs": [
    {
     "data": {
      "text/plain": [
       "('Rtail', 0.5373435390087914)"
      ]
     },
     "execution_count": 20,
     "metadata": {},
     "output_type": "execute_result"
    }
   ],
   "source": [
    "w_prior.idxmax(), w_prior.max()"
   ]
  },
  {
   "cell_type": "code",
   "execution_count": 6,
   "id": "7e3ec71d-3c86-4688-a730-4cf9f64f84ad",
   "metadata": {
    "tags": []
   },
   "outputs": [],
   "source": [
    "# Assumes that Omega is proportional to the variance of the prior\n",
    "def proportional_prior(sigma, tau, p):\n",
    "    \"\"\"\n",
    "    Returns the He-Litterman simplified Omega\n",
    "    Inputs:\n",
    "    sigma: N x N Covariance Matrix as DataFrame\n",
    "    tau: a scalar\n",
    "    p: a K x N DataFrame linking Q and Assets\n",
    "    returns a P x P DataFrame, a Matrix representing Prior Uncertainties\n",
    "    \"\"\"\n",
    "    helit_omega = p.dot(tau * sigma).dot(p.T)\n",
    "    # Make a diag matrix from the diag elements of Omega\n",
    "    return pd.DataFrame(np.diag(np.diag(helit_omega.values)),index=p.index, columns=p.index)\n",
    "\n",
    "from numpy.linalg import inv\n",
    "\n",
    "def bl(w_prior, sigma_prior, p, q,\n",
    "                omega=None,\n",
    "                delta=2.5, tau=.02):\n",
    "    \"\"\"\n",
    "# Computes the posterior expected returns based on \n",
    "# the original black litterman reference model\n",
    "#\n",
    "# W.prior must be an N x 1 vector of weights, a Series\n",
    "# Sigma.prior is an N x N covariance matrix, a DataFrame\n",
    "# P must be a K x N matrix linking Q and the Assets, a DataFrame\n",
    "# Q must be an K x 1 vector of views, a Series\n",
    "# Omega must be a K x K matrix a DataFrame, or None\n",
    "# if Omega is None, we assume it is\n",
    "#    proportional to variance of the prior\n",
    "# delta and tau are scalars\n",
    "    \"\"\"\n",
    "    if omega is None:\n",
    "        omega = proportional_prior(sigma_prior, tau, p)\n",
    "    # Force w.prior and Q to be column vectors\n",
    "    # How many assets do we have?\n",
    "    N = w_prior.shape[0]\n",
    "    # And how many views?\n",
    "    K = q.shape[0]\n",
    "    # First, reverse-engineer the weights to get pi\n",
    "    pi = implied_returns(delta, sigma_prior,  w_prior)\n",
    "    # Adjust (scale) Sigma by the uncertainty scaling factor\n",
    "    sigma_prior_scaled = tau * sigma_prior  \n",
    "    # posterior estimate of the mean, use the \"Master Formula\"\n",
    "    # we use the versions that do not require\n",
    "    # Omega to be inverted (see previous section)\n",
    "    # this is easier to read if we use '@' for matrixmult instead of .dot()\n",
    "    #     mu_bl = pi + sigma_prior_scaled @ p.T @ inv(p @ sigma_prior_scaled @ p.T + omega) @ (q - p @ pi)\n",
    "    mu_bl = pi + sigma_prior_scaled.dot(p.T).dot(inv(p.dot(sigma_prior_scaled).dot(p.T) + omega).dot(q - p.dot(pi).values))\n",
    "    # posterior estimate of uncertainty of mu.bl\n",
    "#     sigma_bl = sigma_prior + sigma_prior_scaled - sigma_prior_scaled @ p.T @ inv(p @ sigma_prior_scaled @ p.T + omega) @ p @ sigma_prior_scaled\n",
    "    sigma_bl = sigma_prior + sigma_prior_scaled - sigma_prior_scaled.dot(p.T).dot(inv(p.dot(sigma_prior_scaled).dot(p.T) + omega)).dot(p).dot(sigma_prior_scaled)\n",
    "    return (mu_bl, sigma_bl)\n",
    "\n",
    "def implied_returns(delta, sigma, w):\n",
    "    \"\"\"\n",
    "Obtain the implied expected returns by reverse engineering the weights\n",
    "Inputs:\n",
    "delta: Risk Aversion Coefficient (scalar)\n",
    "sigma: Variance-Covariance Matrix (N x N) as DataFrame\n",
    "    w: Portfolio weights (N x 1) as Series\n",
    "Returns an N x 1 vector of Returns as Series\n",
    "    \"\"\"\n",
    "    ir = delta * sigma.dot(w).squeeze() # to get a series from a 1-column dataframe\n",
    "    ir.name = 'Implied Returns'\n",
    "    return ir\n",
    "\n",
    "# for convenience and readability, define the inverse of a dataframe\n",
    "def inverse(d):\n",
    "    \"\"\"\n",
    "    Invert the dataframe by inverting the underlying matrix\n",
    "    \"\"\"\n",
    "    return pd.DataFrame(inv(d.values), index=d.columns, columns=d.index)\n",
    "\n",
    "def w_msr(sigma, mu, scale=True):\n",
    "    \"\"\"\n",
    "    Optimal (Tangent/Max Sharpe Ratio) Portfolio weights\n",
    "    by using the Markowitz Optimization Procedure\n",
    "    Mu is the vector of Excess expected Returns\n",
    "    Sigma must be an N x N matrix as a DataFrame and Mu a column vector as a Series\n",
    "    This implements page 188 Equation 5.2.28 of\n",
    "    \"The econometrics of financial markets\" Campbell, Lo and Mackinlay.\n",
    "    \"\"\"\n",
    "    w = inverse(sigma).dot(mu)\n",
    "    if scale:\n",
    "        w = w/sum(w) # fix: this assumes all w is +ve\n",
    "    return w\n",
    "\n",
    "def w_star(delta, sigma, mu):\n",
    "    return (inverse(sigma).dot(mu))/delta"
   ]
  },
  {
   "cell_type": "code",
   "execution_count": 7,
   "id": "4cf22471-73df-4300-8f4b-623555ab3b06",
   "metadata": {
    "tags": []
   },
   "outputs": [
    {
     "data": {
      "text/plain": [
       "('Rtail', 0.22376988664397232)"
      ]
     },
     "execution_count": 7,
     "metadata": {},
     "output_type": "execute_result"
    }
   ],
   "source": [
    "delta = 2.5\n",
    "ir = implied_returns(delta=delta, sigma=sigma_prior_, w=w_prior)\n",
    "ir.idxmax(), ir.max()"
   ]
  },
  {
   "cell_type": "code",
   "execution_count": 8,
   "id": "ae2c4305-f92b-4354-99e4-b6ea69e95f0e",
   "metadata": {
    "tags": []
   },
   "outputs": [
    {
     "data": {
      "text/plain": [
       "('Hlth', 0.1528544032954898)"
      ]
     },
     "execution_count": 8,
     "metadata": {},
     "output_type": "execute_result"
    }
   ],
   "source": [
    "ir.idxmin(), ir.min()"
   ]
  },
  {
   "cell_type": "code",
   "execution_count": 9,
   "id": "3a9b8135-ae28-4637-b889-b1bb05a873e2",
   "metadata": {
    "tags": []
   },
   "outputs": [
    {
     "data": {
      "text/html": [
       "<div>\n",
       "<style scoped>\n",
       "    .dataframe tbody tr th:only-of-type {\n",
       "        vertical-align: middle;\n",
       "    }\n",
       "\n",
       "    .dataframe tbody tr th {\n",
       "        vertical-align: top;\n",
       "    }\n",
       "\n",
       "    .dataframe thead th {\n",
       "        text-align: right;\n",
       "    }\n",
       "</style>\n",
       "<table border=\"1\" class=\"dataframe\">\n",
       "  <thead>\n",
       "    <tr style=\"text-align: right;\">\n",
       "      <th></th>\n",
       "      <th>Hlth</th>\n",
       "      <th>Fin</th>\n",
       "      <th>Whlsl</th>\n",
       "      <th>Rtail</th>\n",
       "      <th>Food</th>\n",
       "    </tr>\n",
       "  </thead>\n",
       "  <tbody>\n",
       "    <tr>\n",
       "      <th>0</th>\n",
       "      <td>100.000000</td>\n",
       "      <td>0.000000</td>\n",
       "      <td>-15.200000</td>\n",
       "      <td>-84.800000</td>\n",
       "      <td>0.000000</td>\n",
       "    </tr>\n",
       "  </tbody>\n",
       "</table>\n",
       "</div>"
      ],
      "text/plain": [
       "        Hlth      Fin      Whlsl      Rtail     Food\n",
       "0 100.000000 0.000000 -15.200000 -84.800000 0.000000"
      ]
     },
     "execution_count": 9,
     "metadata": {},
     "output_type": "execute_result"
    }
   ],
   "source": [
    "#  subjective view\n",
    "assets = ['Hlth', 'Fin', 'Whlsl', 'Rtail', 'Food']\n",
    "\n",
    "# Relative View 1: Hlth will outperform Rtail and Whlsl by 3%\n",
    "q = pd.Series([0.03])\n",
    "\n",
    "# start with a single view, all zeros and overwrite the specific view\n",
    "p = pd.DataFrame([0.]*len(assets), index=assets).T\n",
    "\n",
    "# find the relative market caps of Rtail and Whlsl to split the\n",
    "# relative outperformance of Hlth\n",
    "\n",
    "w_whlsl =  w_prior.loc[\"Whlsl\"]/(w_prior.loc[\"Whlsl\"]+w_prior.loc[\"Rtail\"])\n",
    "w_rtail =  w_prior.loc[\"Rtail\"]/(w_prior.loc[\"Whlsl\"]+w_prior.loc[\"Rtail\"])\n",
    "\n",
    "p.iloc[0]['Hlth'] = 1.\n",
    "p.iloc[0]['Whlsl'] = -w_whlsl\n",
    "p.iloc[0]['Rtail'] = -w_rtail\n",
    "(p*100).round(1)"
   ]
  },
  {
   "cell_type": "code",
   "execution_count": 10,
   "id": "33a1b1a2-41ff-494f-a420-ab0592e56071",
   "metadata": {
    "tags": []
   },
   "outputs": [
    {
     "data": {
      "text/plain": [
       "Hlth    17.900000\n",
       "Fin     17.000000\n",
       "Whlsl   19.300000\n",
       "Rtail   19.900000\n",
       "Food    14.500000\n",
       "dtype: float64"
      ]
     },
     "execution_count": 10,
     "metadata": {},
     "output_type": "execute_result"
    }
   ],
   "source": [
    "delta = 2.5\n",
    "tau = 0.05\n",
    "# Find the Black Litterman Expected Returns\n",
    "bl_mu, bl_sigma = bl(w_prior, sigma_prior_, p, q, tau = tau)\n",
    "(bl_mu*100).round(1)"
   ]
  },
  {
   "cell_type": "code",
   "execution_count": 21,
   "id": "f27583b0-2392-4a2f-8b9d-623f7a73c333",
   "metadata": {
    "tags": []
   },
   "outputs": [
    {
     "data": {
      "text/plain": [
       "('Food', 0.14224076039345213)"
      ]
     },
     "execution_count": 21,
     "metadata": {},
     "output_type": "execute_result"
    }
   ],
   "source": [
    "bl_mu.idxmin(), bl_mu.min()"
   ]
  },
  {
   "cell_type": "code",
   "execution_count": 11,
   "id": "2929482f-a7ee-481b-8d05-f81521be9011",
   "metadata": {
    "tags": []
   },
   "outputs": [
    {
     "data": {
      "text/plain": [
       "Hlth    0.275883\n",
       "Fin     0.184533\n",
       "Whlsl   0.060673\n",
       "Rtail   0.339455\n",
       "Food    0.139456\n",
       "dtype: float64"
      ]
     },
     "execution_count": 11,
     "metadata": {},
     "output_type": "execute_result"
    }
   ],
   "source": [
    "w_bl = w_msr(bl_sigma, bl_mu)\n",
    "w_bl"
   ]
  },
  {
   "cell_type": "code",
   "execution_count": 12,
   "id": "3a6fbc35-fe7b-4537-b39f-99694b23b489",
   "metadata": {
    "tags": []
   },
   "outputs": [
    {
     "data": {
      "text/plain": [
       "('Rtail', 0.3394554617563841)"
      ]
     },
     "execution_count": 12,
     "metadata": {},
     "output_type": "execute_result"
    }
   ],
   "source": [
    "w_bl.idxmax(), w_bl.max()"
   ]
  },
  {
   "cell_type": "code",
   "execution_count": 13,
   "id": "05354915-e2ec-4ce8-a518-2414a47d12cf",
   "metadata": {
    "tags": []
   },
   "outputs": [
    {
     "data": {
      "text/plain": [
       "('Whlsl', 0.06067334016592484)"
      ]
     },
     "execution_count": 13,
     "metadata": {},
     "output_type": "execute_result"
    }
   ],
   "source": [
    "w_bl.idxmin(), w_bl.min()"
   ]
  },
  {
   "cell_type": "code",
   "execution_count": 14,
   "id": "b5bedd24-8f0c-4649-ba11-08fb7ff6bb3b",
   "metadata": {
    "tags": []
   },
   "outputs": [
    {
     "data": {
      "text/html": [
       "<div>\n",
       "<style scoped>\n",
       "    .dataframe tbody tr th:only-of-type {\n",
       "        vertical-align: middle;\n",
       "    }\n",
       "\n",
       "    .dataframe tbody tr th {\n",
       "        vertical-align: top;\n",
       "    }\n",
       "\n",
       "    .dataframe thead th {\n",
       "        text-align: right;\n",
       "    }\n",
       "</style>\n",
       "<table border=\"1\" class=\"dataframe\">\n",
       "  <thead>\n",
       "    <tr style=\"text-align: right;\">\n",
       "      <th></th>\n",
       "      <th>Hlth</th>\n",
       "      <th>Fin</th>\n",
       "      <th>Whlsl</th>\n",
       "      <th>Rtail</th>\n",
       "      <th>Food</th>\n",
       "    </tr>\n",
       "  </thead>\n",
       "  <tbody>\n",
       "    <tr>\n",
       "      <th>0</th>\n",
       "      <td>100.000000</td>\n",
       "      <td>0.000000</td>\n",
       "      <td>-15.200000</td>\n",
       "      <td>-84.800000</td>\n",
       "      <td>0.000000</td>\n",
       "    </tr>\n",
       "  </tbody>\n",
       "</table>\n",
       "</div>"
      ],
      "text/plain": [
       "        Hlth      Fin      Whlsl      Rtail     Food\n",
       "0 100.000000 0.000000 -15.200000 -84.800000 0.000000"
      ]
     },
     "execution_count": 14,
     "metadata": {},
     "output_type": "execute_result"
    }
   ],
   "source": [
    "#  subjective view\n",
    "assets = ['Hlth', 'Fin', 'Whlsl', 'Rtail', 'Food']\n",
    "\n",
    "# Relative View 1: Hlth will outperform Rtail and Whlsl by 5%\n",
    "q = pd.Series([0.05])\n",
    "\n",
    "# start with a single view, all zeros and overwrite the specific view\n",
    "p = pd.DataFrame([0.]*len(assets), index=assets).T\n",
    "\n",
    "# find the relative market caps of Rtail and Whlsl to split the\n",
    "# relative outperformance of Hlth\n",
    "\n",
    "w_whlsl =  w_prior.loc[\"Whlsl\"]/(w_prior.loc[\"Whlsl\"]+w_prior.loc[\"Rtail\"])\n",
    "w_rtail =  w_prior.loc[\"Rtail\"]/(w_prior.loc[\"Whlsl\"]+w_prior.loc[\"Rtail\"])\n",
    "\n",
    "p.iloc[0]['Hlth'] = 1.\n",
    "p.iloc[0]['Whlsl'] = -w_whlsl\n",
    "p.iloc[0]['Rtail'] = -w_rtail\n",
    "(p*100).round(1)"
   ]
  },
  {
   "cell_type": "code",
   "execution_count": 15,
   "id": "932c9355-18f0-4d85-9789-6ee11f1fe5ea",
   "metadata": {
    "tags": []
   },
   "outputs": [
    {
     "data": {
      "text/plain": [
       "Hlth    18.500000\n",
       "Fin     16.900000\n",
       "Whlsl   19.200000\n",
       "Rtail   19.400000\n",
       "Food    14.200000\n",
       "dtype: float64"
      ]
     },
     "execution_count": 15,
     "metadata": {},
     "output_type": "execute_result"
    }
   ],
   "source": [
    "delta = 2.5\n",
    "tau = 0.05\n",
    "# Find the Black Litterman Expected Returns\n",
    "bl_mu, bl_sigma = bl(w_prior, sigma_prior_, p, q, tau = tau)\n",
    "(bl_mu*100).round(1)"
   ]
  },
  {
   "cell_type": "code",
   "execution_count": 16,
   "id": "8e066ba3-563b-4096-8158-7e16ba55e551",
   "metadata": {
    "tags": []
   },
   "outputs": [
    {
     "data": {
      "text/plain": [
       "('Rtail', 0.19393217810996072)"
      ]
     },
     "execution_count": 16,
     "metadata": {},
     "output_type": "execute_result"
    }
   ],
   "source": [
    "bl_mu.idxmax(), bl_mu.max()"
   ]
  },
  {
   "cell_type": "code",
   "execution_count": 17,
   "id": "ea457e93-c118-472a-98d2-c4aab086f4b1",
   "metadata": {
    "tags": []
   },
   "outputs": [
    {
     "data": {
      "text/plain": [
       "Hlth    0.325321\n",
       "Fin     0.184533\n",
       "Whlsl   0.053177\n",
       "Rtail   0.297514\n",
       "Food    0.139456\n",
       "dtype: float64"
      ]
     },
     "execution_count": 17,
     "metadata": {},
     "output_type": "execute_result"
    }
   ],
   "source": [
    "w_bl = w_msr(bl_sigma, bl_mu)\n",
    "w_bl"
   ]
  },
  {
   "cell_type": "code",
   "execution_count": 18,
   "id": "156f76aa-9ace-49de-8a98-9989a00360ae",
   "metadata": {
    "tags": []
   },
   "outputs": [
    {
     "data": {
      "text/plain": [
       "('Hlth', 0.32532060798438733)"
      ]
     },
     "execution_count": 18,
     "metadata": {},
     "output_type": "execute_result"
    }
   ],
   "source": [
    "w_bl.idxmax(), w_bl.max()"
   ]
  },
  {
   "cell_type": "code",
   "execution_count": null,
   "id": "9ca7efc3-3dd1-4459-991c-8c14f3b3379b",
   "metadata": {},
   "outputs": [],
   "source": []
  }
 ],
 "metadata": {
  "kernelspec": {
   "display_name": "Python (modern_ts)",
   "language": "python",
   "name": "modern_ts"
  },
  "language_info": {
   "codemirror_mode": {
    "name": "ipython",
    "version": 3
   },
   "file_extension": ".py",
   "mimetype": "text/x-python",
   "name": "python",
   "nbconvert_exporter": "python",
   "pygments_lexer": "ipython3",
   "version": "3.10.12"
  }
 },
 "nbformat": 4,
 "nbformat_minor": 5
}
