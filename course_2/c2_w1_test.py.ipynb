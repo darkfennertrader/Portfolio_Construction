{
 "cells": [
  {
   "cell_type": "code",
   "execution_count": 1,
   "id": "4d8ac69e-65ed-4c27-9d8d-ed53021c82cb",
   "metadata": {
    "tags": []
   },
   "outputs": [],
   "source": [
    "# used during development to releoad modules every time there is a change\n",
    "%load_ext autoreload\n",
    "%autoreload 2\n",
    "\n",
    "import os\n",
    "import sys\n",
    "module_path = os.path.abspath(os.path.join('..'))\n",
    "if module_path not in sys.path:\n",
    "    sys.path.append(module_path)\n",
    "import numpy as np\n",
    "import pandas as pd\n",
    "from scipy.stats import norm\n",
    "import matplotlib.pyplot as plt\n",
    "import seaborn as sns\n",
    "from scipy.optimize import minimize\n",
    "import statsmodels.api as sm\n",
    "from course_1.risk_kit import Metrics, pre_processing_hfi, \\\n",
    "pre_processing_ind, get_ind30_nfirms, \\\n",
    "get_ind30_size, plot_ef2, get_fff_returns, \\\n",
    "get_ind_market_caps, get_ind30_nfirms, weight_ew, weight_cw, \\\n",
    "weight_ew_cap_teth\n",
    "\n",
    "from data_prep import get_ind_returns, get_ind_returns2, get_ind_market_caps\n",
    "\n",
    "import ipywidgets as widgets\n",
    "import ipywidgets as widgets\n",
    "from IPython.display import display\n",
    "\n",
    "import warnings\n",
    "warnings.filterwarnings('ignore')\n",
    "from IPython.core.interactiveshell import InteractiveShell\n",
    "InteractiveShell.ast_node_interactivity = 'all'\n",
    "pd.options.display.float_format = '{:.6f}'.format\n",
    "\n",
    "m= Metrics()"
   ]
  },
  {
   "cell_type": "code",
   "execution_count": 2,
   "id": "433e97a6-3e97-4515-b90b-d8f100bee977",
   "metadata": {
    "tags": []
   },
   "outputs": [
    {
     "data": {
      "text/html": [
       "<div>\n",
       "<style scoped>\n",
       "    .dataframe tbody tr th:only-of-type {\n",
       "        vertical-align: middle;\n",
       "    }\n",
       "\n",
       "    .dataframe tbody tr th {\n",
       "        vertical-align: top;\n",
       "    }\n",
       "\n",
       "    .dataframe thead th {\n",
       "        text-align: right;\n",
       "    }\n",
       "</style>\n",
       "<table border=\"1\" class=\"dataframe\">\n",
       "  <thead>\n",
       "    <tr style=\"text-align: right;\">\n",
       "      <th></th>\n",
       "      <th>Beer</th>\n",
       "    </tr>\n",
       "  </thead>\n",
       "  <tbody>\n",
       "    <tr>\n",
       "      <th>1991-01</th>\n",
       "      <td>0.046500</td>\n",
       "    </tr>\n",
       "    <tr>\n",
       "      <th>1991-02</th>\n",
       "      <td>0.108400</td>\n",
       "    </tr>\n",
       "    <tr>\n",
       "      <th>1991-03</th>\n",
       "      <td>0.056700</td>\n",
       "    </tr>\n",
       "    <tr>\n",
       "      <th>1991-04</th>\n",
       "      <td>-0.040100</td>\n",
       "    </tr>\n",
       "    <tr>\n",
       "      <th>1991-05</th>\n",
       "      <td>0.038600</td>\n",
       "    </tr>\n",
       "  </tbody>\n",
       "</table>\n",
       "</div>"
      ],
      "text/plain": [
       "             Beer\n",
       "1991-01  0.046500\n",
       "1991-02  0.108400\n",
       "1991-03  0.056700\n",
       "1991-04 -0.040100\n",
       "1991-05  0.038600"
      ]
     },
     "execution_count": 2,
     "metadata": {},
     "output_type": "execute_result"
    },
    {
     "data": {
      "text/plain": [
       "(336, 1)"
      ]
     },
     "execution_count": 2,
     "metadata": {},
     "output_type": "execute_result"
    }
   ],
   "source": [
    "ind49_rets = get_ind_returns2(weighting=\"vw\", n_inds=49)[\"1991\":][\"Beer\"].to_frame()\n",
    "ind49_rets.head()\n",
    "ind49_rets.shape"
   ]
  },
  {
   "cell_type": "code",
   "execution_count": 3,
   "id": "38ef3e67-dbae-44d9-81b2-ed05c9509f8c",
   "metadata": {
    "tags": []
   },
   "outputs": [
    {
     "data": {
      "text/html": [
       "<div>\n",
       "<style scoped>\n",
       "    .dataframe tbody tr th:only-of-type {\n",
       "        vertical-align: middle;\n",
       "    }\n",
       "\n",
       "    .dataframe tbody tr th {\n",
       "        vertical-align: top;\n",
       "    }\n",
       "\n",
       "    .dataframe thead th {\n",
       "        text-align: right;\n",
       "    }\n",
       "</style>\n",
       "<table border=\"1\" class=\"dataframe\">\n",
       "  <thead>\n",
       "    <tr style=\"text-align: right;\">\n",
       "      <th></th>\n",
       "      <th>Mkt-RF</th>\n",
       "      <th>SMB</th>\n",
       "      <th>HML</th>\n",
       "      <th>RF</th>\n",
       "    </tr>\n",
       "  </thead>\n",
       "  <tbody>\n",
       "    <tr>\n",
       "      <th>2018-08</th>\n",
       "      <td>0.034400</td>\n",
       "      <td>0.012300</td>\n",
       "      <td>-0.041200</td>\n",
       "      <td>0.001600</td>\n",
       "    </tr>\n",
       "    <tr>\n",
       "      <th>2018-09</th>\n",
       "      <td>0.000600</td>\n",
       "      <td>-0.023700</td>\n",
       "      <td>-0.013400</td>\n",
       "      <td>0.001500</td>\n",
       "    </tr>\n",
       "    <tr>\n",
       "      <th>2018-10</th>\n",
       "      <td>-0.076800</td>\n",
       "      <td>-0.046800</td>\n",
       "      <td>0.034100</td>\n",
       "      <td>0.001900</td>\n",
       "    </tr>\n",
       "    <tr>\n",
       "      <th>2018-11</th>\n",
       "      <td>0.016900</td>\n",
       "      <td>-0.007400</td>\n",
       "      <td>0.002000</td>\n",
       "      <td>0.001800</td>\n",
       "    </tr>\n",
       "    <tr>\n",
       "      <th>2018-12</th>\n",
       "      <td>-0.095500</td>\n",
       "      <td>-0.026100</td>\n",
       "      <td>-0.015100</td>\n",
       "      <td>0.001900</td>\n",
       "    </tr>\n",
       "  </tbody>\n",
       "</table>\n",
       "</div>"
      ],
      "text/plain": [
       "           Mkt-RF       SMB       HML       RF\n",
       "2018-08  0.034400  0.012300 -0.041200 0.001600\n",
       "2018-09  0.000600 -0.023700 -0.013400 0.001500\n",
       "2018-10 -0.076800 -0.046800  0.034100 0.001900\n",
       "2018-11  0.016900 -0.007400  0.002000 0.001800\n",
       "2018-12 -0.095500 -0.026100 -0.015100 0.001900"
      ]
     },
     "execution_count": 3,
     "metadata": {},
     "output_type": "execute_result"
    }
   ],
   "source": [
    "fff = get_fff_returns()\n",
    "fff.tail()"
   ]
  },
  {
   "cell_type": "code",
   "execution_count": 4,
   "id": "d8a56e58-80ee-4787-af03-7be18d6db842",
   "metadata": {
    "tags": []
   },
   "outputs": [
    {
     "data": {
      "text/html": [
       "<table class=\"simpletable\">\n",
       "<caption>OLS Regression Results</caption>\n",
       "<tr>\n",
       "  <th>Dep. Variable:</th>          <td>Beer</td>       <th>  R-squared:         </th> <td>   0.226</td>\n",
       "</tr>\n",
       "<tr>\n",
       "  <th>Model:</th>                   <td>OLS</td>       <th>  Adj. R-squared:    </th> <td>   0.224</td>\n",
       "</tr>\n",
       "<tr>\n",
       "  <th>Method:</th>             <td>Least Squares</td>  <th>  F-statistic:       </th> <td>   97.55</td>\n",
       "</tr>\n",
       "<tr>\n",
       "  <th>Date:</th>             <td>Thu, 12 Oct 2023</td> <th>  Prob (F-statistic):</th> <td>2.37e-20</td>\n",
       "</tr>\n",
       "<tr>\n",
       "  <th>Time:</th>                 <td>19:18:28</td>     <th>  Log-Likelihood:    </th> <td>  596.94</td>\n",
       "</tr>\n",
       "<tr>\n",
       "  <th>No. Observations:</th>      <td>   336</td>      <th>  AIC:               </th> <td>  -1190.</td>\n",
       "</tr>\n",
       "<tr>\n",
       "  <th>Df Residuals:</th>          <td>   334</td>      <th>  BIC:               </th> <td>  -1182.</td>\n",
       "</tr>\n",
       "<tr>\n",
       "  <th>Df Model:</th>              <td>     1</td>      <th>                     </th>     <td> </td>   \n",
       "</tr>\n",
       "<tr>\n",
       "  <th>Covariance Type:</th>      <td>nonrobust</td>    <th>                     </th>     <td> </td>   \n",
       "</tr>\n",
       "</table>\n",
       "<table class=\"simpletable\">\n",
       "<tr>\n",
       "      <td></td>        <th>coef</th>     <th>std err</th>      <th>t</th>      <th>P>|t|</th>  <th>[0.025</th>    <th>0.975]</th>  \n",
       "</tr>\n",
       "<tr>\n",
       "  <th>Mkt-RF</th>   <td>    0.5295</td> <td>    0.054</td> <td>    9.877</td> <td> 0.000</td> <td>    0.424</td> <td>    0.635</td>\n",
       "</tr>\n",
       "<tr>\n",
       "  <th>Constant</th> <td>    0.0043</td> <td>    0.002</td> <td>    1.892</td> <td> 0.059</td> <td>   -0.000</td> <td>    0.009</td>\n",
       "</tr>\n",
       "</table>\n",
       "<table class=\"simpletable\">\n",
       "<tr>\n",
       "  <th>Omnibus:</th>       <td>20.697</td> <th>  Durbin-Watson:     </th> <td>   2.079</td>\n",
       "</tr>\n",
       "<tr>\n",
       "  <th>Prob(Omnibus):</th> <td> 0.000</td> <th>  Jarque-Bera (JB):  </th> <td>  43.130</td>\n",
       "</tr>\n",
       "<tr>\n",
       "  <th>Skew:</th>          <td>-0.314</td> <th>  Prob(JB):          </th> <td>4.31e-10</td>\n",
       "</tr>\n",
       "<tr>\n",
       "  <th>Kurtosis:</th>      <td> 4.639</td> <th>  Cond. No.          </th> <td>    23.9</td>\n",
       "</tr>\n",
       "</table><br/><br/>Notes:<br/>[1] Standard Errors assume that the covariance matrix of the errors is correctly specified."
      ],
      "text/latex": [
       "\\begin{center}\n",
       "\\begin{tabular}{lclc}\n",
       "\\toprule\n",
       "\\textbf{Dep. Variable:}    &       Beer       & \\textbf{  R-squared:         } &     0.226   \\\\\n",
       "\\textbf{Model:}            &       OLS        & \\textbf{  Adj. R-squared:    } &     0.224   \\\\\n",
       "\\textbf{Method:}           &  Least Squares   & \\textbf{  F-statistic:       } &     97.55   \\\\\n",
       "\\textbf{Date:}             & Thu, 12 Oct 2023 & \\textbf{  Prob (F-statistic):} &  2.37e-20   \\\\\n",
       "\\textbf{Time:}             &     19:18:28     & \\textbf{  Log-Likelihood:    } &    596.94   \\\\\n",
       "\\textbf{No. Observations:} &         336      & \\textbf{  AIC:               } &    -1190.   \\\\\n",
       "\\textbf{Df Residuals:}     &         334      & \\textbf{  BIC:               } &    -1182.   \\\\\n",
       "\\textbf{Df Model:}         &           1      & \\textbf{                     } &             \\\\\n",
       "\\textbf{Covariance Type:}  &    nonrobust     & \\textbf{                     } &             \\\\\n",
       "\\bottomrule\n",
       "\\end{tabular}\n",
       "\\begin{tabular}{lcccccc}\n",
       "                  & \\textbf{coef} & \\textbf{std err} & \\textbf{t} & \\textbf{P$> |$t$|$} & \\textbf{[0.025} & \\textbf{0.975]}  \\\\\n",
       "\\midrule\n",
       "\\textbf{Mkt-RF}   &       0.5295  &        0.054     &     9.877  &         0.000        &        0.424    &        0.635     \\\\\n",
       "\\textbf{Constant} &       0.0043  &        0.002     &     1.892  &         0.059        &       -0.000    &        0.009     \\\\\n",
       "\\bottomrule\n",
       "\\end{tabular}\n",
       "\\begin{tabular}{lclc}\n",
       "\\textbf{Omnibus:}       & 20.697 & \\textbf{  Durbin-Watson:     } &    2.079  \\\\\n",
       "\\textbf{Prob(Omnibus):} &  0.000 & \\textbf{  Jarque-Bera (JB):  } &   43.130  \\\\\n",
       "\\textbf{Skew:}          & -0.314 & \\textbf{  Prob(JB):          } & 4.31e-10  \\\\\n",
       "\\textbf{Kurtosis:}      &  4.639 & \\textbf{  Cond. No.          } &     23.9  \\\\\n",
       "\\bottomrule\n",
       "\\end{tabular}\n",
       "%\\caption{OLS Regression Results}\n",
       "\\end{center}\n",
       "\n",
       "Notes: \\newline\n",
       " [1] Standard Errors assume that the covariance matrix of the errors is correctly specified."
      ],
      "text/plain": [
       "<class 'statsmodels.iolib.summary.Summary'>\n",
       "\"\"\"\n",
       "                            OLS Regression Results                            \n",
       "==============================================================================\n",
       "Dep. Variable:                   Beer   R-squared:                       0.226\n",
       "Model:                            OLS   Adj. R-squared:                  0.224\n",
       "Method:                 Least Squares   F-statistic:                     97.55\n",
       "Date:                Thu, 12 Oct 2023   Prob (F-statistic):           2.37e-20\n",
       "Time:                        19:18:28   Log-Likelihood:                 596.94\n",
       "No. Observations:                 336   AIC:                            -1190.\n",
       "Df Residuals:                     334   BIC:                            -1182.\n",
       "Df Model:                           1                                         \n",
       "Covariance Type:            nonrobust                                         \n",
       "==============================================================================\n",
       "                 coef    std err          t      P>|t|      [0.025      0.975]\n",
       "------------------------------------------------------------------------------\n",
       "Mkt-RF         0.5295      0.054      9.877      0.000       0.424       0.635\n",
       "Constant       0.0043      0.002      1.892      0.059      -0.000       0.009\n",
       "==============================================================================\n",
       "Omnibus:                       20.697   Durbin-Watson:                   2.079\n",
       "Prob(Omnibus):                  0.000   Jarque-Bera (JB):               43.130\n",
       "Skew:                          -0.314   Prob(JB):                     4.31e-10\n",
       "Kurtosis:                       4.639   Cond. No.                         23.9\n",
       "==============================================================================\n",
       "\n",
       "Notes:\n",
       "[1] Standard Errors assume that the covariance matrix of the errors is correctly specified.\n",
       "\"\"\""
      ]
     },
     "execution_count": 4,
     "metadata": {},
     "output_type": "execute_result"
    }
   ],
   "source": [
    "# let's use the CAPM model\n",
    "ind49_rets_excess = ind49_rets - fff.loc[\"1991\":, [\"RF\"]].values\n",
    "mkt_excess =  fff.loc[\"1991\": , [\"Mkt-RF\"]]\n",
    "exp_var = mkt_excess.copy()\n",
    "exp_var[\"Constant\"] = 1\n",
    "lm = sm.OLS(ind49_rets_excess, exp_var).fit()\n",
    "lm.summary()"
   ]
  },
  {
   "cell_type": "code",
   "execution_count": 5,
   "id": "d2228a32-b5c5-4214-b536-9b3ade4b6eea",
   "metadata": {
    "tags": []
   },
   "outputs": [
    {
     "data": {
      "text/html": [
       "<div>\n",
       "<style scoped>\n",
       "    .dataframe tbody tr th:only-of-type {\n",
       "        vertical-align: middle;\n",
       "    }\n",
       "\n",
       "    .dataframe tbody tr th {\n",
       "        vertical-align: top;\n",
       "    }\n",
       "\n",
       "    .dataframe thead th {\n",
       "        text-align: right;\n",
       "    }\n",
       "</style>\n",
       "<table border=\"1\" class=\"dataframe\">\n",
       "  <thead>\n",
       "    <tr style=\"text-align: right;\">\n",
       "      <th></th>\n",
       "      <th>Steel</th>\n",
       "    </tr>\n",
       "  </thead>\n",
       "  <tbody>\n",
       "    <tr>\n",
       "      <th>1991-01</th>\n",
       "      <td>0.081900</td>\n",
       "    </tr>\n",
       "    <tr>\n",
       "      <th>1991-02</th>\n",
       "      <td>0.066400</td>\n",
       "    </tr>\n",
       "    <tr>\n",
       "      <th>1991-03</th>\n",
       "      <td>0.005300</td>\n",
       "    </tr>\n",
       "    <tr>\n",
       "      <th>1991-04</th>\n",
       "      <td>-0.001000</td>\n",
       "    </tr>\n",
       "    <tr>\n",
       "      <th>1991-05</th>\n",
       "      <td>0.042000</td>\n",
       "    </tr>\n",
       "  </tbody>\n",
       "</table>\n",
       "</div>"
      ],
      "text/plain": [
       "            Steel\n",
       "1991-01  0.081900\n",
       "1991-02  0.066400\n",
       "1991-03  0.005300\n",
       "1991-04 -0.001000\n",
       "1991-05  0.042000"
      ]
     },
     "execution_count": 5,
     "metadata": {},
     "output_type": "execute_result"
    },
    {
     "data": {
      "text/plain": [
       "(336, 1)"
      ]
     },
     "execution_count": 5,
     "metadata": {},
     "output_type": "execute_result"
    }
   ],
   "source": [
    "ind49_rets = get_ind_returns2(weighting=\"vw\", n_inds=49)[\"1991\":][\"Steel\"].to_frame()\n",
    "ind49_rets.head()\n",
    "ind49_rets.shape"
   ]
  },
  {
   "cell_type": "code",
   "execution_count": 6,
   "id": "4bc6b3ca-423a-40a8-8652-048218ec75fb",
   "metadata": {
    "tags": []
   },
   "outputs": [
    {
     "data": {
      "text/html": [
       "<table class=\"simpletable\">\n",
       "<caption>OLS Regression Results</caption>\n",
       "<tr>\n",
       "  <th>Dep. Variable:</th>          <td>Steel</td>      <th>  R-squared:         </th> <td>   0.631</td>\n",
       "</tr>\n",
       "<tr>\n",
       "  <th>Model:</th>                   <td>OLS</td>       <th>  Adj. R-squared:    </th> <td>   0.630</td>\n",
       "</tr>\n",
       "<tr>\n",
       "  <th>Method:</th>             <td>Least Squares</td>  <th>  F-statistic:       </th> <td>   572.0</td>\n",
       "</tr>\n",
       "<tr>\n",
       "  <th>Date:</th>             <td>Thu, 12 Oct 2023</td> <th>  Prob (F-statistic):</th> <td>2.29e-74</td>\n",
       "</tr>\n",
       "<tr>\n",
       "  <th>Time:</th>                 <td>19:18:28</td>     <th>  Log-Likelihood:    </th> <td>  532.25</td>\n",
       "</tr>\n",
       "<tr>\n",
       "  <th>No. Observations:</th>      <td>   336</td>      <th>  AIC:               </th> <td>  -1061.</td>\n",
       "</tr>\n",
       "<tr>\n",
       "  <th>Df Residuals:</th>          <td>   334</td>      <th>  BIC:               </th> <td>  -1053.</td>\n",
       "</tr>\n",
       "<tr>\n",
       "  <th>Df Model:</th>              <td>     1</td>      <th>                     </th>     <td> </td>   \n",
       "</tr>\n",
       "<tr>\n",
       "  <th>Covariance Type:</th>      <td>nonrobust</td>    <th>                     </th>     <td> </td>   \n",
       "</tr>\n",
       "</table>\n",
       "<table class=\"simpletable\">\n",
       "<tr>\n",
       "      <td></td>        <th>coef</th>     <th>std err</th>      <th>t</th>      <th>P>|t|</th>  <th>[0.025</th>    <th>0.975]</th>  \n",
       "</tr>\n",
       "<tr>\n",
       "  <th>Mkt-RF</th>   <td>    1.5546</td> <td>    0.065</td> <td>   23.917</td> <td> 0.000</td> <td>    1.427</td> <td>    1.682</td>\n",
       "</tr>\n",
       "<tr>\n",
       "  <th>Constant</th> <td>   -0.0055</td> <td>    0.003</td> <td>   -2.014</td> <td> 0.045</td> <td>   -0.011</td> <td>   -0.000</td>\n",
       "</tr>\n",
       "</table>\n",
       "<table class=\"simpletable\">\n",
       "<tr>\n",
       "  <th>Omnibus:</th>       <td>24.614</td> <th>  Durbin-Watson:     </th> <td>   2.016</td>\n",
       "</tr>\n",
       "<tr>\n",
       "  <th>Prob(Omnibus):</th> <td> 0.000</td> <th>  Jarque-Bera (JB):  </th> <td>  42.413</td>\n",
       "</tr>\n",
       "<tr>\n",
       "  <th>Skew:</th>          <td> 0.456</td> <th>  Prob(JB):          </th> <td>6.17e-10</td>\n",
       "</tr>\n",
       "<tr>\n",
       "  <th>Kurtosis:</th>      <td> 4.482</td> <th>  Cond. No.          </th> <td>    23.9</td>\n",
       "</tr>\n",
       "</table><br/><br/>Notes:<br/>[1] Standard Errors assume that the covariance matrix of the errors is correctly specified."
      ],
      "text/latex": [
       "\\begin{center}\n",
       "\\begin{tabular}{lclc}\n",
       "\\toprule\n",
       "\\textbf{Dep. Variable:}    &      Steel       & \\textbf{  R-squared:         } &     0.631   \\\\\n",
       "\\textbf{Model:}            &       OLS        & \\textbf{  Adj. R-squared:    } &     0.630   \\\\\n",
       "\\textbf{Method:}           &  Least Squares   & \\textbf{  F-statistic:       } &     572.0   \\\\\n",
       "\\textbf{Date:}             & Thu, 12 Oct 2023 & \\textbf{  Prob (F-statistic):} &  2.29e-74   \\\\\n",
       "\\textbf{Time:}             &     19:18:28     & \\textbf{  Log-Likelihood:    } &    532.25   \\\\\n",
       "\\textbf{No. Observations:} &         336      & \\textbf{  AIC:               } &    -1061.   \\\\\n",
       "\\textbf{Df Residuals:}     &         334      & \\textbf{  BIC:               } &    -1053.   \\\\\n",
       "\\textbf{Df Model:}         &           1      & \\textbf{                     } &             \\\\\n",
       "\\textbf{Covariance Type:}  &    nonrobust     & \\textbf{                     } &             \\\\\n",
       "\\bottomrule\n",
       "\\end{tabular}\n",
       "\\begin{tabular}{lcccccc}\n",
       "                  & \\textbf{coef} & \\textbf{std err} & \\textbf{t} & \\textbf{P$> |$t$|$} & \\textbf{[0.025} & \\textbf{0.975]}  \\\\\n",
       "\\midrule\n",
       "\\textbf{Mkt-RF}   &       1.5546  &        0.065     &    23.917  &         0.000        &        1.427    &        1.682     \\\\\n",
       "\\textbf{Constant} &      -0.0055  &        0.003     &    -2.014  &         0.045        &       -0.011    &       -0.000     \\\\\n",
       "\\bottomrule\n",
       "\\end{tabular}\n",
       "\\begin{tabular}{lclc}\n",
       "\\textbf{Omnibus:}       & 24.614 & \\textbf{  Durbin-Watson:     } &    2.016  \\\\\n",
       "\\textbf{Prob(Omnibus):} &  0.000 & \\textbf{  Jarque-Bera (JB):  } &   42.413  \\\\\n",
       "\\textbf{Skew:}          &  0.456 & \\textbf{  Prob(JB):          } & 6.17e-10  \\\\\n",
       "\\textbf{Kurtosis:}      &  4.482 & \\textbf{  Cond. No.          } &     23.9  \\\\\n",
       "\\bottomrule\n",
       "\\end{tabular}\n",
       "%\\caption{OLS Regression Results}\n",
       "\\end{center}\n",
       "\n",
       "Notes: \\newline\n",
       " [1] Standard Errors assume that the covariance matrix of the errors is correctly specified."
      ],
      "text/plain": [
       "<class 'statsmodels.iolib.summary.Summary'>\n",
       "\"\"\"\n",
       "                            OLS Regression Results                            \n",
       "==============================================================================\n",
       "Dep. Variable:                  Steel   R-squared:                       0.631\n",
       "Model:                            OLS   Adj. R-squared:                  0.630\n",
       "Method:                 Least Squares   F-statistic:                     572.0\n",
       "Date:                Thu, 12 Oct 2023   Prob (F-statistic):           2.29e-74\n",
       "Time:                        19:18:28   Log-Likelihood:                 532.25\n",
       "No. Observations:                 336   AIC:                            -1061.\n",
       "Df Residuals:                     334   BIC:                            -1053.\n",
       "Df Model:                           1                                         \n",
       "Covariance Type:            nonrobust                                         \n",
       "==============================================================================\n",
       "                 coef    std err          t      P>|t|      [0.025      0.975]\n",
       "------------------------------------------------------------------------------\n",
       "Mkt-RF         1.5546      0.065     23.917      0.000       1.427       1.682\n",
       "Constant      -0.0055      0.003     -2.014      0.045      -0.011      -0.000\n",
       "==============================================================================\n",
       "Omnibus:                       24.614   Durbin-Watson:                   2.016\n",
       "Prob(Omnibus):                  0.000   Jarque-Bera (JB):               42.413\n",
       "Skew:                           0.456   Prob(JB):                     6.17e-10\n",
       "Kurtosis:                       4.482   Cond. No.                         23.9\n",
       "==============================================================================\n",
       "\n",
       "Notes:\n",
       "[1] Standard Errors assume that the covariance matrix of the errors is correctly specified.\n",
       "\"\"\""
      ]
     },
     "execution_count": 6,
     "metadata": {},
     "output_type": "execute_result"
    }
   ],
   "source": [
    "# let's use the CAPM model\n",
    "ind49_rets_excess = ind49_rets - fff.loc[\"1991\":, [\"RF\"]].values\n",
    "mkt_excess =  fff.loc[\"1991\": , [\"Mkt-RF\"]]\n",
    "exp_var = mkt_excess.copy()\n",
    "exp_var[\"Constant\"] = 1\n",
    "lm = sm.OLS(ind49_rets_excess, exp_var).fit()\n",
    "lm.summary()"
   ]
  },
  {
   "cell_type": "code",
   "execution_count": 7,
   "id": "5b546c40-e4b1-40af-89a8-ce4378786334",
   "metadata": {
    "tags": []
   },
   "outputs": [
    {
     "data": {
      "text/html": [
       "<div>\n",
       "<style scoped>\n",
       "    .dataframe tbody tr th:only-of-type {\n",
       "        vertical-align: middle;\n",
       "    }\n",
       "\n",
       "    .dataframe tbody tr th {\n",
       "        vertical-align: top;\n",
       "    }\n",
       "\n",
       "    .dataframe thead th {\n",
       "        text-align: right;\n",
       "    }\n",
       "</style>\n",
       "<table border=\"1\" class=\"dataframe\">\n",
       "  <thead>\n",
       "    <tr style=\"text-align: right;\">\n",
       "      <th></th>\n",
       "      <th>Steel</th>\n",
       "    </tr>\n",
       "  </thead>\n",
       "  <tbody>\n",
       "    <tr>\n",
       "      <th>2013-01</th>\n",
       "      <td>0.042800</td>\n",
       "    </tr>\n",
       "    <tr>\n",
       "      <th>2013-02</th>\n",
       "      <td>-0.026800</td>\n",
       "    </tr>\n",
       "    <tr>\n",
       "      <th>2013-03</th>\n",
       "      <td>0.021000</td>\n",
       "    </tr>\n",
       "    <tr>\n",
       "      <th>2013-04</th>\n",
       "      <td>-0.044100</td>\n",
       "    </tr>\n",
       "    <tr>\n",
       "      <th>2013-05</th>\n",
       "      <td>0.038400</td>\n",
       "    </tr>\n",
       "  </tbody>\n",
       "</table>\n",
       "</div>"
      ],
      "text/plain": [
       "            Steel\n",
       "2013-01  0.042800\n",
       "2013-02 -0.026800\n",
       "2013-03  0.021000\n",
       "2013-04 -0.044100\n",
       "2013-05  0.038400"
      ]
     },
     "execution_count": 7,
     "metadata": {},
     "output_type": "execute_result"
    },
    {
     "data": {
      "text/plain": [
       "(72, 1)"
      ]
     },
     "execution_count": 7,
     "metadata": {},
     "output_type": "execute_result"
    }
   ],
   "source": [
    "ind49_rets = get_ind_returns2(weighting=\"vw\", n_inds=49)[\"2013\": \"2018\"][\"Steel\"].to_frame()\n",
    "ind49_rets.head()\n",
    "ind49_rets.shape"
   ]
  },
  {
   "cell_type": "code",
   "execution_count": 8,
   "id": "a104e0d5-3d68-4bd4-804a-e35006ec8c9d",
   "metadata": {
    "tags": []
   },
   "outputs": [
    {
     "data": {
      "text/html": [
       "<table class=\"simpletable\">\n",
       "<caption>OLS Regression Results</caption>\n",
       "<tr>\n",
       "  <th>Dep. Variable:</th>          <td>Steel</td>      <th>  R-squared:         </th> <td>   0.470</td>\n",
       "</tr>\n",
       "<tr>\n",
       "  <th>Model:</th>                   <td>OLS</td>       <th>  Adj. R-squared:    </th> <td>   0.463</td>\n",
       "</tr>\n",
       "<tr>\n",
       "  <th>Method:</th>             <td>Least Squares</td>  <th>  F-statistic:       </th> <td>   62.18</td>\n",
       "</tr>\n",
       "<tr>\n",
       "  <th>Date:</th>             <td>Thu, 12 Oct 2023</td> <th>  Prob (F-statistic):</th> <td>2.97e-11</td>\n",
       "</tr>\n",
       "<tr>\n",
       "  <th>Time:</th>                 <td>19:18:28</td>     <th>  Log-Likelihood:    </th> <td>  116.15</td>\n",
       "</tr>\n",
       "<tr>\n",
       "  <th>No. Observations:</th>      <td>    72</td>      <th>  AIC:               </th> <td>  -228.3</td>\n",
       "</tr>\n",
       "<tr>\n",
       "  <th>Df Residuals:</th>          <td>    70</td>      <th>  BIC:               </th> <td>  -223.7</td>\n",
       "</tr>\n",
       "<tr>\n",
       "  <th>Df Model:</th>              <td>     1</td>      <th>                     </th>     <td> </td>   \n",
       "</tr>\n",
       "<tr>\n",
       "  <th>Covariance Type:</th>      <td>nonrobust</td>    <th>                     </th>     <td> </td>   \n",
       "</tr>\n",
       "</table>\n",
       "<table class=\"simpletable\">\n",
       "<tr>\n",
       "      <td></td>        <th>coef</th>     <th>std err</th>      <th>t</th>      <th>P>|t|</th>  <th>[0.025</th>    <th>0.975]</th>  \n",
       "</tr>\n",
       "<tr>\n",
       "  <th>Mkt-RF</th>   <td>    1.4169</td> <td>    0.180</td> <td>    7.885</td> <td> 0.000</td> <td>    1.059</td> <td>    1.775</td>\n",
       "</tr>\n",
       "<tr>\n",
       "  <th>Constant</th> <td>   -0.0098</td> <td>    0.006</td> <td>   -1.627</td> <td> 0.108</td> <td>   -0.022</td> <td>    0.002</td>\n",
       "</tr>\n",
       "</table>\n",
       "<table class=\"simpletable\">\n",
       "<tr>\n",
       "  <th>Omnibus:</th>       <td> 7.128</td> <th>  Durbin-Watson:     </th> <td>   2.188</td>\n",
       "</tr>\n",
       "<tr>\n",
       "  <th>Prob(Omnibus):</th> <td> 0.028</td> <th>  Jarque-Bera (JB):  </th> <td>   6.420</td>\n",
       "</tr>\n",
       "<tr>\n",
       "  <th>Skew:</th>          <td> 0.635</td> <th>  Prob(JB):          </th> <td>  0.0403</td>\n",
       "</tr>\n",
       "<tr>\n",
       "  <th>Kurtosis:</th>      <td> 3.727</td> <th>  Cond. No.          </th> <td>    31.2</td>\n",
       "</tr>\n",
       "</table><br/><br/>Notes:<br/>[1] Standard Errors assume that the covariance matrix of the errors is correctly specified."
      ],
      "text/latex": [
       "\\begin{center}\n",
       "\\begin{tabular}{lclc}\n",
       "\\toprule\n",
       "\\textbf{Dep. Variable:}    &      Steel       & \\textbf{  R-squared:         } &     0.470   \\\\\n",
       "\\textbf{Model:}            &       OLS        & \\textbf{  Adj. R-squared:    } &     0.463   \\\\\n",
       "\\textbf{Method:}           &  Least Squares   & \\textbf{  F-statistic:       } &     62.18   \\\\\n",
       "\\textbf{Date:}             & Thu, 12 Oct 2023 & \\textbf{  Prob (F-statistic):} &  2.97e-11   \\\\\n",
       "\\textbf{Time:}             &     19:18:28     & \\textbf{  Log-Likelihood:    } &    116.15   \\\\\n",
       "\\textbf{No. Observations:} &          72      & \\textbf{  AIC:               } &    -228.3   \\\\\n",
       "\\textbf{Df Residuals:}     &          70      & \\textbf{  BIC:               } &    -223.7   \\\\\n",
       "\\textbf{Df Model:}         &           1      & \\textbf{                     } &             \\\\\n",
       "\\textbf{Covariance Type:}  &    nonrobust     & \\textbf{                     } &             \\\\\n",
       "\\bottomrule\n",
       "\\end{tabular}\n",
       "\\begin{tabular}{lcccccc}\n",
       "                  & \\textbf{coef} & \\textbf{std err} & \\textbf{t} & \\textbf{P$> |$t$|$} & \\textbf{[0.025} & \\textbf{0.975]}  \\\\\n",
       "\\midrule\n",
       "\\textbf{Mkt-RF}   &       1.4169  &        0.180     &     7.885  &         0.000        &        1.059    &        1.775     \\\\\n",
       "\\textbf{Constant} &      -0.0098  &        0.006     &    -1.627  &         0.108        &       -0.022    &        0.002     \\\\\n",
       "\\bottomrule\n",
       "\\end{tabular}\n",
       "\\begin{tabular}{lclc}\n",
       "\\textbf{Omnibus:}       &  7.128 & \\textbf{  Durbin-Watson:     } &    2.188  \\\\\n",
       "\\textbf{Prob(Omnibus):} &  0.028 & \\textbf{  Jarque-Bera (JB):  } &    6.420  \\\\\n",
       "\\textbf{Skew:}          &  0.635 & \\textbf{  Prob(JB):          } &   0.0403  \\\\\n",
       "\\textbf{Kurtosis:}      &  3.727 & \\textbf{  Cond. No.          } &     31.2  \\\\\n",
       "\\bottomrule\n",
       "\\end{tabular}\n",
       "%\\caption{OLS Regression Results}\n",
       "\\end{center}\n",
       "\n",
       "Notes: \\newline\n",
       " [1] Standard Errors assume that the covariance matrix of the errors is correctly specified."
      ],
      "text/plain": [
       "<class 'statsmodels.iolib.summary.Summary'>\n",
       "\"\"\"\n",
       "                            OLS Regression Results                            \n",
       "==============================================================================\n",
       "Dep. Variable:                  Steel   R-squared:                       0.470\n",
       "Model:                            OLS   Adj. R-squared:                  0.463\n",
       "Method:                 Least Squares   F-statistic:                     62.18\n",
       "Date:                Thu, 12 Oct 2023   Prob (F-statistic):           2.97e-11\n",
       "Time:                        19:18:28   Log-Likelihood:                 116.15\n",
       "No. Observations:                  72   AIC:                            -228.3\n",
       "Df Residuals:                      70   BIC:                            -223.7\n",
       "Df Model:                           1                                         \n",
       "Covariance Type:            nonrobust                                         \n",
       "==============================================================================\n",
       "                 coef    std err          t      P>|t|      [0.025      0.975]\n",
       "------------------------------------------------------------------------------\n",
       "Mkt-RF         1.4169      0.180      7.885      0.000       1.059       1.775\n",
       "Constant      -0.0098      0.006     -1.627      0.108      -0.022       0.002\n",
       "==============================================================================\n",
       "Omnibus:                        7.128   Durbin-Watson:                   2.188\n",
       "Prob(Omnibus):                  0.028   Jarque-Bera (JB):                6.420\n",
       "Skew:                           0.635   Prob(JB):                       0.0403\n",
       "Kurtosis:                       3.727   Cond. No.                         31.2\n",
       "==============================================================================\n",
       "\n",
       "Notes:\n",
       "[1] Standard Errors assume that the covariance matrix of the errors is correctly specified.\n",
       "\"\"\""
      ]
     },
     "execution_count": 8,
     "metadata": {},
     "output_type": "execute_result"
    }
   ],
   "source": [
    "# let's use the CAPM model\n",
    "ind49_rets_excess = ind49_rets - fff.loc[\"2013\": \"2018\", [\"RF\"]].values\n",
    "mkt_excess =  fff.loc[\"2013\": \"2018\": , [\"Mkt-RF\"]]\n",
    "exp_var = mkt_excess.copy()\n",
    "exp_var[\"Constant\"] = 1\n",
    "lm = sm.OLS(ind49_rets_excess, exp_var).fit()\n",
    "lm.summary()"
   ]
  },
  {
   "cell_type": "code",
   "execution_count": null,
   "id": "dec2f865-4788-4ffc-aa31-c110600a55b4",
   "metadata": {},
   "outputs": [],
   "source": []
  },
  {
   "cell_type": "code",
   "execution_count": 9,
   "id": "c9f067f2-6d3f-48e4-badd-ed68c1ecd47a",
   "metadata": {
    "tags": []
   },
   "outputs": [
    {
     "data": {
      "text/plain": [
       "(             Beer\n",
       " 2013-01  0.050700\n",
       " 2013-02  0.052200\n",
       " 2013-03  0.053100\n",
       " 2013-04  0.035500\n",
       " 2013-05 -0.014700,\n",
       "              Beer\n",
       " 2018-08 -0.018600\n",
       " 2018-09  0.001900\n",
       " 2018-10 -0.015700\n",
       " 2018-11  0.057900\n",
       " 2018-12 -0.096900)"
      ]
     },
     "execution_count": 9,
     "metadata": {},
     "output_type": "execute_result"
    },
    {
     "data": {
      "text/plain": [
       "(72, 1)"
      ]
     },
     "execution_count": 9,
     "metadata": {},
     "output_type": "execute_result"
    }
   ],
   "source": [
    "ind49_rets = get_ind_returns2(weighting=\"vw\", n_inds=49)[\"2013\": \"2018\"][\"Beer\"].to_frame()\n",
    "ind49_rets.head(), ind49_rets.tail()\n",
    "ind49_rets.shape"
   ]
  },
  {
   "cell_type": "code",
   "execution_count": 10,
   "id": "42e62dc2-eb40-4a00-999d-076ee34a62b7",
   "metadata": {
    "tags": []
   },
   "outputs": [
    {
     "data": {
      "text/html": [
       "<table class=\"simpletable\">\n",
       "<caption>OLS Regression Results</caption>\n",
       "<tr>\n",
       "  <th>Dep. Variable:</th>          <td>Beer</td>       <th>  R-squared:         </th> <td>   0.313</td>\n",
       "</tr>\n",
       "<tr>\n",
       "  <th>Model:</th>                   <td>OLS</td>       <th>  Adj. R-squared:    </th> <td>   0.303</td>\n",
       "</tr>\n",
       "<tr>\n",
       "  <th>Method:</th>             <td>Least Squares</td>  <th>  F-statistic:       </th> <td>   31.87</td>\n",
       "</tr>\n",
       "<tr>\n",
       "  <th>Date:</th>             <td>Thu, 12 Oct 2023</td> <th>  Prob (F-statistic):</th> <td>3.27e-07</td>\n",
       "</tr>\n",
       "<tr>\n",
       "  <th>Time:</th>                 <td>19:18:28</td>     <th>  Log-Likelihood:    </th> <td>  155.66</td>\n",
       "</tr>\n",
       "<tr>\n",
       "  <th>No. Observations:</th>      <td>    72</td>      <th>  AIC:               </th> <td>  -307.3</td>\n",
       "</tr>\n",
       "<tr>\n",
       "  <th>Df Residuals:</th>          <td>    70</td>      <th>  BIC:               </th> <td>  -302.8</td>\n",
       "</tr>\n",
       "<tr>\n",
       "  <th>Df Model:</th>              <td>     1</td>      <th>                     </th>     <td> </td>   \n",
       "</tr>\n",
       "<tr>\n",
       "  <th>Covariance Type:</th>      <td>nonrobust</td>    <th>                     </th>     <td> </td>   \n",
       "</tr>\n",
       "</table>\n",
       "<table class=\"simpletable\">\n",
       "<tr>\n",
       "      <td></td>        <th>coef</th>     <th>std err</th>      <th>t</th>      <th>P>|t|</th>  <th>[0.025</th>    <th>0.975]</th>  \n",
       "</tr>\n",
       "<tr>\n",
       "  <th>Mkt-RF</th>   <td>    0.5860</td> <td>    0.104</td> <td>    5.645</td> <td> 0.000</td> <td>    0.379</td> <td>    0.793</td>\n",
       "</tr>\n",
       "<tr>\n",
       "  <th>Constant</th> <td>    0.0045</td> <td>    0.003</td> <td>    1.289</td> <td> 0.201</td> <td>   -0.002</td> <td>    0.011</td>\n",
       "</tr>\n",
       "</table>\n",
       "<table class=\"simpletable\">\n",
       "<tr>\n",
       "  <th>Omnibus:</th>       <td> 5.069</td> <th>  Durbin-Watson:     </th> <td>   2.196</td>\n",
       "</tr>\n",
       "<tr>\n",
       "  <th>Prob(Omnibus):</th> <td> 0.079</td> <th>  Jarque-Bera (JB):  </th> <td>   4.535</td>\n",
       "</tr>\n",
       "<tr>\n",
       "  <th>Skew:</th>          <td>-0.610</td> <th>  Prob(JB):          </th> <td>   0.104</td>\n",
       "</tr>\n",
       "<tr>\n",
       "  <th>Kurtosis:</th>      <td> 3.155</td> <th>  Cond. No.          </th> <td>    31.2</td>\n",
       "</tr>\n",
       "</table><br/><br/>Notes:<br/>[1] Standard Errors assume that the covariance matrix of the errors is correctly specified."
      ],
      "text/latex": [
       "\\begin{center}\n",
       "\\begin{tabular}{lclc}\n",
       "\\toprule\n",
       "\\textbf{Dep. Variable:}    &       Beer       & \\textbf{  R-squared:         } &     0.313   \\\\\n",
       "\\textbf{Model:}            &       OLS        & \\textbf{  Adj. R-squared:    } &     0.303   \\\\\n",
       "\\textbf{Method:}           &  Least Squares   & \\textbf{  F-statistic:       } &     31.87   \\\\\n",
       "\\textbf{Date:}             & Thu, 12 Oct 2023 & \\textbf{  Prob (F-statistic):} &  3.27e-07   \\\\\n",
       "\\textbf{Time:}             &     19:18:28     & \\textbf{  Log-Likelihood:    } &    155.66   \\\\\n",
       "\\textbf{No. Observations:} &          72      & \\textbf{  AIC:               } &    -307.3   \\\\\n",
       "\\textbf{Df Residuals:}     &          70      & \\textbf{  BIC:               } &    -302.8   \\\\\n",
       "\\textbf{Df Model:}         &           1      & \\textbf{                     } &             \\\\\n",
       "\\textbf{Covariance Type:}  &    nonrobust     & \\textbf{                     } &             \\\\\n",
       "\\bottomrule\n",
       "\\end{tabular}\n",
       "\\begin{tabular}{lcccccc}\n",
       "                  & \\textbf{coef} & \\textbf{std err} & \\textbf{t} & \\textbf{P$> |$t$|$} & \\textbf{[0.025} & \\textbf{0.975]}  \\\\\n",
       "\\midrule\n",
       "\\textbf{Mkt-RF}   &       0.5860  &        0.104     &     5.645  &         0.000        &        0.379    &        0.793     \\\\\n",
       "\\textbf{Constant} &       0.0045  &        0.003     &     1.289  &         0.201        &       -0.002    &        0.011     \\\\\n",
       "\\bottomrule\n",
       "\\end{tabular}\n",
       "\\begin{tabular}{lclc}\n",
       "\\textbf{Omnibus:}       &  5.069 & \\textbf{  Durbin-Watson:     } &    2.196  \\\\\n",
       "\\textbf{Prob(Omnibus):} &  0.079 & \\textbf{  Jarque-Bera (JB):  } &    4.535  \\\\\n",
       "\\textbf{Skew:}          & -0.610 & \\textbf{  Prob(JB):          } &    0.104  \\\\\n",
       "\\textbf{Kurtosis:}      &  3.155 & \\textbf{  Cond. No.          } &     31.2  \\\\\n",
       "\\bottomrule\n",
       "\\end{tabular}\n",
       "%\\caption{OLS Regression Results}\n",
       "\\end{center}\n",
       "\n",
       "Notes: \\newline\n",
       " [1] Standard Errors assume that the covariance matrix of the errors is correctly specified."
      ],
      "text/plain": [
       "<class 'statsmodels.iolib.summary.Summary'>\n",
       "\"\"\"\n",
       "                            OLS Regression Results                            \n",
       "==============================================================================\n",
       "Dep. Variable:                   Beer   R-squared:                       0.313\n",
       "Model:                            OLS   Adj. R-squared:                  0.303\n",
       "Method:                 Least Squares   F-statistic:                     31.87\n",
       "Date:                Thu, 12 Oct 2023   Prob (F-statistic):           3.27e-07\n",
       "Time:                        19:18:28   Log-Likelihood:                 155.66\n",
       "No. Observations:                  72   AIC:                            -307.3\n",
       "Df Residuals:                      70   BIC:                            -302.8\n",
       "Df Model:                           1                                         \n",
       "Covariance Type:            nonrobust                                         \n",
       "==============================================================================\n",
       "                 coef    std err          t      P>|t|      [0.025      0.975]\n",
       "------------------------------------------------------------------------------\n",
       "Mkt-RF         0.5860      0.104      5.645      0.000       0.379       0.793\n",
       "Constant       0.0045      0.003      1.289      0.201      -0.002       0.011\n",
       "==============================================================================\n",
       "Omnibus:                        5.069   Durbin-Watson:                   2.196\n",
       "Prob(Omnibus):                  0.079   Jarque-Bera (JB):                4.535\n",
       "Skew:                          -0.610   Prob(JB):                        0.104\n",
       "Kurtosis:                       3.155   Cond. No.                         31.2\n",
       "==============================================================================\n",
       "\n",
       "Notes:\n",
       "[1] Standard Errors assume that the covariance matrix of the errors is correctly specified.\n",
       "\"\"\""
      ]
     },
     "execution_count": 10,
     "metadata": {},
     "output_type": "execute_result"
    }
   ],
   "source": [
    "# let's use the CAPM model\n",
    "ind49_rets_excess = ind49_rets - fff.loc[\"2013\": \"2018\", [\"RF\"]].values\n",
    "mkt_excess =  fff.loc[\"2013\": \"2018\": , [\"Mkt-RF\"]]\n",
    "exp_var = mkt_excess.copy()\n",
    "exp_var[\"Constant\"] = 1\n",
    "lm = sm.OLS(ind49_rets_excess, exp_var).fit()\n",
    "lm.summary()"
   ]
  },
  {
   "cell_type": "code",
   "execution_count": 11,
   "id": "c651cec1-d557-45c7-b14c-b6e1f99bb652",
   "metadata": {
    "tags": []
   },
   "outputs": [
    {
     "data": {
      "text/plain": [
       "0.585960389056597"
      ]
     },
     "execution_count": 11,
     "metadata": {},
     "output_type": "execute_result"
    }
   ],
   "source": [
    "lm.params[0]"
   ]
  },
  {
   "cell_type": "code",
   "execution_count": 12,
   "id": "24db4f96-3423-4b28-8cd5-83bf20c9dd50",
   "metadata": {
    "tags": []
   },
   "outputs": [
    {
     "data": {
      "text/plain": [
       "(36, 49)"
      ]
     },
     "execution_count": 12,
     "metadata": {},
     "output_type": "execute_result"
    }
   ],
   "source": [
    "ind49_rets = get_ind_returns2(weighting=\"vw\", n_inds=49)[\"1991\": \"1993\"]\n",
    "ind49_rets.shape"
   ]
  },
  {
   "cell_type": "code",
   "execution_count": 13,
   "id": "0d272ca2-8c4d-47c7-ad4c-f7cb0976d8b8",
   "metadata": {
    "tags": []
   },
   "outputs": [
    {
     "data": {
      "text/plain": [
       "(0    Hlth\n",
       " dtype: object,\n",
       " 0    Gold\n",
       " dtype: object)"
      ]
     },
     "execution_count": 13,
     "metadata": {},
     "output_type": "execute_result"
    }
   ],
   "source": [
    "mkt_excess =  fff.loc[\"1991\": \"1993\": , [\"Mkt-RF\"]]\n",
    "exp_var = mkt_excess.copy()\n",
    "exp_var[\"Constant\"] = 1\n",
    "\n",
    "assets = {}\n",
    "for asset in ind49_rets.columns:\n",
    "    ret_asset = ind49_rets[asset].to_frame()\n",
    "    ret_asset_excess = ret_asset - fff.loc[\"1991\": \"1993\", [\"RF\"]].values\n",
    "    lm = sm.OLS(ret_asset_excess, exp_var).fit()\n",
    "    assets[asset] = [lm.params[0]]\n",
    "\n",
    "pd.DataFrame.from_dict(assets, orient=\"index\").idxmax(), pd.DataFrame.from_dict(assets, orient=\"index\").idxmin()"
   ]
  },
  {
   "cell_type": "code",
   "execution_count": 16,
   "id": "540ddd6e-9a5c-4685-b831-fba39b91590e",
   "metadata": {
    "tags": []
   },
   "outputs": [],
   "source": [
    "ind49_rets = get_ind_returns2(weighting=\"vw\", n_inds=49)[\"1991\": \"2018\"]"
   ]
  },
  {
   "cell_type": "code",
   "execution_count": 20,
   "id": "b8b58b1b-ac18-4169-a0f9-6347ea2d2d3f",
   "metadata": {
    "tags": []
   },
   "outputs": [
    {
     "data": {
      "text/html": [
       "<div>\n",
       "<style scoped>\n",
       "    .dataframe tbody tr th:only-of-type {\n",
       "        vertical-align: middle;\n",
       "    }\n",
       "\n",
       "    .dataframe tbody tr th {\n",
       "        vertical-align: top;\n",
       "    }\n",
       "\n",
       "    .dataframe thead th {\n",
       "        text-align: right;\n",
       "    }\n",
       "</style>\n",
       "<table border=\"1\" class=\"dataframe\">\n",
       "  <thead>\n",
       "    <tr style=\"text-align: right;\">\n",
       "      <th></th>\n",
       "      <th>Mkt-RF</th>\n",
       "      <th>SMB</th>\n",
       "      <th>HML</th>\n",
       "      <th>RF</th>\n",
       "    </tr>\n",
       "  </thead>\n",
       "  <tbody>\n",
       "    <tr>\n",
       "      <th>2018-08</th>\n",
       "      <td>0.034400</td>\n",
       "      <td>0.012300</td>\n",
       "      <td>-0.041200</td>\n",
       "      <td>0.001600</td>\n",
       "    </tr>\n",
       "    <tr>\n",
       "      <th>2018-09</th>\n",
       "      <td>0.000600</td>\n",
       "      <td>-0.023700</td>\n",
       "      <td>-0.013400</td>\n",
       "      <td>0.001500</td>\n",
       "    </tr>\n",
       "    <tr>\n",
       "      <th>2018-10</th>\n",
       "      <td>-0.076800</td>\n",
       "      <td>-0.046800</td>\n",
       "      <td>0.034100</td>\n",
       "      <td>0.001900</td>\n",
       "    </tr>\n",
       "    <tr>\n",
       "      <th>2018-11</th>\n",
       "      <td>0.016900</td>\n",
       "      <td>-0.007400</td>\n",
       "      <td>0.002000</td>\n",
       "      <td>0.001800</td>\n",
       "    </tr>\n",
       "    <tr>\n",
       "      <th>2018-12</th>\n",
       "      <td>-0.095500</td>\n",
       "      <td>-0.026100</td>\n",
       "      <td>-0.015100</td>\n",
       "      <td>0.001900</td>\n",
       "    </tr>\n",
       "  </tbody>\n",
       "</table>\n",
       "</div>"
      ],
      "text/plain": [
       "           Mkt-RF       SMB       HML       RF\n",
       "2018-08  0.034400  0.012300 -0.041200 0.001600\n",
       "2018-09  0.000600 -0.023700 -0.013400 0.001500\n",
       "2018-10 -0.076800 -0.046800  0.034100 0.001900\n",
       "2018-11  0.016900 -0.007400  0.002000 0.001800\n",
       "2018-12 -0.095500 -0.026100 -0.015100 0.001900"
      ]
     },
     "execution_count": 20,
     "metadata": {},
     "output_type": "execute_result"
    }
   ],
   "source": [
    "fff = get_fff_returns()\n",
    "fff.tail()"
   ]
  },
  {
   "cell_type": "code",
   "execution_count": 21,
   "id": "d9f5fdf2-fe84-4a94-abfc-4e60c089460e",
   "metadata": {
    "tags": []
   },
   "outputs": [
    {
     "data": {
      "text/html": [
       "<div>\n",
       "<style scoped>\n",
       "    .dataframe tbody tr th:only-of-type {\n",
       "        vertical-align: middle;\n",
       "    }\n",
       "\n",
       "    .dataframe tbody tr th {\n",
       "        vertical-align: top;\n",
       "    }\n",
       "\n",
       "    .dataframe thead th {\n",
       "        text-align: right;\n",
       "    }\n",
       "</style>\n",
       "<table border=\"1\" class=\"dataframe\">\n",
       "  <thead>\n",
       "    <tr style=\"text-align: right;\">\n",
       "      <th></th>\n",
       "      <th>Mkt-RF</th>\n",
       "      <th>Value</th>\n",
       "      <th>Size</th>\n",
       "      <th>Constant</th>\n",
       "    </tr>\n",
       "  </thead>\n",
       "  <tbody>\n",
       "    <tr>\n",
       "      <th>1991-01</th>\n",
       "      <td>0.046900</td>\n",
       "      <td>-0.018400</td>\n",
       "      <td>0.037900</td>\n",
       "      <td>1</td>\n",
       "    </tr>\n",
       "    <tr>\n",
       "      <th>1991-02</th>\n",
       "      <td>0.071900</td>\n",
       "      <td>-0.005400</td>\n",
       "      <td>0.039500</td>\n",
       "      <td>1</td>\n",
       "    </tr>\n",
       "    <tr>\n",
       "      <th>1991-03</th>\n",
       "      <td>0.026500</td>\n",
       "      <td>-0.012300</td>\n",
       "      <td>0.038900</td>\n",
       "      <td>1</td>\n",
       "    </tr>\n",
       "    <tr>\n",
       "      <th>1991-04</th>\n",
       "      <td>-0.002800</td>\n",
       "      <td>0.014200</td>\n",
       "      <td>0.005000</td>\n",
       "      <td>1</td>\n",
       "    </tr>\n",
       "    <tr>\n",
       "      <th>1991-05</th>\n",
       "      <td>0.036500</td>\n",
       "      <td>-0.005700</td>\n",
       "      <td>-0.003400</td>\n",
       "      <td>1</td>\n",
       "    </tr>\n",
       "  </tbody>\n",
       "</table>\n",
       "</div>"
      ],
      "text/plain": [
       "           Mkt-RF     Value      Size  Constant\n",
       "1991-01  0.046900 -0.018400  0.037900         1\n",
       "1991-02  0.071900 -0.005400  0.039500         1\n",
       "1991-03  0.026500 -0.012300  0.038900         1\n",
       "1991-04 -0.002800  0.014200  0.005000         1\n",
       "1991-05  0.036500 -0.005700 -0.003400         1"
      ]
     },
     "execution_count": 21,
     "metadata": {},
     "output_type": "execute_result"
    }
   ],
   "source": [
    "mkt_excess =  fff.loc[\"1991\": \"2018\": , [\"Mkt-RF\"]]\n",
    "exp_var = mkt_excess.copy()\n",
    "exp_var[\"Value\"] =  fff.loc[\"1991\": \"2018\" , [\"HML\"]]\n",
    "exp_var[\"Size\"] =  fff.loc[\"1991\": \"2018\" , [\"SMB\"]]\n",
    "exp_var[\"Constant\"] = 1\n",
    "exp_var.head()"
   ]
  },
  {
   "cell_type": "code",
   "execution_count": 52,
   "id": "0b67f515-5d9e-4985-b354-75808f50cef8",
   "metadata": {
    "tags": []
   },
   "outputs": [
    {
     "name": "stdout",
     "output_type": "stream",
     "text": [
      "        Mkt-RF    Value      Size  Constant\n",
      "Agric 0.684404 0.131897  0.165856  0.002848\n",
      "Food  0.558117 0.156536 -0.267873  0.002489\n",
      "Soda  0.817167 0.397642 -0.121587  0.003340\n",
      "Beer  0.590261 0.006329 -0.358655  0.004493\n",
      "Smoke 0.590791 0.266018 -0.307794  0.004717\n",
      "\n",
      "Highest Small Cap tilt: FabPr\n",
      "Highest Large Cap tilt: Beer\n",
      "Highest Value tilt: Txtls\n",
      "Highest Growth tilt: Softw\n"
     ]
    }
   ],
   "source": [
    "assets = {}\n",
    "for asset in ind49_rets.columns:\n",
    "    ret_asset = ind49_rets[asset].to_frame()\n",
    "    ret_asset_excess = ret_asset - fff.loc[\"1991\": \"2018\", [\"RF\"]].values\n",
    "    params = m.regress(ret_asset_excess, exp_var, alpha=False).params\n",
    "    assets[asset] = params\n",
    "\n",
    "data =  pd.DataFrame.from_dict(assets).T   \n",
    "    \n",
    "print(data.head())\n",
    "\n",
    "print()\n",
    "# highest Small Cap tilt\n",
    "print(f\"Highest Small Cap tilt: {data['Size'].idxmax()}\")\n",
    "# highest Large Cap tilt\n",
    "print(f\"Highest Large Cap tilt: {data['Size'].idxmin()}\")\n",
    "# highest Large Cap tilt\n",
    "print(f\"Highest Value tilt: {data['Value'].idxmax()}\")\n",
    "# highest Large Cap tilt\n",
    "print(f\"Highest Growth tilt: {data['Value'].idxmin()}\")"
   ]
  },
  {
   "cell_type": "code",
   "execution_count": null,
   "id": "817c3ef4-dbad-4841-bad4-c5f1c687c196",
   "metadata": {},
   "outputs": [],
   "source": []
  }
 ],
 "metadata": {
  "kernelspec": {
   "display_name": "Python (modern_ts)",
   "language": "python",
   "name": "modern_ts"
  },
  "language_info": {
   "codemirror_mode": {
    "name": "ipython",
    "version": 3
   },
   "file_extension": ".py",
   "mimetype": "text/x-python",
   "name": "python",
   "nbconvert_exporter": "python",
   "pygments_lexer": "ipython3",
   "version": "3.10.12"
  }
 },
 "nbformat": 4,
 "nbformat_minor": 5
}
