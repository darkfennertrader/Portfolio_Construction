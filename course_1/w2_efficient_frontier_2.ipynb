{
 "cells": [
  {
   "cell_type": "markdown",
   "id": "6228a662-1ceb-417a-be28-5052867fae72",
   "metadata": {},
   "source": [
    "## 2-ASSET EFFICIENT FRONTIER (Part II)"
   ]
  },
  {
   "cell_type": "code",
   "execution_count": 1,
   "id": "77b9f79f-52fa-4118-ad1b-079720023cde",
   "metadata": {
    "tags": []
   },
   "outputs": [],
   "source": [
    "# used during development to releoad modules every time there is a change\n",
    "%load_ext autoreload\n",
    "%autoreload 2\n",
    "import numpy as np\n",
    "import pandas as pd\n",
    "from scipy.stats import norm\n",
    "from risk_kit import Metrics, pre_processing_ind, plot_ef2\n",
    "pd.options.display.float_format = '{:.6f}'.format"
   ]
  },
  {
   "cell_type": "code",
   "execution_count": 2,
   "id": "dfe9a6c5-cf04-41b1-b835-26ef7f0bef56",
   "metadata": {
    "tags": []
   },
   "outputs": [
    {
     "data": {
      "text/html": [
       "<div>\n",
       "<style scoped>\n",
       "    .dataframe tbody tr th:only-of-type {\n",
       "        vertical-align: middle;\n",
       "    }\n",
       "\n",
       "    .dataframe tbody tr th {\n",
       "        vertical-align: top;\n",
       "    }\n",
       "\n",
       "    .dataframe thead th {\n",
       "        text-align: right;\n",
       "    }\n",
       "</style>\n",
       "<table border=\"1\" class=\"dataframe\">\n",
       "  <thead>\n",
       "    <tr style=\"text-align: right;\">\n",
       "      <th></th>\n",
       "      <th>Food</th>\n",
       "      <th>Beer</th>\n",
       "      <th>Smoke</th>\n",
       "      <th>Games</th>\n",
       "      <th>Books</th>\n",
       "      <th>Hshld</th>\n",
       "      <th>Clths</th>\n",
       "      <th>Hlth</th>\n",
       "      <th>Chems</th>\n",
       "      <th>Txtls</th>\n",
       "      <th>...</th>\n",
       "      <th>Telcm</th>\n",
       "      <th>Servs</th>\n",
       "      <th>BusEq</th>\n",
       "      <th>Paper</th>\n",
       "      <th>Trans</th>\n",
       "      <th>Whlsl</th>\n",
       "      <th>Rtail</th>\n",
       "      <th>Meals</th>\n",
       "      <th>Fin</th>\n",
       "      <th>Other</th>\n",
       "    </tr>\n",
       "  </thead>\n",
       "  <tbody>\n",
       "    <tr>\n",
       "      <th>1926-07</th>\n",
       "      <td>0.005600</td>\n",
       "      <td>-0.051900</td>\n",
       "      <td>0.012900</td>\n",
       "      <td>0.029300</td>\n",
       "      <td>0.109700</td>\n",
       "      <td>-0.004800</td>\n",
       "      <td>0.080800</td>\n",
       "      <td>0.017700</td>\n",
       "      <td>0.081400</td>\n",
       "      <td>0.003900</td>\n",
       "      <td>...</td>\n",
       "      <td>0.008300</td>\n",
       "      <td>0.092200</td>\n",
       "      <td>0.020600</td>\n",
       "      <td>0.077000</td>\n",
       "      <td>0.019300</td>\n",
       "      <td>-0.237900</td>\n",
       "      <td>0.000700</td>\n",
       "      <td>0.018700</td>\n",
       "      <td>0.003700</td>\n",
       "      <td>0.052000</td>\n",
       "    </tr>\n",
       "    <tr>\n",
       "      <th>1926-08</th>\n",
       "      <td>0.025900</td>\n",
       "      <td>0.270300</td>\n",
       "      <td>0.065000</td>\n",
       "      <td>0.005500</td>\n",
       "      <td>0.100100</td>\n",
       "      <td>-0.035800</td>\n",
       "      <td>-0.025100</td>\n",
       "      <td>0.042500</td>\n",
       "      <td>0.055000</td>\n",
       "      <td>0.081400</td>\n",
       "      <td>...</td>\n",
       "      <td>0.021700</td>\n",
       "      <td>0.020200</td>\n",
       "      <td>0.043900</td>\n",
       "      <td>-0.023800</td>\n",
       "      <td>0.048800</td>\n",
       "      <td>0.053900</td>\n",
       "      <td>-0.007500</td>\n",
       "      <td>-0.001300</td>\n",
       "      <td>0.044600</td>\n",
       "      <td>0.067600</td>\n",
       "    </tr>\n",
       "    <tr>\n",
       "      <th>1926-09</th>\n",
       "      <td>0.011600</td>\n",
       "      <td>0.040200</td>\n",
       "      <td>0.012600</td>\n",
       "      <td>0.065800</td>\n",
       "      <td>-0.009900</td>\n",
       "      <td>0.007300</td>\n",
       "      <td>-0.005100</td>\n",
       "      <td>0.006900</td>\n",
       "      <td>0.053300</td>\n",
       "      <td>0.023100</td>\n",
       "      <td>...</td>\n",
       "      <td>0.024100</td>\n",
       "      <td>0.022500</td>\n",
       "      <td>0.001900</td>\n",
       "      <td>-0.055400</td>\n",
       "      <td>0.000500</td>\n",
       "      <td>-0.078700</td>\n",
       "      <td>0.002500</td>\n",
       "      <td>-0.005600</td>\n",
       "      <td>-0.012300</td>\n",
       "      <td>-0.038600</td>\n",
       "    </tr>\n",
       "    <tr>\n",
       "      <th>1926-10</th>\n",
       "      <td>-0.030600</td>\n",
       "      <td>-0.033100</td>\n",
       "      <td>0.010600</td>\n",
       "      <td>-0.047600</td>\n",
       "      <td>0.094700</td>\n",
       "      <td>-0.046800</td>\n",
       "      <td>0.001200</td>\n",
       "      <td>-0.005700</td>\n",
       "      <td>-0.047600</td>\n",
       "      <td>0.010000</td>\n",
       "      <td>...</td>\n",
       "      <td>-0.001100</td>\n",
       "      <td>-0.020000</td>\n",
       "      <td>-0.010900</td>\n",
       "      <td>-0.050800</td>\n",
       "      <td>-0.026400</td>\n",
       "      <td>-0.153800</td>\n",
       "      <td>-0.022000</td>\n",
       "      <td>-0.041100</td>\n",
       "      <td>-0.051600</td>\n",
       "      <td>-0.084900</td>\n",
       "    </tr>\n",
       "    <tr>\n",
       "      <th>1926-11</th>\n",
       "      <td>0.063500</td>\n",
       "      <td>0.072900</td>\n",
       "      <td>0.045500</td>\n",
       "      <td>0.016600</td>\n",
       "      <td>-0.058000</td>\n",
       "      <td>-0.005400</td>\n",
       "      <td>0.018700</td>\n",
       "      <td>0.054200</td>\n",
       "      <td>0.052000</td>\n",
       "      <td>0.031100</td>\n",
       "      <td>...</td>\n",
       "      <td>0.016300</td>\n",
       "      <td>0.037700</td>\n",
       "      <td>0.036400</td>\n",
       "      <td>0.038400</td>\n",
       "      <td>0.016000</td>\n",
       "      <td>0.046700</td>\n",
       "      <td>0.065200</td>\n",
       "      <td>0.043300</td>\n",
       "      <td>0.022400</td>\n",
       "      <td>0.040000</td>\n",
       "    </tr>\n",
       "  </tbody>\n",
       "</table>\n",
       "<p>5 rows × 30 columns</p>\n",
       "</div>"
      ],
      "text/plain": [
       "             Food      Beer    Smoke     Games     Books     Hshld     Clths  \\\n",
       "1926-07  0.005600 -0.051900 0.012900  0.029300  0.109700 -0.004800  0.080800   \n",
       "1926-08  0.025900  0.270300 0.065000  0.005500  0.100100 -0.035800 -0.025100   \n",
       "1926-09  0.011600  0.040200 0.012600  0.065800 -0.009900  0.007300 -0.005100   \n",
       "1926-10 -0.030600 -0.033100 0.010600 -0.047600  0.094700 -0.046800  0.001200   \n",
       "1926-11  0.063500  0.072900 0.045500  0.016600 -0.058000 -0.005400  0.018700   \n",
       "\n",
       "             Hlth     Chems    Txtls  ...     Telcm     Servs     BusEq  \\\n",
       "1926-07  0.017700  0.081400 0.003900  ...  0.008300  0.092200  0.020600   \n",
       "1926-08  0.042500  0.055000 0.081400  ...  0.021700  0.020200  0.043900   \n",
       "1926-09  0.006900  0.053300 0.023100  ...  0.024100  0.022500  0.001900   \n",
       "1926-10 -0.005700 -0.047600 0.010000  ... -0.001100 -0.020000 -0.010900   \n",
       "1926-11  0.054200  0.052000 0.031100  ...  0.016300  0.037700  0.036400   \n",
       "\n",
       "            Paper     Trans     Whlsl     Rtail     Meals       Fin     Other  \n",
       "1926-07  0.077000  0.019300 -0.237900  0.000700  0.018700  0.003700  0.052000  \n",
       "1926-08 -0.023800  0.048800  0.053900 -0.007500 -0.001300  0.044600  0.067600  \n",
       "1926-09 -0.055400  0.000500 -0.078700  0.002500 -0.005600 -0.012300 -0.038600  \n",
       "1926-10 -0.050800 -0.026400 -0.153800 -0.022000 -0.041100 -0.051600 -0.084900  \n",
       "1926-11  0.038400  0.016000  0.046700  0.065200  0.043300  0.022400  0.040000  \n",
       "\n",
       "[5 rows x 30 columns]"
      ]
     },
     "execution_count": 2,
     "metadata": {},
     "output_type": "execute_result"
    }
   ],
   "source": [
    "ind = pre_processing_ind()\n",
    "ind.head()"
   ]
  },
  {
   "cell_type": "code",
   "execution_count": 3,
   "id": "2b78d691-fc4e-40dd-9fe5-da251c5f2d35",
   "metadata": {
    "tags": []
   },
   "outputs": [],
   "source": [
    "metrics= Metrics()"
   ]
  },
  {
   "cell_type": "code",
   "execution_count": 4,
   "id": "d81cfb85-a0aa-4575-91b7-381f824b875b",
   "metadata": {
    "tags": []
   },
   "outputs": [],
   "source": [
    "ind[\"1996\":\"2000\"].agg(metrics.annualized_rets)\n",
    "cov = ind[\"1996\":\"2000\"].cov()"
   ]
  },
  {
   "cell_type": "code",
   "execution_count": 5,
   "id": "c3eaf3ae-b5ae-4845-a890-b592bf26a062",
   "metadata": {
    "tags": []
   },
   "outputs": [
    {
     "data": {
      "text/html": [
       "<div>\n",
       "<style scoped>\n",
       "    .dataframe tbody tr th:only-of-type {\n",
       "        vertical-align: middle;\n",
       "    }\n",
       "\n",
       "    .dataframe tbody tr th {\n",
       "        vertical-align: top;\n",
       "    }\n",
       "\n",
       "    .dataframe thead th {\n",
       "        text-align: right;\n",
       "    }\n",
       "</style>\n",
       "<table border=\"1\" class=\"dataframe\">\n",
       "  <thead>\n",
       "    <tr style=\"text-align: right;\">\n",
       "      <th></th>\n",
       "      <th>Food</th>\n",
       "      <th>Beer</th>\n",
       "      <th>Smoke</th>\n",
       "      <th>Coal</th>\n",
       "    </tr>\n",
       "  </thead>\n",
       "  <tbody>\n",
       "    <tr>\n",
       "      <th>1996-01</th>\n",
       "      <td>0.034200</td>\n",
       "      <td>0.032600</td>\n",
       "      <td>0.018200</td>\n",
       "      <td>-0.023400</td>\n",
       "    </tr>\n",
       "    <tr>\n",
       "      <th>1996-02</th>\n",
       "      <td>0.016200</td>\n",
       "      <td>0.056100</td>\n",
       "      <td>0.031800</td>\n",
       "      <td>0.018200</td>\n",
       "    </tr>\n",
       "    <tr>\n",
       "      <th>1996-03</th>\n",
       "      <td>-0.038200</td>\n",
       "      <td>0.019000</td>\n",
       "      <td>-0.076800</td>\n",
       "      <td>0.045300</td>\n",
       "    </tr>\n",
       "    <tr>\n",
       "      <th>1996-04</th>\n",
       "      <td>-0.003200</td>\n",
       "      <td>-0.008900</td>\n",
       "      <td>-0.016000</td>\n",
       "      <td>0.006400</td>\n",
       "    </tr>\n",
       "    <tr>\n",
       "      <th>1996-05</th>\n",
       "      <td>0.055000</td>\n",
       "      <td>0.096900</td>\n",
       "      <td>0.054800</td>\n",
       "      <td>0.157300</td>\n",
       "    </tr>\n",
       "  </tbody>\n",
       "</table>\n",
       "</div>"
      ],
      "text/plain": [
       "             Food      Beer     Smoke      Coal\n",
       "1996-01  0.034200  0.032600  0.018200 -0.023400\n",
       "1996-02  0.016200  0.056100  0.031800  0.018200\n",
       "1996-03 -0.038200  0.019000 -0.076800  0.045300\n",
       "1996-04 -0.003200 -0.008900 -0.016000  0.006400\n",
       "1996-05  0.055000  0.096900  0.054800  0.157300"
      ]
     },
     "execution_count": 5,
     "metadata": {},
     "output_type": "execute_result"
    }
   ],
   "source": [
    "l = [\"Food\", \"Beer\", \"Smoke\", \"Coal\"]\n",
    "asset_to_invest= ind[\"1996\":\"2000\"][l]\n",
    "asset_to_invest.head()"
   ]
  },
  {
   "cell_type": "code",
   "execution_count": 6,
   "id": "ffad1502-8739-46f9-a655-cc77ff85da7d",
   "metadata": {
    "tags": []
   },
   "outputs": [
    {
     "data": {
      "text/plain": [
       "Food    0.116799\n",
       "Beer    0.141126\n",
       "Smoke   0.107830\n",
       "Coal    0.414689\n",
       "dtype: float64"
      ]
     },
     "execution_count": 6,
     "metadata": {},
     "output_type": "execute_result"
    }
   ],
   "source": [
    "# Calculating vector of of Returns\n",
    "returns = asset_to_invest.agg(metrics.annualized_rets)\n",
    "returns"
   ]
  },
  {
   "cell_type": "code",
   "execution_count": 7,
   "id": "175c0af9-a52e-4be1-b1e0-04119d3398e9",
   "metadata": {
    "tags": []
   },
   "outputs": [
    {
     "data": {
      "text/plain": [
       "pandas.core.series.Series"
      ]
     },
     "execution_count": 7,
     "metadata": {},
     "output_type": "execute_result"
    }
   ],
   "source": [
    "type(returns)"
   ]
  },
  {
   "cell_type": "code",
   "execution_count": 8,
   "id": "c7536a94-8e8d-4644-84c9-8443d745a393",
   "metadata": {
    "tags": []
   },
   "outputs": [
    {
     "data": {
      "text/html": [
       "<div>\n",
       "<style scoped>\n",
       "    .dataframe tbody tr th:only-of-type {\n",
       "        vertical-align: middle;\n",
       "    }\n",
       "\n",
       "    .dataframe tbody tr th {\n",
       "        vertical-align: top;\n",
       "    }\n",
       "\n",
       "    .dataframe thead th {\n",
       "        text-align: right;\n",
       "    }\n",
       "</style>\n",
       "<table border=\"1\" class=\"dataframe\">\n",
       "  <thead>\n",
       "    <tr style=\"text-align: right;\">\n",
       "      <th></th>\n",
       "      <th>Food</th>\n",
       "      <th>Beer</th>\n",
       "      <th>Smoke</th>\n",
       "      <th>Coal</th>\n",
       "    </tr>\n",
       "  </thead>\n",
       "  <tbody>\n",
       "    <tr>\n",
       "      <th>Food</th>\n",
       "      <td>0.002609</td>\n",
       "      <td>0.002379</td>\n",
       "      <td>0.002061</td>\n",
       "      <td>0.000027</td>\n",
       "    </tr>\n",
       "    <tr>\n",
       "      <th>Beer</th>\n",
       "      <td>0.002379</td>\n",
       "      <td>0.005264</td>\n",
       "      <td>0.001359</td>\n",
       "      <td>0.001728</td>\n",
       "    </tr>\n",
       "    <tr>\n",
       "      <th>Smoke</th>\n",
       "      <td>0.002061</td>\n",
       "      <td>0.001359</td>\n",
       "      <td>0.008349</td>\n",
       "      <td>-0.000733</td>\n",
       "    </tr>\n",
       "    <tr>\n",
       "      <th>Coal</th>\n",
       "      <td>0.000027</td>\n",
       "      <td>0.001728</td>\n",
       "      <td>-0.000733</td>\n",
       "      <td>0.018641</td>\n",
       "    </tr>\n",
       "  </tbody>\n",
       "</table>\n",
       "</div>"
      ],
      "text/plain": [
       "          Food     Beer     Smoke      Coal\n",
       "Food  0.002609 0.002379  0.002061  0.000027\n",
       "Beer  0.002379 0.005264  0.001359  0.001728\n",
       "Smoke 0.002061 0.001359  0.008349 -0.000733\n",
       "Coal  0.000027 0.001728 -0.000733  0.018641"
      ]
     },
     "execution_count": 8,
     "metadata": {},
     "output_type": "execute_result"
    }
   ],
   "source": [
    "cov.loc[l,l]"
   ]
  },
  {
   "cell_type": "code",
   "execution_count": 9,
   "id": "9e424f21-7a8e-45e8-9635-a2b56037b8be",
   "metadata": {
    "tags": []
   },
   "outputs": [
    {
     "data": {
      "text/plain": [
       "array([0.25, 0.25, 0.25, 0.25])"
      ]
     },
     "execution_count": 9,
     "metadata": {},
     "output_type": "execute_result"
    }
   ],
   "source": [
    "weights= np.repeat(1/4, 4)\n",
    "weights"
   ]
  },
  {
   "cell_type": "code",
   "execution_count": 10,
   "id": "f8908176-b85d-4186-b314-5f3b010f329a",
   "metadata": {
    "tags": []
   },
   "outputs": [
    {
     "data": {
      "text/plain": [
       "(numpy.ndarray, pandas.core.frame.DataFrame)"
      ]
     },
     "execution_count": 10,
     "metadata": {},
     "output_type": "execute_result"
    }
   ],
   "source": [
    "type(weights), type(cov.loc[l,l])"
   ]
  },
  {
   "cell_type": "code",
   "execution_count": 11,
   "id": "34f8e96d-d483-4a86-b2d0-1bb43d56d434",
   "metadata": {
    "tags": []
   },
   "outputs": [
    {
     "data": {
      "text/plain": [
       "0.19511097196038385"
      ]
     },
     "execution_count": 11,
     "metadata": {},
     "output_type": "execute_result"
    }
   ],
   "source": [
    "metrics.portfolio_return(weights, returns)"
   ]
  },
  {
   "cell_type": "code",
   "execution_count": 12,
   "id": "e39ee341-1fb9-4398-a33b-cad81ab49013",
   "metadata": {
    "tags": []
   },
   "outputs": [
    {
     "data": {
      "text/plain": [
       "0.055059195776437045"
      ]
     },
     "execution_count": 12,
     "metadata": {},
     "output_type": "execute_result"
    }
   ],
   "source": [
    "metrics.portfolio_vol(weights, cov.loc[l,l])"
   ]
  },
  {
   "cell_type": "markdown",
   "id": "2135a969-80c9-4024-8da1-3c6430f10766",
   "metadata": {},
   "source": [
    "#### Two Asset Frontier"
   ]
  },
  {
   "cell_type": "code",
   "execution_count": 13,
   "id": "b57ab425-a8d3-4c98-98a1-6ee3d7692a7c",
   "metadata": {
    "tags": []
   },
   "outputs": [
    {
     "data": {
      "text/html": [
       "<div>\n",
       "<style scoped>\n",
       "    .dataframe tbody tr th:only-of-type {\n",
       "        vertical-align: middle;\n",
       "    }\n",
       "\n",
       "    .dataframe tbody tr th {\n",
       "        vertical-align: top;\n",
       "    }\n",
       "\n",
       "    .dataframe thead th {\n",
       "        text-align: right;\n",
       "    }\n",
       "</style>\n",
       "<table border=\"1\" class=\"dataframe\">\n",
       "  <thead>\n",
       "    <tr style=\"text-align: right;\">\n",
       "      <th></th>\n",
       "      <th>Games</th>\n",
       "      <th>Fin</th>\n",
       "    </tr>\n",
       "  </thead>\n",
       "  <tbody>\n",
       "    <tr>\n",
       "      <th>1996-01</th>\n",
       "      <td>0.046900</td>\n",
       "      <td>0.039300</td>\n",
       "    </tr>\n",
       "    <tr>\n",
       "      <th>1996-02</th>\n",
       "      <td>0.017900</td>\n",
       "      <td>0.021300</td>\n",
       "    </tr>\n",
       "    <tr>\n",
       "      <th>1996-03</th>\n",
       "      <td>0.010800</td>\n",
       "      <td>0.009600</td>\n",
       "    </tr>\n",
       "    <tr>\n",
       "      <th>1996-04</th>\n",
       "      <td>0.023700</td>\n",
       "      <td>-0.010800</td>\n",
       "    </tr>\n",
       "    <tr>\n",
       "      <th>1996-05</th>\n",
       "      <td>0.027900</td>\n",
       "      <td>0.014100</td>\n",
       "    </tr>\n",
       "  </tbody>\n",
       "</table>\n",
       "</div>"
      ],
      "text/plain": [
       "           Games       Fin\n",
       "1996-01 0.046900  0.039300\n",
       "1996-02 0.017900  0.021300\n",
       "1996-03 0.010800  0.009600\n",
       "1996-04 0.023700 -0.010800\n",
       "1996-05 0.027900  0.014100"
      ]
     },
     "execution_count": 13,
     "metadata": {},
     "output_type": "execute_result"
    }
   ],
   "source": [
    "l = [\"Games\", \"Fin\"]\n",
    "two_asset_portfolio= ind[\"1996\":\"2000\"][l]\n",
    "two_asset_portfolio.head()"
   ]
  },
  {
   "cell_type": "code",
   "execution_count": 14,
   "id": "f156ce56-f25d-4406-bbf1-3e8acc2a814b",
   "metadata": {
    "tags": []
   },
   "outputs": [
    {
     "data": {
      "text/plain": [
       "Games   0.068212\n",
       "Fin     0.223371\n",
       "dtype: float64"
      ]
     },
     "execution_count": 14,
     "metadata": {},
     "output_type": "execute_result"
    }
   ],
   "source": [
    "returns = two_asset_portfolio.agg(metrics.annualized_rets)\n",
    "returns"
   ]
  },
  {
   "cell_type": "code",
   "execution_count": 15,
   "id": "f304980f-0e7d-47dc-84ab-07c9e6908e6a",
   "metadata": {
    "tags": []
   },
   "outputs": [
    {
     "data": {
      "text/plain": [
       "[array([0., 1.]),\n",
       " array([0.05263158, 0.94736842]),\n",
       " array([0.10526316, 0.89473684]),\n",
       " array([0.15789474, 0.84210526]),\n",
       " array([0.21052632, 0.78947368]),\n",
       " array([0.26315789, 0.73684211]),\n",
       " array([0.31578947, 0.68421053]),\n",
       " array([0.36842105, 0.63157895]),\n",
       " array([0.42105263, 0.57894737]),\n",
       " array([0.47368421, 0.52631579]),\n",
       " array([0.52631579, 0.47368421]),\n",
       " array([0.57894737, 0.42105263]),\n",
       " array([0.63157895, 0.36842105]),\n",
       " array([0.68421053, 0.31578947]),\n",
       " array([0.73684211, 0.26315789]),\n",
       " array([0.78947368, 0.21052632]),\n",
       " array([0.84210526, 0.15789474]),\n",
       " array([0.89473684, 0.10526316]),\n",
       " array([0.94736842, 0.05263158]),\n",
       " array([1., 0.])]"
      ]
     },
     "execution_count": 15,
     "metadata": {},
     "output_type": "execute_result"
    }
   ],
   "source": [
    "n_points = 20\n",
    "weights = [np.array([w, 1-w]) for  w in np.linspace(0, 1, n_points)]\n",
    "weights"
   ]
  },
  {
   "cell_type": "code",
   "execution_count": 16,
   "id": "bf4d6f76-2268-4516-a9e0-f2c74ddd9f70",
   "metadata": {
    "tags": []
   },
   "outputs": [],
   "source": [
    "rets = [metrics.portfolio_return(w, returns) for w in weights]\n",
    "vols = [metrics.portfolio_vol(w, cov.loc[l,l]) for w in weights]"
   ]
  },
  {
   "cell_type": "code",
   "execution_count": 17,
   "id": "2fe4b44b-bda2-4a78-92d2-96d360da6761",
   "metadata": {
    "tags": []
   },
   "outputs": [],
   "source": [
    "#eff_frontier = pd.DataFrame({\"R\": rets, \"Vol\": vols})"
   ]
  },
  {
   "cell_type": "code",
   "execution_count": 18,
   "id": "ee67cf6a-b084-4c5d-988e-915bc6489338",
   "metadata": {
    "tags": []
   },
   "outputs": [],
   "source": [
    "#eff_frontier.plot.line(x=\"Vol\", y=\"R\", style=\".-\");"
   ]
  },
  {
   "cell_type": "code",
   "execution_count": 19,
   "id": "9de9cf87-edb6-47b0-ac7c-9a090d785169",
   "metadata": {
    "tags": []
   },
   "outputs": [
    {
     "data": {
      "image/png": "[encoded data removed]",
      "text/plain": [
       "<Figure size 1000x600 with 1 Axes>"
      ]
     },
     "metadata": {},
     "output_type": "display_data"
    }
   ],
   "source": [
    "plot_ef2(metrics, 20, returns, cov.loc[l,l])"
   ]
  }
 ],
 "metadata": {
  "kernelspec": {
   "display_name": "Python (modern_ts)",
   "language": "python",
   "name": "modern_ts"
  },
  "language_info": {
   "codemirror_mode": {
    "name": "ipython",
    "version": 3
   },
   "file_extension": ".py",
   "mimetype": "text/x-python",
   "name": "python",
   "nbconvert_exporter": "python",
   "pygments_lexer": "ipython3",
   "version": "3.10.12"
  }
 },
 "nbformat": 4,
 "nbformat_minor": 5
}
