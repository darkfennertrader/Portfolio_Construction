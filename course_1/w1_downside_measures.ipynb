{
 "cells": [
  {
   "cell_type": "markdown",
   "id": "5e7aa311-eeff-4d42-acd7-26486d48436a",
   "metadata": {},
   "source": [
    "# Downside Risk"
   ]
  },
  {
   "cell_type": "code",
   "execution_count": 1,
   "id": "ebad5ad9-df85-47b5-9c93-69388f8ccf7a",
   "metadata": {
    "tags": []
   },
   "outputs": [],
   "source": [
    "# used during development to releoad modules every time there is a change\n",
    "%load_ext autoreload\n",
    "%autoreload 2\n",
    "import numpy as np\n",
    "import pandas as pd\n",
    "\n",
    "from scipy.stats import norm\n",
    "from risk_kit import Metrics, pre_processing_hfi\n",
    "pd.options.display.float_format = '{:.6f}'.format"
   ]
  },
  {
   "cell_type": "code",
   "execution_count": 2,
   "id": "707db78a-37a3-4efe-8de0-7b258d28b981",
   "metadata": {
    "tags": []
   },
   "outputs": [
    {
     "name": "stderr",
     "output_type": "stream",
     "text": [
      "/home/solidsnake/trading/portfolio_construction/risk_kit.py:11: UserWarning: Parsing dates in DD/MM/YYYY format when dayfirst=False (the default) was specified. This may lead to inconsistently parsed dates! Specify a format to ensure consistent parsing.\n",
      "  hfi = pd.read_csv(\"data/edhec-hedgefundindices.csv\", header=0, index_col=0, parse_dates=True)\n"
     ]
    },
    {
     "data": {
      "text/html": [
       "<div>\n",
       "<style scoped>\n",
       "    .dataframe tbody tr th:only-of-type {\n",
       "        vertical-align: middle;\n",
       "    }\n",
       "\n",
       "    .dataframe tbody tr th {\n",
       "        vertical-align: top;\n",
       "    }\n",
       "\n",
       "    .dataframe thead th {\n",
       "        text-align: right;\n",
       "    }\n",
       "</style>\n",
       "<table border=\"1\" class=\"dataframe\">\n",
       "  <thead>\n",
       "    <tr style=\"text-align: right;\">\n",
       "      <th></th>\n",
       "      <th>Convertible Arbitrage</th>\n",
       "      <th>CTA Global</th>\n",
       "      <th>Distressed Securities</th>\n",
       "      <th>Emerging Markets</th>\n",
       "      <th>Equity Market Neutral</th>\n",
       "      <th>Event Driven</th>\n",
       "      <th>Fixed Income Arbitrage</th>\n",
       "      <th>Global Macro</th>\n",
       "      <th>Long/Short Equity</th>\n",
       "      <th>Merger Arbitrage</th>\n",
       "      <th>Relative Value</th>\n",
       "      <th>Short Selling</th>\n",
       "      <th>Funds Of Funds</th>\n",
       "    </tr>\n",
       "    <tr>\n",
       "      <th>date</th>\n",
       "      <th></th>\n",
       "      <th></th>\n",
       "      <th></th>\n",
       "      <th></th>\n",
       "      <th></th>\n",
       "      <th></th>\n",
       "      <th></th>\n",
       "      <th></th>\n",
       "      <th></th>\n",
       "      <th></th>\n",
       "      <th></th>\n",
       "      <th></th>\n",
       "      <th></th>\n",
       "    </tr>\n",
       "  </thead>\n",
       "  <tbody>\n",
       "    <tr>\n",
       "      <th>2018-07</th>\n",
       "      <td>0.002100</td>\n",
       "      <td>-0.005800</td>\n",
       "      <td>0.009300</td>\n",
       "      <td>0.004000</td>\n",
       "      <td>-0.001000</td>\n",
       "      <td>0.005500</td>\n",
       "      <td>0.002200</td>\n",
       "      <td>-0.001400</td>\n",
       "      <td>0.006700</td>\n",
       "      <td>-0.002100</td>\n",
       "      <td>0.004500</td>\n",
       "      <td>-0.005200</td>\n",
       "      <td>0.001800</td>\n",
       "    </tr>\n",
       "    <tr>\n",
       "      <th>2018-08</th>\n",
       "      <td>0.002400</td>\n",
       "      <td>0.016600</td>\n",
       "      <td>0.000200</td>\n",
       "      <td>-0.027700</td>\n",
       "      <td>0.000400</td>\n",
       "      <td>0.001100</td>\n",
       "      <td>0.001700</td>\n",
       "      <td>-0.000700</td>\n",
       "      <td>0.003500</td>\n",
       "      <td>0.005000</td>\n",
       "      <td>-0.000200</td>\n",
       "      <td>-0.021400</td>\n",
       "      <td>0.001500</td>\n",
       "    </tr>\n",
       "    <tr>\n",
       "      <th>2018-09</th>\n",
       "      <td>0.003400</td>\n",
       "      <td>-0.005400</td>\n",
       "      <td>0.005000</td>\n",
       "      <td>-0.011000</td>\n",
       "      <td>-0.001600</td>\n",
       "      <td>0.003200</td>\n",
       "      <td>0.003600</td>\n",
       "      <td>0.000600</td>\n",
       "      <td>-0.002300</td>\n",
       "      <td>0.002800</td>\n",
       "      <td>0.001800</td>\n",
       "      <td>0.003600</td>\n",
       "      <td>-0.002200</td>\n",
       "    </tr>\n",
       "    <tr>\n",
       "      <th>2018-10</th>\n",
       "      <td>-0.007300</td>\n",
       "      <td>-0.031400</td>\n",
       "      <td>-0.015800</td>\n",
       "      <td>-0.031500</td>\n",
       "      <td>-0.012900</td>\n",
       "      <td>-0.025700</td>\n",
       "      <td>-0.002300</td>\n",
       "      <td>-0.009600</td>\n",
       "      <td>-0.040200</td>\n",
       "      <td>-0.008000</td>\n",
       "      <td>-0.010900</td>\n",
       "      <td>0.023700</td>\n",
       "      <td>-0.026900</td>\n",
       "    </tr>\n",
       "    <tr>\n",
       "      <th>2018-11</th>\n",
       "      <td>-0.006800</td>\n",
       "      <td>-0.005300</td>\n",
       "      <td>-0.019300</td>\n",
       "      <td>0.012000</td>\n",
       "      <td>-0.021100</td>\n",
       "      <td>-0.003400</td>\n",
       "      <td>-0.006700</td>\n",
       "      <td>-0.008700</td>\n",
       "      <td>-0.004400</td>\n",
       "      <td>0.011900</td>\n",
       "      <td>-0.006300</td>\n",
       "      <td>-0.002100</td>\n",
       "      <td>-0.007100</td>\n",
       "    </tr>\n",
       "  </tbody>\n",
       "</table>\n",
       "</div>"
      ],
      "text/plain": [
       "         Convertible Arbitrage  CTA Global  Distressed Securities  \\\n",
       "date                                                                \n",
       "2018-07               0.002100   -0.005800               0.009300   \n",
       "2018-08               0.002400    0.016600               0.000200   \n",
       "2018-09               0.003400   -0.005400               0.005000   \n",
       "2018-10              -0.007300   -0.031400              -0.015800   \n",
       "2018-11              -0.006800   -0.005300              -0.019300   \n",
       "\n",
       "         Emerging Markets  Equity Market Neutral  Event Driven  \\\n",
       "date                                                             \n",
       "2018-07          0.004000              -0.001000      0.005500   \n",
       "2018-08         -0.027700               0.000400      0.001100   \n",
       "2018-09         -0.011000              -0.001600      0.003200   \n",
       "2018-10         -0.031500              -0.012900     -0.025700   \n",
       "2018-11          0.012000              -0.021100     -0.003400   \n",
       "\n",
       "         Fixed Income Arbitrage  Global Macro  Long/Short Equity  \\\n",
       "date                                                               \n",
       "2018-07                0.002200     -0.001400           0.006700   \n",
       "2018-08                0.001700     -0.000700           0.003500   \n",
       "2018-09                0.003600      0.000600          -0.002300   \n",
       "2018-10               -0.002300     -0.009600          -0.040200   \n",
       "2018-11               -0.006700     -0.008700          -0.004400   \n",
       "\n",
       "         Merger Arbitrage  Relative Value  Short Selling  Funds Of Funds  \n",
       "date                                                                      \n",
       "2018-07         -0.002100        0.004500      -0.005200        0.001800  \n",
       "2018-08          0.005000       -0.000200      -0.021400        0.001500  \n",
       "2018-09          0.002800        0.001800       0.003600       -0.002200  \n",
       "2018-10         -0.008000       -0.010900       0.023700       -0.026900  \n",
       "2018-11          0.011900       -0.006300      -0.002100       -0.007100  "
      ]
     },
     "execution_count": 2,
     "metadata": {},
     "output_type": "execute_result"
    }
   ],
   "source": [
    "hfi = pre_processing_hfi()\n",
    "hfi = hfi[\"2009\":\"2018\"]\n",
    "#print(hfi.head()\n",
    "hfi.tail()"
   ]
  },
  {
   "cell_type": "code",
   "execution_count": 3,
   "id": "14c22765-113d-4f36-934a-fd8bec05c9e3",
   "metadata": {
    "tags": []
   },
   "outputs": [
    {
     "data": {
      "text/plain": [
       "Convertible Arbitrage    0.006681\n",
       "CTA Global               0.010996\n",
       "Distressed Securities    0.009498\n",
       "Emerging Markets         0.015276\n",
       "Equity Market Neutral    0.005186\n",
       "Event Driven             0.010135\n",
       "Fixed Income Arbitrage   0.003321\n",
       "Global Macro             0.005075\n",
       "Long/Short Equity        0.012139\n",
       "Merger Arbitrage         0.003611\n",
       "Relative Value           0.005711\n",
       "Short Selling            0.021240\n",
       "Funds Of Funds           0.007948\n",
       "dtype: float64"
      ]
     },
     "execution_count": 3,
     "metadata": {},
     "output_type": "execute_result"
    }
   ],
   "source": [
    "# semi deviation\n",
    "hfi[hfi<0].std(ddof=0)"
   ]
  },
  {
   "cell_type": "code",
   "execution_count": 4,
   "id": "5dff645a-c111-4efd-b584-4277f29fce38",
   "metadata": {
    "tags": []
   },
   "outputs": [],
   "source": [
    "metrics = Metrics(starting_amount=1)"
   ]
  },
  {
   "cell_type": "code",
   "execution_count": 5,
   "id": "8ff84aeb-e506-4a34-973a-7a644cc1710e",
   "metadata": {
    "tags": []
   },
   "outputs": [
    {
     "data": {
      "text/plain": [
       "Fixed Income Arbitrage   0.003321\n",
       "Merger Arbitrage         0.003611\n",
       "Global Macro             0.005075\n",
       "Equity Market Neutral    0.005186\n",
       "Relative Value           0.005711\n",
       "Convertible Arbitrage    0.006681\n",
       "Funds Of Funds           0.007948\n",
       "Distressed Securities    0.009498\n",
       "Event Driven             0.010135\n",
       "CTA Global               0.010996\n",
       "Long/Short Equity        0.012139\n",
       "Emerging Markets         0.015276\n",
       "Short Selling            0.021240\n",
       "dtype: float64"
      ]
     },
     "execution_count": 5,
     "metadata": {},
     "output_type": "execute_result"
    }
   ],
   "source": [
    "hfi.agg(metrics.semideviation_daily_ret).sort_values()"
   ]
  },
  {
   "cell_type": "code",
   "execution_count": 6,
   "id": "03f25bcb-cac1-41e7-912d-9ffb922b94ae",
   "metadata": {
    "tags": []
   },
   "outputs": [
    {
     "data": {
      "text/plain": [
       "Fixed Income Arbitrage   0.006490\n",
       "Equity Market Neutral    0.007202\n",
       "Merger Arbitrage         0.007640\n",
       "Relative Value           0.009502\n",
       "Global Macro             0.009689\n",
       "Convertible Arbitrage    0.010382\n",
       "Funds Of Funds           0.012246\n",
       "Event Driven             0.015833\n",
       "Distressed Securities    0.016712\n",
       "Long/Short Equity        0.018519\n",
       "CTA Global               0.019215\n",
       "Emerging Markets         0.023606\n",
       "Short Selling            0.031207\n",
       "dtype: float64"
      ]
     },
     "execution_count": 6,
     "metadata": {},
     "output_type": "execute_result"
    }
   ],
   "source": [
    "hfi.agg(metrics.semideviation).sort_values()"
   ]
  },
  {
   "cell_type": "markdown",
   "id": "82485053-6ba9-4a11-bfe5-f5c0b60e16ae",
   "metadata": {
    "tags": []
   },
   "source": [
    "### Var and CVaR\n",
    "- Historic VaR\n",
    "- Gaussian Parametric VaR\n",
    "- Modified Cornish-Fisher VaR"
   ]
  },
  {
   "cell_type": "code",
   "execution_count": 7,
   "id": "028b7878-7777-43f8-96f6-bd52bcc43610",
   "metadata": {},
   "outputs": [
    {
     "data": {
      "text/plain": [
       "array([-0.00966, -0.02812, -0.01936, -0.03273, -0.0077 , -0.02498,\n",
       "       -0.00548, -0.01321, -0.02385, -0.00791, -0.01021, -0.0654 ,\n",
       "       -0.01786])"
      ]
     },
     "execution_count": 7,
     "metadata": {},
     "output_type": "execute_result"
    }
   ],
   "source": [
    "np.percentile(hfi, 5,axis=0)"
   ]
  },
  {
   "cell_type": "code",
   "execution_count": 8,
   "id": "c6b6fe4e-e339-41c5-9eb9-676baec00905",
   "metadata": {
    "tags": []
   },
   "outputs": [],
   "source": [
    "def historical_var(data: pd.Series | pd.DataFrame, level=5):\n",
    "    \"\"\"\n",
    "    computes VaR based on historical data over the data frequency.\n",
    "    There is a 5% (level=5) you are going to lose the \"calculated amount\" in a certain period\n",
    "    (given by the data frequency)\n",
    "    \"\"\"\n",
    "    if isinstance(data, pd.DataFrame):\n",
    "        return data.agg(historical_var, level=level)\n",
    "    elif isinstance(data, pd.Series):\n",
    "        return -np.percentile(data, level)\n",
    "    else:\n",
    "        raise TypeError(\"Expected input are to be Series or DataFrame\")"
   ]
  },
  {
   "cell_type": "code",
   "execution_count": 9,
   "id": "17d64e02-d5ad-4c9b-acf6-2852e944af7b",
   "metadata": {
    "tags": []
   },
   "outputs": [
    {
     "data": {
      "text/plain": [
       "Convertible Arbitrage    0.009660\n",
       "CTA Global               0.028120\n",
       "Distressed Securities    0.019360\n",
       "Emerging Markets         0.032730\n",
       "Equity Market Neutral    0.007700\n",
       "Event Driven             0.024980\n",
       "Fixed Income Arbitrage   0.005480\n",
       "Global Macro             0.013210\n",
       "Long/Short Equity        0.023850\n",
       "Merger Arbitrage         0.007910\n",
       "Relative Value           0.010210\n",
       "Short Selling            0.065400\n",
       "Funds Of Funds           0.017860\n",
       "dtype: float64"
      ]
     },
     "execution_count": 9,
     "metadata": {},
     "output_type": "execute_result"
    }
   ],
   "source": [
    "historical_var(hfi)"
   ]
  },
  {
   "cell_type": "code",
   "execution_count": 10,
   "id": "ffa6a6ec-c0b1-4324-afce-6287e5e60222",
   "metadata": {
    "tags": []
   },
   "outputs": [],
   "source": [
    "historical_var = hfi.agg(metrics.historical_var)"
   ]
  },
  {
   "cell_type": "code",
   "execution_count": 11,
   "id": "b97e637a-fb41-4d50-8d0e-d2b74684aa7c",
   "metadata": {
    "tags": []
   },
   "outputs": [
    {
     "data": {
      "text/plain": [
       "-1.6448536269514729"
      ]
     },
     "execution_count": 11,
     "metadata": {},
     "output_type": "execute_result"
    }
   ],
   "source": [
    "# returns z-score\n",
    "z_score = norm.ppf(.05)\n",
    "z_score"
   ]
  },
  {
   "cell_type": "code",
   "execution_count": 12,
   "id": "b69c66f9-91ea-4103-9b2b-fc20481cb3af",
   "metadata": {
    "tags": []
   },
   "outputs": [
    {
     "data": {
      "text/plain": [
       "Convertible Arbitrage    0.015805\n",
       "CTA Global               0.032004\n",
       "Distressed Securities    0.019306\n",
       "Emerging Markets         0.033385\n",
       "Equity Market Neutral    0.007582\n",
       "Event Driven             0.018503\n",
       "Fixed Income Arbitrage   0.007050\n",
       "Global Macro             0.014327\n",
       "Long/Short Equity        0.022484\n",
       "Merger Arbitrage         0.006878\n",
       "Relative Value           0.010125\n",
       "Short Selling            0.066540\n",
       "Funds Of Funds           0.015116\n",
       "dtype: float64"
      ]
     },
     "execution_count": 12,
     "metadata": {},
     "output_type": "execute_result"
    }
   ],
   "source": [
    "-(hfi.mean() + z_score*hfi.std(ddof=0))"
   ]
  },
  {
   "cell_type": "code",
   "execution_count": 13,
   "id": "395376d3-e6d4-40a1-9ccf-323ba0f7c457",
   "metadata": {
    "tags": []
   },
   "outputs": [],
   "source": [
    "gaussian_var = hfi.agg(metrics.cornish_fisher_var, level = 5, modified=False)"
   ]
  },
  {
   "cell_type": "code",
   "execution_count": 14,
   "id": "4b1aebf3-fceb-4e11-9be4-1061afd448fa",
   "metadata": {
    "tags": []
   },
   "outputs": [],
   "source": [
    "modified_gaussian_var = hfi.agg(metrics.cornish_fisher_var, level=5, modified=True)"
   ]
  },
  {
   "cell_type": "code",
   "execution_count": 15,
   "id": "92219c3a-4620-43aa-9237-cecfd24440db",
   "metadata": {
    "tags": []
   },
   "outputs": [
    {
     "data": {
      "image/png": "[encoded data removed]",
      "text/plain": [
       "<Figure size 1000x600 with 1 Axes>"
      ]
     },
     "metadata": {},
     "output_type": "display_data"
    }
   ],
   "source": [
    "var_list  = [gaussian_var, modified_gaussian_var, historical_var]\n",
    "comparison = pd.concat(var_list, axis=1)\n",
    "comparison.columns = [\"Gaussian\", \"Cornish-Fisher\", \"Historic\"]\n",
    "comparison.plot.bar(title = \"Hedge Fund Indices: VaR\");"
   ]
  },
  {
   "cell_type": "markdown",
   "id": "800d91ea-32b7-4d63-8f57-061efb87ac14",
   "metadata": {},
   "source": [
    "### Conditional VaR\n",
    "if that 5% happens (the worst 5% of all possibile cases). In that case CVaR represents the average loss conditioned on the worst case over a certain period of time"
   ]
  },
  {
   "cell_type": "code",
   "execution_count": 16,
   "id": "b6d0deba-2a1b-4937-a12b-bdc36801d29e",
   "metadata": {
    "tags": []
   },
   "outputs": [
    {
     "data": {
      "text/plain": [
       "Convertible Arbitrage    0.018433\n",
       "CTA Global               0.036517\n",
       "Distressed Securities    0.028033\n",
       "Emerging Markets         0.048117\n",
       "Equity Market Neutral    0.014350\n",
       "Event Driven             0.030333\n",
       "Fixed Income Arbitrage   0.008767\n",
       "Global Macro             0.016967\n",
       "Long/Short Equity        0.039233\n",
       "Merger Arbitrage         0.010817\n",
       "Relative Value           0.015533\n",
       "Short Selling            0.078467\n",
       "Funds Of Funds           0.025383\n",
       "dtype: float64"
      ]
     },
     "execution_count": 16,
     "metadata": {},
     "output_type": "execute_result"
    }
   ],
   "source": [
    "hfi.agg(metrics.historical_cvar)"
   ]
  },
  {
   "cell_type": "code",
   "execution_count": null,
   "id": "ca7d4222-6ec6-4045-a844-b9259f61d70a",
   "metadata": {},
   "outputs": [],
   "source": []
  },
  {
   "cell_type": "code",
   "execution_count": null,
   "id": "e4115914-7720-426c-aca7-638c20b25cb2",
   "metadata": {},
   "outputs": [],
   "source": []
  }
 ],
 "metadata": {
  "kernelspec": {
   "display_name": "Python (modern_ts)",
   "language": "python",
   "name": "modern_ts"
  },
  "language_info": {
   "codemirror_mode": {
    "name": "ipython",
    "version": 3
   },
   "file_extension": ".py",
   "mimetype": "text/x-python",
   "name": "python",
   "nbconvert_exporter": "python",
   "pygments_lexer": "ipython3",
   "version": "3.10.12"
  }
 },
 "nbformat": 4,
 "nbformat_minor": 5
}
