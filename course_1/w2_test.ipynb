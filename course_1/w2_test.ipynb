{
 "cells": [
  {
   "cell_type": "code",
   "execution_count": 1,
   "id": "34bde74c-1db6-4d1e-91d0-7bdb142a565e",
   "metadata": {
    "tags": []
   },
   "outputs": [],
   "source": [
    "# used during development to releoad modules every time there is a change\n",
    "%load_ext autoreload\n",
    "%autoreload 2\n",
    "import numpy as np\n",
    "import pandas as pd\n",
    "from scipy.stats import norm\n",
    "from scipy.optimize import minimize\n",
    "from risk_kit import Metrics, pre_processing_ind, pre_processing_hfi, plot_ef2\n",
    "pd.options.display.float_format = '{:.6f}'.format"
   ]
  },
  {
   "cell_type": "code",
   "execution_count": 2,
   "id": "0a4ae83a-fe4e-403a-bc35-4ff9e8efdedd",
   "metadata": {
    "tags": []
   },
   "outputs": [],
   "source": [
    "metrics = Metrics()"
   ]
  },
  {
   "cell_type": "code",
   "execution_count": 3,
   "id": "af24ad8d-5320-4eef-ba64-eb479ba7e10f",
   "metadata": {
    "tags": []
   },
   "outputs": [
    {
     "name": "stderr",
     "output_type": "stream",
     "text": [
      "/home/solidsnake/trading/portfolio_construction/risk_kit.py:11: UserWarning: Parsing dates in DD/MM/YYYY format when dayfirst=False (the default) was specified. This may lead to inconsistently parsed dates! Specify a format to ensure consistent parsing.\n",
      "  hfi = pd.read_csv(\"data/edhec-hedgefundindices.csv\", header=0, index_col=0, parse_dates=True)\n"
     ]
    },
    {
     "data": {
      "text/html": [
       "<div>\n",
       "<style scoped>\n",
       "    .dataframe tbody tr th:only-of-type {\n",
       "        vertical-align: middle;\n",
       "    }\n",
       "\n",
       "    .dataframe tbody tr th {\n",
       "        vertical-align: top;\n",
       "    }\n",
       "\n",
       "    .dataframe thead th {\n",
       "        text-align: right;\n",
       "    }\n",
       "</style>\n",
       "<table border=\"1\" class=\"dataframe\">\n",
       "  <thead>\n",
       "    <tr style=\"text-align: right;\">\n",
       "      <th></th>\n",
       "      <th>Distressed Securities</th>\n",
       "    </tr>\n",
       "    <tr>\n",
       "      <th>date</th>\n",
       "      <th></th>\n",
       "    </tr>\n",
       "  </thead>\n",
       "  <tbody>\n",
       "    <tr>\n",
       "      <th>2000-01</th>\n",
       "      <td>0.008800</td>\n",
       "    </tr>\n",
       "    <tr>\n",
       "      <th>2000-02</th>\n",
       "      <td>0.042100</td>\n",
       "    </tr>\n",
       "    <tr>\n",
       "      <th>2000-03</th>\n",
       "      <td>0.010300</td>\n",
       "    </tr>\n",
       "    <tr>\n",
       "      <th>2000-04</th>\n",
       "      <td>-0.010100</td>\n",
       "    </tr>\n",
       "    <tr>\n",
       "      <th>2000-05</th>\n",
       "      <td>-0.013200</td>\n",
       "    </tr>\n",
       "  </tbody>\n",
       "</table>\n",
       "</div>"
      ],
      "text/plain": [
       "         Distressed Securities\n",
       "date                          \n",
       "2000-01               0.008800\n",
       "2000-02               0.042100\n",
       "2000-03               0.010300\n",
       "2000-04              -0.010100\n",
       "2000-05              -0.013200"
      ]
     },
     "execution_count": 3,
     "metadata": {},
     "output_type": "execute_result"
    }
   ],
   "source": [
    "hfi = pre_processing_hfi()\n",
    "\n",
    "assets = [\"Distressed Securities\"]\n",
    "hfi = hfi[\"2000\":][assets]\n",
    "#print(hfi.head()\n",
    "hfi.head()"
   ]
  },
  {
   "cell_type": "code",
   "execution_count": 4,
   "id": "3006631d-187d-4ec5-a46e-65eb6efd76af",
   "metadata": {
    "tags": []
   },
   "outputs": [
    {
     "data": {
      "text/plain": [
       "Distressed Securities   0.031430\n",
       "dtype: float64"
      ]
     },
     "execution_count": 4,
     "metadata": {},
     "output_type": "execute_result"
    }
   ],
   "source": [
    "gaussian_var = hfi.agg(metrics.cornish_fisher_var, level=1, modified=False)\n",
    "gaussian_var"
   ]
  },
  {
   "cell_type": "code",
   "execution_count": 5,
   "id": "c090b3d2-8bd2-4e1e-88bf-5eadf39d2318",
   "metadata": {
    "tags": []
   },
   "outputs": [
    {
     "data": {
      "text/plain": [
       "Distressed Securities   0.049669\n",
       "dtype: float64"
      ]
     },
     "execution_count": 5,
     "metadata": {},
     "output_type": "execute_result"
    }
   ],
   "source": [
    "modified_gaussian_var = hfi.agg(metrics.cornish_fisher_var, level=1, modified=True)\n",
    "modified_gaussian_var"
   ]
  },
  {
   "cell_type": "code",
   "execution_count": 10,
   "id": "3784cecb-a96a-48d7-a598-ced969117b8b",
   "metadata": {
    "tags": []
   },
   "outputs": [
    {
     "data": {
      "text/plain": [
       "Distressed Securities   0.042642\n",
       "dtype: float64"
      ]
     },
     "execution_count": 10,
     "metadata": {},
     "output_type": "execute_result"
    }
   ],
   "source": [
    "historical_var = hfi.agg(metrics.historical_var, level=1)\n",
    "historical_var"
   ]
  },
  {
   "cell_type": "code",
   "execution_count": null,
   "id": "e6adb750-c423-4b8b-982d-13d4cbee2fcb",
   "metadata": {},
   "outputs": [],
   "source": []
  },
  {
   "cell_type": "code",
   "execution_count": 19,
   "id": "0a333242-c25d-44c4-9181-16c5ac5ee8a8",
   "metadata": {
    "tags": []
   },
   "outputs": [
    {
     "data": {
      "text/html": [
       "<div>\n",
       "<style scoped>\n",
       "    .dataframe tbody tr th:only-of-type {\n",
       "        vertical-align: middle;\n",
       "    }\n",
       "\n",
       "    .dataframe tbody tr th {\n",
       "        vertical-align: top;\n",
       "    }\n",
       "\n",
       "    .dataframe thead th {\n",
       "        text-align: right;\n",
       "    }\n",
       "</style>\n",
       "<table border=\"1\" class=\"dataframe\">\n",
       "  <thead>\n",
       "    <tr style=\"text-align: right;\">\n",
       "      <th></th>\n",
       "      <th>Books</th>\n",
       "      <th>Steel</th>\n",
       "      <th>Oil</th>\n",
       "      <th>Mines</th>\n",
       "    </tr>\n",
       "  </thead>\n",
       "  <tbody>\n",
       "    <tr>\n",
       "      <th>2013-01</th>\n",
       "      <td>0.051300</td>\n",
       "      <td>0.042800</td>\n",
       "      <td>0.078800</td>\n",
       "      <td>0.005900</td>\n",
       "    </tr>\n",
       "    <tr>\n",
       "      <th>2013-02</th>\n",
       "      <td>-0.065400</td>\n",
       "      <td>-0.026800</td>\n",
       "      <td>0.005200</td>\n",
       "      <td>-0.075600</td>\n",
       "    </tr>\n",
       "    <tr>\n",
       "      <th>2013-03</th>\n",
       "      <td>0.077800</td>\n",
       "      <td>0.021000</td>\n",
       "      <td>0.020900</td>\n",
       "      <td>0.009100</td>\n",
       "    </tr>\n",
       "    <tr>\n",
       "      <th>2013-04</th>\n",
       "      <td>-0.002900</td>\n",
       "      <td>-0.044100</td>\n",
       "      <td>-0.012900</td>\n",
       "      <td>-0.105700</td>\n",
       "    </tr>\n",
       "    <tr>\n",
       "      <th>2013-05</th>\n",
       "      <td>0.047900</td>\n",
       "      <td>0.038400</td>\n",
       "      <td>0.030700</td>\n",
       "      <td>0.002200</td>\n",
       "    </tr>\n",
       "  </tbody>\n",
       "</table>\n",
       "</div>"
      ],
      "text/plain": [
       "            Books     Steel       Oil     Mines\n",
       "2013-01  0.051300  0.042800  0.078800  0.005900\n",
       "2013-02 -0.065400 -0.026800  0.005200 -0.075600\n",
       "2013-03  0.077800  0.021000  0.020900  0.009100\n",
       "2013-04 -0.002900 -0.044100 -0.012900 -0.105700\n",
       "2013-05  0.047900  0.038400  0.030700  0.002200"
      ]
     },
     "execution_count": 19,
     "metadata": {},
     "output_type": "execute_result"
    }
   ],
   "source": [
    "ind = pre_processing_ind()\n",
    "assets = [\"Books\", \"Steel\", \"Oil\", \"Mines\"]\n",
    "ind_data = ind[\"2013\": \"2017\"][assets]\n",
    "ind_data.head()"
   ]
  },
  {
   "cell_type": "code",
   "execution_count": 20,
   "id": "acda2656-e91b-4646-ae73-c1ca753c9ebe",
   "metadata": {
    "tags": []
   },
   "outputs": [
    {
     "data": {
      "text/html": [
       "<div>\n",
       "<style scoped>\n",
       "    .dataframe tbody tr th:only-of-type {\n",
       "        vertical-align: middle;\n",
       "    }\n",
       "\n",
       "    .dataframe tbody tr th {\n",
       "        vertical-align: top;\n",
       "    }\n",
       "\n",
       "    .dataframe thead th {\n",
       "        text-align: right;\n",
       "    }\n",
       "</style>\n",
       "<table border=\"1\" class=\"dataframe\">\n",
       "  <thead>\n",
       "    <tr style=\"text-align: right;\">\n",
       "      <th></th>\n",
       "      <th>Books</th>\n",
       "      <th>Steel</th>\n",
       "      <th>Oil</th>\n",
       "      <th>Mines</th>\n",
       "    </tr>\n",
       "  </thead>\n",
       "  <tbody>\n",
       "    <tr>\n",
       "      <th>2017-08</th>\n",
       "      <td>-0.062900</td>\n",
       "      <td>0.016500</td>\n",
       "      <td>-0.052600</td>\n",
       "      <td>0.008300</td>\n",
       "    </tr>\n",
       "    <tr>\n",
       "      <th>2017-09</th>\n",
       "      <td>0.036000</td>\n",
       "      <td>0.037200</td>\n",
       "      <td>0.112500</td>\n",
       "      <td>-0.019500</td>\n",
       "    </tr>\n",
       "    <tr>\n",
       "      <th>2017-10</th>\n",
       "      <td>-0.018300</td>\n",
       "      <td>0.022300</td>\n",
       "      <td>0.002300</td>\n",
       "      <td>0.014500</td>\n",
       "    </tr>\n",
       "    <tr>\n",
       "      <th>2017-11</th>\n",
       "      <td>0.102400</td>\n",
       "      <td>-0.013800</td>\n",
       "      <td>0.028900</td>\n",
       "      <td>0.001500</td>\n",
       "    </tr>\n",
       "    <tr>\n",
       "      <th>2017-12</th>\n",
       "      <td>0.011100</td>\n",
       "      <td>0.131900</td>\n",
       "      <td>0.050900</td>\n",
       "      <td>0.115100</td>\n",
       "    </tr>\n",
       "  </tbody>\n",
       "</table>\n",
       "</div>"
      ],
      "text/plain": [
       "            Books     Steel       Oil     Mines\n",
       "2017-08 -0.062900  0.016500 -0.052600  0.008300\n",
       "2017-09  0.036000  0.037200  0.112500 -0.019500\n",
       "2017-10 -0.018300  0.022300  0.002300  0.014500\n",
       "2017-11  0.102400 -0.013800  0.028900  0.001500\n",
       "2017-12  0.011100  0.131900  0.050900  0.115100"
      ]
     },
     "execution_count": 20,
     "metadata": {},
     "output_type": "execute_result"
    }
   ],
   "source": [
    "ind_data.tail()"
   ]
  },
  {
   "cell_type": "code",
   "execution_count": 21,
   "id": "8d7392b0-429d-44c2-9f3b-6d1ebc661289",
   "metadata": {
    "tags": []
   },
   "outputs": [],
   "source": [
    "# Generate expected Return vector and Covariance matrix\n",
    "rets = ind_data.agg(metrics.annualized_rets)\n",
    "cov = ind_data.cov()"
   ]
  },
  {
   "cell_type": "code",
   "execution_count": 25,
   "id": "3be4f019-36b7-4f77-a3e6-d0f9a3aa690e",
   "metadata": {
    "tags": []
   },
   "outputs": [
    {
     "data": {
      "text/plain": [
       "<Axes: xlabel='Vol'>"
      ]
     },
     "execution_count": 25,
     "metadata": {},
     "output_type": "execute_result"
    },
    {
     "data": {
      "image/png": "[encoded data removed]",
      "text/plain": [
       "<Figure size 1000x600 with 1 Axes>"
      ]
     },
     "metadata": {},
     "output_type": "display_data"
    }
   ],
   "source": [
    "metrics.plot_ef(30, rets, cov, show_cml=True, \\\n",
    "                riskfree_rate=0.1, show_ew=True, show_gmv=True)"
   ]
  },
  {
   "cell_type": "code",
   "execution_count": 30,
   "id": "b598b166-37f4-41dd-9efa-d3bd0bb293d8",
   "metadata": {
    "tags": []
   },
   "outputs": [
    {
     "data": {
      "text/plain": [
       "array([0.00000000e+00, 1.00000000e+00, 6.00214323e-16, 7.35522754e-16])"
      ]
     },
     "execution_count": 30,
     "metadata": {},
     "output_type": "execute_result"
    }
   ],
   "source": [
    "w_msr = metrics.maximum_sharpe_ratio(0.1, rets, cov)\n",
    "w_msr"
   ]
  },
  {
   "cell_type": "code",
   "execution_count": 31,
   "id": "e445caba-372a-48b0-8c2d-59671e2876ee",
   "metadata": {
    "tags": []
   },
   "outputs": [
    {
     "data": {
      "text/plain": [
       "array([4.77024865e-01, 4.33680869e-19, 4.34112030e-01, 8.88631048e-02])"
      ]
     },
     "execution_count": 31,
     "metadata": {},
     "output_type": "execute_result"
    }
   ],
   "source": [
    "w_gmv = metrics.gmv(cov)\n",
    "w_gmv"
   ]
  },
  {
   "cell_type": "code",
   "execution_count": 32,
   "id": "c80bcd99-b9d7-4e8a-b561-7dc00e0d5b99",
   "metadata": {
    "tags": []
   },
   "outputs": [
    {
     "data": {
      "text/html": [
       "<div>\n",
       "<style scoped>\n",
       "    .dataframe tbody tr th:only-of-type {\n",
       "        vertical-align: middle;\n",
       "    }\n",
       "\n",
       "    .dataframe tbody tr th {\n",
       "        vertical-align: top;\n",
       "    }\n",
       "\n",
       "    .dataframe thead th {\n",
       "        text-align: right;\n",
       "    }\n",
       "</style>\n",
       "<table border=\"1\" class=\"dataframe\">\n",
       "  <thead>\n",
       "    <tr style=\"text-align: right;\">\n",
       "      <th></th>\n",
       "      <th>Books</th>\n",
       "      <th>Steel</th>\n",
       "      <th>Oil</th>\n",
       "      <th>Mines</th>\n",
       "    </tr>\n",
       "  </thead>\n",
       "  <tbody>\n",
       "    <tr>\n",
       "      <th>2018-01</th>\n",
       "      <td>0.044900</td>\n",
       "      <td>0.036100</td>\n",
       "      <td>0.028600</td>\n",
       "      <td>0.035700</td>\n",
       "    </tr>\n",
       "    <tr>\n",
       "      <th>2018-02</th>\n",
       "      <td>-0.032500</td>\n",
       "      <td>-0.019900</td>\n",
       "      <td>-0.110200</td>\n",
       "      <td>-0.033500</td>\n",
       "    </tr>\n",
       "    <tr>\n",
       "      <th>2018-03</th>\n",
       "      <td>0.003100</td>\n",
       "      <td>-0.058600</td>\n",
       "      <td>0.030800</td>\n",
       "      <td>-0.001500</td>\n",
       "    </tr>\n",
       "    <tr>\n",
       "      <th>2018-04</th>\n",
       "      <td>-0.006200</td>\n",
       "      <td>0.036600</td>\n",
       "      <td>0.103000</td>\n",
       "      <td>-0.033900</td>\n",
       "    </tr>\n",
       "    <tr>\n",
       "      <th>2018-05</th>\n",
       "      <td>-0.006100</td>\n",
       "      <td>0.056200</td>\n",
       "      <td>0.034300</td>\n",
       "      <td>0.030800</td>\n",
       "    </tr>\n",
       "  </tbody>\n",
       "</table>\n",
       "</div>"
      ],
      "text/plain": [
       "            Books     Steel       Oil     Mines\n",
       "2018-01  0.044900  0.036100  0.028600  0.035700\n",
       "2018-02 -0.032500 -0.019900 -0.110200 -0.033500\n",
       "2018-03  0.003100 -0.058600  0.030800 -0.001500\n",
       "2018-04 -0.006200  0.036600  0.103000 -0.033900\n",
       "2018-05 -0.006100  0.056200  0.034300  0.030800"
      ]
     },
     "execution_count": 32,
     "metadata": {},
     "output_type": "execute_result"
    }
   ],
   "source": [
    "ind = pre_processing_ind()\n",
    "assets = [\"Books\", \"Steel\", \"Oil\", \"Mines\"]\n",
    "ind_data2 = ind[\"2018\":][assets]\n",
    "ind_data2.head()"
   ]
  },
  {
   "cell_type": "code",
   "execution_count": null,
   "id": "cfbb7729-2d54-4420-a9cd-983f6515a227",
   "metadata": {},
   "outputs": [],
   "source": [
    "# Covariance of Portfolio in 2018\n",
    "cov = ind_data2.cov()"
   ]
  },
  {
   "cell_type": "code",
   "execution_count": 37,
   "id": "19c82078-3125-4a39-a393-d1a82e01ff1f",
   "metadata": {
    "tags": []
   },
   "outputs": [
    {
     "data": {
      "text/plain": [
       "0.21983988181484201"
      ]
     },
     "execution_count": 37,
     "metadata": {},
     "output_type": "execute_result"
    }
   ],
   "source": [
    "# Volatility of MSR Portfolio\n",
    "metrics.portfolio_vol(w_msr, cov)*np.sqrt(12)"
   ]
  },
  {
   "cell_type": "code",
   "execution_count": 39,
   "id": "45ce3c47-a294-4ec8-bc38-64258ab36c92",
   "metadata": {
    "tags": []
   },
   "outputs": [
    {
     "data": {
      "text/plain": [
       "0.7615476896664874"
      ]
     },
     "execution_count": 39,
     "metadata": {},
     "output_type": "execute_result"
    }
   ],
   "source": [
    "# Volatility of MSR Portfolio\n",
    "metrics.portfolio_vol(w_msr, cov) * 12"
   ]
  },
  {
   "cell_type": "code",
   "execution_count": 38,
   "id": "23e1a46b-9bf5-4646-99a6-ce1c2b52154b",
   "metadata": {
    "tags": []
   },
   "outputs": [
    {
     "data": {
      "text/plain": [
       "0.18973734554913554"
      ]
     },
     "execution_count": 38,
     "metadata": {},
     "output_type": "execute_result"
    }
   ],
   "source": [
    "# Volatility of GMV Portfolio\n",
    "metrics.portfolio_vol(w_gmv, cov)*np.sqrt(12)"
   ]
  },
  {
   "cell_type": "code",
   "execution_count": null,
   "id": "e87f2e48-0b58-40de-a949-7f0684e4d5ce",
   "metadata": {},
   "outputs": [],
   "source": []
  }
 ],
 "metadata": {
  "kernelspec": {
   "display_name": "Python (modern_ts)",
   "language": "python",
   "name": "modern_ts"
  },
  "language_info": {
   "codemirror_mode": {
    "name": "ipython",
    "version": 3
   },
   "file_extension": ".py",
   "mimetype": "text/x-python",
   "name": "python",
   "nbconvert_exporter": "python",
   "pygments_lexer": "ipython3",
   "version": "3.10.12"
  }
 },
 "nbformat": 4,
 "nbformat_minor": 5
}
