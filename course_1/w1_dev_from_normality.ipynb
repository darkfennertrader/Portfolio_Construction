{
 "cells": [
  {
   "cell_type": "markdown",
   "id": "5d620339-c2dc-4828-a43b-543c495d3446",
   "metadata": {},
   "source": [
    "# Deviation from Normality"
   ]
  },
  {
   "cell_type": "code",
   "execution_count": 1,
   "id": "917db63e-11cc-45a9-b421-8662aad05956",
   "metadata": {
    "tags": []
   },
   "outputs": [],
   "source": [
    "# used during development to releoad modules every time there is a change\n",
    "%load_ext autoreload\n",
    "%autoreload 2"
   ]
  },
  {
   "cell_type": "code",
   "execution_count": 2,
   "id": "a1e1fee0-51df-4f34-baf5-e5bc917a5ea1",
   "metadata": {
    "tags": []
   },
   "outputs": [],
   "source": [
    "import pandas as pd\n",
    "from risk_kit import Metrics, pre_processing_hfi\n",
    "from scipy.stats import jarque_bera\n",
    "pd.options.display.float_format = '{:.6f}'.format"
   ]
  },
  {
   "cell_type": "code",
   "execution_count": 3,
   "id": "36fbf49e-fe50-4488-b6bf-54c855f8b4f8",
   "metadata": {
    "tags": []
   },
   "outputs": [
    {
     "name": "stderr",
     "output_type": "stream",
     "text": [
      "/home/solidsnake/trading/portfolio_construction/risk_kit.py:10: UserWarning: Parsing dates in DD/MM/YYYY format when dayfirst=False (the default) was specified. This may lead to inconsistently parsed dates! Specify a format to ensure consistent parsing.\n",
      "  hfi = pd.read_csv(\"data/edhec-hedgefundindices.csv\", header=0, index_col=0, parse_dates=True)\n"
     ]
    },
    {
     "data": {
      "text/html": [
       "<div>\n",
       "<style scoped>\n",
       "    .dataframe tbody tr th:only-of-type {\n",
       "        vertical-align: middle;\n",
       "    }\n",
       "\n",
       "    .dataframe tbody tr th {\n",
       "        vertical-align: top;\n",
       "    }\n",
       "\n",
       "    .dataframe thead th {\n",
       "        text-align: right;\n",
       "    }\n",
       "</style>\n",
       "<table border=\"1\" class=\"dataframe\">\n",
       "  <thead>\n",
       "    <tr style=\"text-align: right;\">\n",
       "      <th></th>\n",
       "      <th>Convertible Arbitrage</th>\n",
       "      <th>CTA Global</th>\n",
       "      <th>Distressed Securities</th>\n",
       "      <th>Emerging Markets</th>\n",
       "      <th>Equity Market Neutral</th>\n",
       "      <th>Event Driven</th>\n",
       "      <th>Fixed Income Arbitrage</th>\n",
       "      <th>Global Macro</th>\n",
       "      <th>Long/Short Equity</th>\n",
       "      <th>Merger Arbitrage</th>\n",
       "      <th>Relative Value</th>\n",
       "      <th>Short Selling</th>\n",
       "      <th>Funds Of Funds</th>\n",
       "    </tr>\n",
       "    <tr>\n",
       "      <th>date</th>\n",
       "      <th></th>\n",
       "      <th></th>\n",
       "      <th></th>\n",
       "      <th></th>\n",
       "      <th></th>\n",
       "      <th></th>\n",
       "      <th></th>\n",
       "      <th></th>\n",
       "      <th></th>\n",
       "      <th></th>\n",
       "      <th></th>\n",
       "      <th></th>\n",
       "      <th></th>\n",
       "    </tr>\n",
       "  </thead>\n",
       "  <tbody>\n",
       "    <tr>\n",
       "      <th>2018-07</th>\n",
       "      <td>0.002100</td>\n",
       "      <td>-0.005800</td>\n",
       "      <td>0.009300</td>\n",
       "      <td>0.004000</td>\n",
       "      <td>-0.001000</td>\n",
       "      <td>0.005500</td>\n",
       "      <td>0.002200</td>\n",
       "      <td>-0.001400</td>\n",
       "      <td>0.006700</td>\n",
       "      <td>-0.002100</td>\n",
       "      <td>0.004500</td>\n",
       "      <td>-0.005200</td>\n",
       "      <td>0.001800</td>\n",
       "    </tr>\n",
       "    <tr>\n",
       "      <th>2018-08</th>\n",
       "      <td>0.002400</td>\n",
       "      <td>0.016600</td>\n",
       "      <td>0.000200</td>\n",
       "      <td>-0.027700</td>\n",
       "      <td>0.000400</td>\n",
       "      <td>0.001100</td>\n",
       "      <td>0.001700</td>\n",
       "      <td>-0.000700</td>\n",
       "      <td>0.003500</td>\n",
       "      <td>0.005000</td>\n",
       "      <td>-0.000200</td>\n",
       "      <td>-0.021400</td>\n",
       "      <td>0.001500</td>\n",
       "    </tr>\n",
       "    <tr>\n",
       "      <th>2018-09</th>\n",
       "      <td>0.003400</td>\n",
       "      <td>-0.005400</td>\n",
       "      <td>0.005000</td>\n",
       "      <td>-0.011000</td>\n",
       "      <td>-0.001600</td>\n",
       "      <td>0.003200</td>\n",
       "      <td>0.003600</td>\n",
       "      <td>0.000600</td>\n",
       "      <td>-0.002300</td>\n",
       "      <td>0.002800</td>\n",
       "      <td>0.001800</td>\n",
       "      <td>0.003600</td>\n",
       "      <td>-0.002200</td>\n",
       "    </tr>\n",
       "    <tr>\n",
       "      <th>2018-10</th>\n",
       "      <td>-0.007300</td>\n",
       "      <td>-0.031400</td>\n",
       "      <td>-0.015800</td>\n",
       "      <td>-0.031500</td>\n",
       "      <td>-0.012900</td>\n",
       "      <td>-0.025700</td>\n",
       "      <td>-0.002300</td>\n",
       "      <td>-0.009600</td>\n",
       "      <td>-0.040200</td>\n",
       "      <td>-0.008000</td>\n",
       "      <td>-0.010900</td>\n",
       "      <td>0.023700</td>\n",
       "      <td>-0.026900</td>\n",
       "    </tr>\n",
       "    <tr>\n",
       "      <th>2018-11</th>\n",
       "      <td>-0.006800</td>\n",
       "      <td>-0.005300</td>\n",
       "      <td>-0.019300</td>\n",
       "      <td>0.012000</td>\n",
       "      <td>-0.021100</td>\n",
       "      <td>-0.003400</td>\n",
       "      <td>-0.006700</td>\n",
       "      <td>-0.008700</td>\n",
       "      <td>-0.004400</td>\n",
       "      <td>0.011900</td>\n",
       "      <td>-0.006300</td>\n",
       "      <td>-0.002100</td>\n",
       "      <td>-0.007100</td>\n",
       "    </tr>\n",
       "  </tbody>\n",
       "</table>\n",
       "</div>"
      ],
      "text/plain": [
       "         Convertible Arbitrage  CTA Global  Distressed Securities  \\\n",
       "date                                                                \n",
       "2018-07               0.002100   -0.005800               0.009300   \n",
       "2018-08               0.002400    0.016600               0.000200   \n",
       "2018-09               0.003400   -0.005400               0.005000   \n",
       "2018-10              -0.007300   -0.031400              -0.015800   \n",
       "2018-11              -0.006800   -0.005300              -0.019300   \n",
       "\n",
       "         Emerging Markets  Equity Market Neutral  Event Driven  \\\n",
       "date                                                             \n",
       "2018-07          0.004000              -0.001000      0.005500   \n",
       "2018-08         -0.027700               0.000400      0.001100   \n",
       "2018-09         -0.011000              -0.001600      0.003200   \n",
       "2018-10         -0.031500              -0.012900     -0.025700   \n",
       "2018-11          0.012000              -0.021100     -0.003400   \n",
       "\n",
       "         Fixed Income Arbitrage  Global Macro  Long/Short Equity  \\\n",
       "date                                                               \n",
       "2018-07                0.002200     -0.001400           0.006700   \n",
       "2018-08                0.001700     -0.000700           0.003500   \n",
       "2018-09                0.003600      0.000600          -0.002300   \n",
       "2018-10               -0.002300     -0.009600          -0.040200   \n",
       "2018-11               -0.006700     -0.008700          -0.004400   \n",
       "\n",
       "         Merger Arbitrage  Relative Value  Short Selling  Funds Of Funds  \n",
       "date                                                                      \n",
       "2018-07         -0.002100        0.004500      -0.005200        0.001800  \n",
       "2018-08          0.005000       -0.000200      -0.021400        0.001500  \n",
       "2018-09          0.002800        0.001800       0.003600       -0.002200  \n",
       "2018-10         -0.008000       -0.010900       0.023700       -0.026900  \n",
       "2018-11          0.011900       -0.006300      -0.002100       -0.007100  "
      ]
     },
     "execution_count": 3,
     "metadata": {},
     "output_type": "execute_result"
    }
   ],
   "source": [
    "hfi = pre_processing_hfi()\n",
    "hfi = hfi[\"2009\":]\n",
    "#print(hfi.head()\n",
    "hfi.tail()\n",
    "#hfi.head()"
   ]
  },
  {
   "cell_type": "code",
   "execution_count": 4,
   "id": "5f141d63-87de-4f46-801d-77164aa31dbf",
   "metadata": {
    "tags": []
   },
   "outputs": [
    {
     "data": {
      "text/html": [
       "<div>\n",
       "<style scoped>\n",
       "    .dataframe tbody tr th:only-of-type {\n",
       "        vertical-align: middle;\n",
       "    }\n",
       "\n",
       "    .dataframe tbody tr th {\n",
       "        vertical-align: top;\n",
       "    }\n",
       "\n",
       "    .dataframe thead th {\n",
       "        text-align: right;\n",
       "    }\n",
       "</style>\n",
       "<table border=\"1\" class=\"dataframe\">\n",
       "  <thead>\n",
       "    <tr style=\"text-align: right;\">\n",
       "      <th></th>\n",
       "      <th>0</th>\n",
       "      <th>1</th>\n",
       "      <th>2</th>\n",
       "    </tr>\n",
       "  </thead>\n",
       "  <tbody>\n",
       "    <tr>\n",
       "      <th>Convertible Arbitrage</th>\n",
       "      <td>0.006623</td>\n",
       "      <td>0.004500</td>\n",
       "      <td>True</td>\n",
       "    </tr>\n",
       "    <tr>\n",
       "      <th>CTA Global</th>\n",
       "      <td>0.000497</td>\n",
       "      <td>-0.000300</td>\n",
       "      <td>True</td>\n",
       "    </tr>\n",
       "    <tr>\n",
       "      <th>Distressed Securities</th>\n",
       "      <td>0.006559</td>\n",
       "      <td>0.008200</td>\n",
       "      <td>False</td>\n",
       "    </tr>\n",
       "    <tr>\n",
       "      <th>Emerging Markets</th>\n",
       "      <td>0.005205</td>\n",
       "      <td>0.006100</td>\n",
       "      <td>False</td>\n",
       "    </tr>\n",
       "    <tr>\n",
       "      <th>Equity Market Neutral</th>\n",
       "      <td>0.002556</td>\n",
       "      <td>0.003200</td>\n",
       "      <td>False</td>\n",
       "    </tr>\n",
       "    <tr>\n",
       "      <th>Event Driven</th>\n",
       "      <td>0.005595</td>\n",
       "      <td>0.007000</td>\n",
       "      <td>False</td>\n",
       "    </tr>\n",
       "    <tr>\n",
       "      <th>Fixed Income Arbitrage</th>\n",
       "      <td>0.005478</td>\n",
       "      <td>0.005000</td>\n",
       "      <td>True</td>\n",
       "    </tr>\n",
       "    <tr>\n",
       "      <th>Global Macro</th>\n",
       "      <td>0.002676</td>\n",
       "      <td>0.002000</td>\n",
       "      <td>True</td>\n",
       "    </tr>\n",
       "    <tr>\n",
       "      <th>Long/Short Equity</th>\n",
       "      <td>0.005209</td>\n",
       "      <td>0.006400</td>\n",
       "      <td>False</td>\n",
       "    </tr>\n",
       "    <tr>\n",
       "      <th>Merger Arbitrage</th>\n",
       "      <td>0.003716</td>\n",
       "      <td>0.004700</td>\n",
       "      <td>False</td>\n",
       "    </tr>\n",
       "    <tr>\n",
       "      <th>Relative Value</th>\n",
       "      <td>0.005452</td>\n",
       "      <td>0.005500</td>\n",
       "      <td>False</td>\n",
       "    </tr>\n",
       "    <tr>\n",
       "      <th>Short Selling</th>\n",
       "      <td>-0.010350</td>\n",
       "      <td>-0.014400</td>\n",
       "      <td>True</td>\n",
       "    </tr>\n",
       "    <tr>\n",
       "      <th>Funds Of Funds</th>\n",
       "      <td>0.002470</td>\n",
       "      <td>0.003900</td>\n",
       "      <td>False</td>\n",
       "    </tr>\n",
       "  </tbody>\n",
       "</table>\n",
       "</div>"
      ],
      "text/plain": [
       "                               0         1      2\n",
       "Convertible Arbitrage   0.006623  0.004500   True\n",
       "CTA Global              0.000497 -0.000300   True\n",
       "Distressed Securities   0.006559  0.008200  False\n",
       "Emerging Markets        0.005205  0.006100  False\n",
       "Equity Market Neutral   0.002556  0.003200  False\n",
       "Event Driven            0.005595  0.007000  False\n",
       "Fixed Income Arbitrage  0.005478  0.005000   True\n",
       "Global Macro            0.002676  0.002000   True\n",
       "Long/Short Equity       0.005209  0.006400  False\n",
       "Merger Arbitrage        0.003716  0.004700  False\n",
       "Relative Value          0.005452  0.005500  False\n",
       "Short Selling          -0.010350 -0.014400   True\n",
       "Funds Of Funds          0.002470  0.003900  False"
      ]
     },
     "execution_count": 4,
     "metadata": {},
     "output_type": "execute_result"
    }
   ],
   "source": [
    "# in majority of cases mean < median -> returns are negatively skewed\n",
    "pd.concat([hfi.mean(), hfi.median(), hfi.mean() > hfi.median()], axis=1)"
   ]
  },
  {
   "cell_type": "code",
   "execution_count": 5,
   "id": "549e2477-8d05-49cd-b528-0a59dc8cb021",
   "metadata": {
    "tags": []
   },
   "outputs": [],
   "source": [
    "metrics = Metrics(starting_amount=1)"
   ]
  },
  {
   "cell_type": "code",
   "execution_count": 6,
   "id": "9d3f4a7a-956b-4fd9-b612-59636e15308e",
   "metadata": {
    "tags": []
   },
   "outputs": [
    {
     "data": {
      "text/plain": [
       "Equity Market Neutral    -0.896327\n",
       "Funds Of Funds           -0.646908\n",
       "Merger Arbitrage         -0.551065\n",
       "Event Driven             -0.488821\n",
       "Long/Short Equity        -0.463703\n",
       "Distressed Securities    -0.254944\n",
       "Emerging Markets          0.033123\n",
       "CTA Global                0.052062\n",
       "Relative Value            0.159953\n",
       "Global Macro              0.348184\n",
       "Short Selling             0.456518\n",
       "Fixed Income Arbitrage    1.121453\n",
       "Convertible Arbitrage     1.305911\n",
       "dtype: float64"
      ]
     },
     "execution_count": 6,
     "metadata": {},
     "output_type": "execute_result"
    }
   ],
   "source": [
    "hfi.agg(metrics.skewness).sort_values()"
   ]
  },
  {
   "cell_type": "code",
   "execution_count": 8,
   "id": "3e8294d9-166c-45b4-b048-7373fe8e13f6",
   "metadata": {
    "tags": []
   },
   "outputs": [
    {
     "data": {
      "text/plain": [
       "Convertible Arbitrage    6.775731\n",
       "Fixed Income Arbitrage   6.406941\n",
       "Equity Market Neutral    5.071677\n",
       "Relative Value           4.512482\n",
       "Emerging Markets         4.401636\n",
       "Short Selling            4.175832\n",
       "Long/Short Equity        4.115713\n",
       "Funds Of Funds           3.816132\n",
       "Event Driven             3.620617\n",
       "Distressed Securities    3.319725\n",
       "Global Macro             3.164362\n",
       "Merger Arbitrage         2.715238\n",
       "CTA Global               2.591087\n",
       "dtype: float64"
      ]
     },
     "execution_count": 8,
     "metadata": {},
     "output_type": "execute_result"
    }
   ],
   "source": [
    "hfi.agg(metrics.kurtosis).sort_values(ascending=False)"
   ]
  },
  {
   "cell_type": "code",
   "execution_count": 9,
   "id": "7a72bd2e-f7be-4c9b-a216-b2738654f026",
   "metadata": {},
   "outputs": [
    {
     "data": {
      "text/plain": [
       "Convertible Arbitrage     False\n",
       "CTA Global                 True\n",
       "Distressed Securities      True\n",
       "Emerging Markets          False\n",
       "Equity Market Neutral     False\n",
       "Event Driven               True\n",
       "Fixed Income Arbitrage    False\n",
       "Global Macro               True\n",
       "Long/Short Equity         False\n",
       "Merger Arbitrage           True\n",
       "Relative Value            False\n",
       "Short Selling             False\n",
       "Funds Of Funds            False\n",
       "dtype: bool"
      ]
     },
     "execution_count": 9,
     "metadata": {},
     "output_type": "execute_result"
    }
   ],
   "source": [
    "hfi.agg(metrics.is_normal)"
   ]
  },
  {
   "cell_type": "code",
   "execution_count": null,
   "id": "832f10a0-4c89-4d1a-83e1-20830c7e9464",
   "metadata": {},
   "outputs": [],
   "source": []
  }
 ],
 "metadata": {
  "kernelspec": {
   "display_name": "Python (modern_ts)",
   "language": "python",
   "name": "modern_ts"
  },
  "language_info": {
   "codemirror_mode": {
    "name": "ipython",
    "version": 3
   },
   "file_extension": ".py",
   "mimetype": "text/x-python",
   "name": "python",
   "nbconvert_exporter": "python",
   "pygments_lexer": "ipython3",
   "version": "3.10.12"
  }
 },
 "nbformat": 4,
 "nbformat_minor": 5
}
