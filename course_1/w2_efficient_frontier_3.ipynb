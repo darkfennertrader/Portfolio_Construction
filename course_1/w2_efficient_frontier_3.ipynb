{
 "cells": [
  {
   "cell_type": "markdown",
   "id": "6228a662-1ceb-417a-be28-5052867fae72",
   "metadata": {},
   "source": [
    "## N-ASSET EFFICIENT FRONTIER (Part III)"
   ]
  },
  {
   "cell_type": "code",
   "execution_count": 1,
   "id": "77b9f79f-52fa-4118-ad1b-079720023cde",
   "metadata": {
    "tags": []
   },
   "outputs": [],
   "source": [
    "# used during development to releoad modules every time there is a change\n",
    "%load_ext autoreload\n",
    "%autoreload 2\n",
    "import numpy as np\n",
    "import pandas as pd\n",
    "from scipy.stats import norm\n",
    "from scipy.optimize import minimize\n",
    "from risk_kit import Metrics, pre_processing_ind, plot_ef2\n",
    "pd.options.display.float_format = '{:.6f}'.format"
   ]
  },
  {
   "cell_type": "code",
   "execution_count": 2,
   "id": "dfe9a6c5-cf04-41b1-b835-26ef7f0bef56",
   "metadata": {
    "tags": []
   },
   "outputs": [
    {
     "data": {
      "text/html": [
       "<div>\n",
       "<style scoped>\n",
       "    .dataframe tbody tr th:only-of-type {\n",
       "        vertical-align: middle;\n",
       "    }\n",
       "\n",
       "    .dataframe tbody tr th {\n",
       "        vertical-align: top;\n",
       "    }\n",
       "\n",
       "    .dataframe thead th {\n",
       "        text-align: right;\n",
       "    }\n",
       "</style>\n",
       "<table border=\"1\" class=\"dataframe\">\n",
       "  <thead>\n",
       "    <tr style=\"text-align: right;\">\n",
       "      <th></th>\n",
       "      <th>Food</th>\n",
       "      <th>Beer</th>\n",
       "      <th>Smoke</th>\n",
       "      <th>Games</th>\n",
       "      <th>Books</th>\n",
       "      <th>Hshld</th>\n",
       "      <th>Clths</th>\n",
       "      <th>Hlth</th>\n",
       "      <th>Chems</th>\n",
       "      <th>Txtls</th>\n",
       "      <th>...</th>\n",
       "      <th>Telcm</th>\n",
       "      <th>Servs</th>\n",
       "      <th>BusEq</th>\n",
       "      <th>Paper</th>\n",
       "      <th>Trans</th>\n",
       "      <th>Whlsl</th>\n",
       "      <th>Rtail</th>\n",
       "      <th>Meals</th>\n",
       "      <th>Fin</th>\n",
       "      <th>Other</th>\n",
       "    </tr>\n",
       "  </thead>\n",
       "  <tbody>\n",
       "    <tr>\n",
       "      <th>1926-07</th>\n",
       "      <td>0.005600</td>\n",
       "      <td>-0.051900</td>\n",
       "      <td>0.012900</td>\n",
       "      <td>0.029300</td>\n",
       "      <td>0.109700</td>\n",
       "      <td>-0.004800</td>\n",
       "      <td>0.080800</td>\n",
       "      <td>0.017700</td>\n",
       "      <td>0.081400</td>\n",
       "      <td>0.003900</td>\n",
       "      <td>...</td>\n",
       "      <td>0.008300</td>\n",
       "      <td>0.092200</td>\n",
       "      <td>0.020600</td>\n",
       "      <td>0.077000</td>\n",
       "      <td>0.019300</td>\n",
       "      <td>-0.237900</td>\n",
       "      <td>0.000700</td>\n",
       "      <td>0.018700</td>\n",
       "      <td>0.003700</td>\n",
       "      <td>0.052000</td>\n",
       "    </tr>\n",
       "    <tr>\n",
       "      <th>1926-08</th>\n",
       "      <td>0.025900</td>\n",
       "      <td>0.270300</td>\n",
       "      <td>0.065000</td>\n",
       "      <td>0.005500</td>\n",
       "      <td>0.100100</td>\n",
       "      <td>-0.035800</td>\n",
       "      <td>-0.025100</td>\n",
       "      <td>0.042500</td>\n",
       "      <td>0.055000</td>\n",
       "      <td>0.081400</td>\n",
       "      <td>...</td>\n",
       "      <td>0.021700</td>\n",
       "      <td>0.020200</td>\n",
       "      <td>0.043900</td>\n",
       "      <td>-0.023800</td>\n",
       "      <td>0.048800</td>\n",
       "      <td>0.053900</td>\n",
       "      <td>-0.007500</td>\n",
       "      <td>-0.001300</td>\n",
       "      <td>0.044600</td>\n",
       "      <td>0.067600</td>\n",
       "    </tr>\n",
       "    <tr>\n",
       "      <th>1926-09</th>\n",
       "      <td>0.011600</td>\n",
       "      <td>0.040200</td>\n",
       "      <td>0.012600</td>\n",
       "      <td>0.065800</td>\n",
       "      <td>-0.009900</td>\n",
       "      <td>0.007300</td>\n",
       "      <td>-0.005100</td>\n",
       "      <td>0.006900</td>\n",
       "      <td>0.053300</td>\n",
       "      <td>0.023100</td>\n",
       "      <td>...</td>\n",
       "      <td>0.024100</td>\n",
       "      <td>0.022500</td>\n",
       "      <td>0.001900</td>\n",
       "      <td>-0.055400</td>\n",
       "      <td>0.000500</td>\n",
       "      <td>-0.078700</td>\n",
       "      <td>0.002500</td>\n",
       "      <td>-0.005600</td>\n",
       "      <td>-0.012300</td>\n",
       "      <td>-0.038600</td>\n",
       "    </tr>\n",
       "    <tr>\n",
       "      <th>1926-10</th>\n",
       "      <td>-0.030600</td>\n",
       "      <td>-0.033100</td>\n",
       "      <td>0.010600</td>\n",
       "      <td>-0.047600</td>\n",
       "      <td>0.094700</td>\n",
       "      <td>-0.046800</td>\n",
       "      <td>0.001200</td>\n",
       "      <td>-0.005700</td>\n",
       "      <td>-0.047600</td>\n",
       "      <td>0.010000</td>\n",
       "      <td>...</td>\n",
       "      <td>-0.001100</td>\n",
       "      <td>-0.020000</td>\n",
       "      <td>-0.010900</td>\n",
       "      <td>-0.050800</td>\n",
       "      <td>-0.026400</td>\n",
       "      <td>-0.153800</td>\n",
       "      <td>-0.022000</td>\n",
       "      <td>-0.041100</td>\n",
       "      <td>-0.051600</td>\n",
       "      <td>-0.084900</td>\n",
       "    </tr>\n",
       "    <tr>\n",
       "      <th>1926-11</th>\n",
       "      <td>0.063500</td>\n",
       "      <td>0.072900</td>\n",
       "      <td>0.045500</td>\n",
       "      <td>0.016600</td>\n",
       "      <td>-0.058000</td>\n",
       "      <td>-0.005400</td>\n",
       "      <td>0.018700</td>\n",
       "      <td>0.054200</td>\n",
       "      <td>0.052000</td>\n",
       "      <td>0.031100</td>\n",
       "      <td>...</td>\n",
       "      <td>0.016300</td>\n",
       "      <td>0.037700</td>\n",
       "      <td>0.036400</td>\n",
       "      <td>0.038400</td>\n",
       "      <td>0.016000</td>\n",
       "      <td>0.046700</td>\n",
       "      <td>0.065200</td>\n",
       "      <td>0.043300</td>\n",
       "      <td>0.022400</td>\n",
       "      <td>0.040000</td>\n",
       "    </tr>\n",
       "  </tbody>\n",
       "</table>\n",
       "<p>5 rows × 30 columns</p>\n",
       "</div>"
      ],
      "text/plain": [
       "             Food      Beer    Smoke     Games     Books     Hshld     Clths  \\\n",
       "1926-07  0.005600 -0.051900 0.012900  0.029300  0.109700 -0.004800  0.080800   \n",
       "1926-08  0.025900  0.270300 0.065000  0.005500  0.100100 -0.035800 -0.025100   \n",
       "1926-09  0.011600  0.040200 0.012600  0.065800 -0.009900  0.007300 -0.005100   \n",
       "1926-10 -0.030600 -0.033100 0.010600 -0.047600  0.094700 -0.046800  0.001200   \n",
       "1926-11  0.063500  0.072900 0.045500  0.016600 -0.058000 -0.005400  0.018700   \n",
       "\n",
       "             Hlth     Chems    Txtls  ...     Telcm     Servs     BusEq  \\\n",
       "1926-07  0.017700  0.081400 0.003900  ...  0.008300  0.092200  0.020600   \n",
       "1926-08  0.042500  0.055000 0.081400  ...  0.021700  0.020200  0.043900   \n",
       "1926-09  0.006900  0.053300 0.023100  ...  0.024100  0.022500  0.001900   \n",
       "1926-10 -0.005700 -0.047600 0.010000  ... -0.001100 -0.020000 -0.010900   \n",
       "1926-11  0.054200  0.052000 0.031100  ...  0.016300  0.037700  0.036400   \n",
       "\n",
       "            Paper     Trans     Whlsl     Rtail     Meals       Fin     Other  \n",
       "1926-07  0.077000  0.019300 -0.237900  0.000700  0.018700  0.003700  0.052000  \n",
       "1926-08 -0.023800  0.048800  0.053900 -0.007500 -0.001300  0.044600  0.067600  \n",
       "1926-09 -0.055400  0.000500 -0.078700  0.002500 -0.005600 -0.012300 -0.038600  \n",
       "1926-10 -0.050800 -0.026400 -0.153800 -0.022000 -0.041100 -0.051600 -0.084900  \n",
       "1926-11  0.038400  0.016000  0.046700  0.065200  0.043300  0.022400  0.040000  \n",
       "\n",
       "[5 rows x 30 columns]"
      ]
     },
     "execution_count": 2,
     "metadata": {},
     "output_type": "execute_result"
    }
   ],
   "source": [
    "ind = pre_processing_ind()\n",
    "ind.head()"
   ]
  },
  {
   "cell_type": "code",
   "execution_count": 3,
   "id": "2b78d691-fc4e-40dd-9fe5-da251c5f2d35",
   "metadata": {
    "tags": []
   },
   "outputs": [],
   "source": [
    "ass_to_invest = [\"Smoke\", \"Fin\", \"Games\", \"Coal\"]\n",
    "metrics= Metrics()\n",
    "ind2 = ind[\"1996\":\"2000\"][ass_to_invest]\n",
    "# Generate expected Return vector and Covariance matrix\n",
    "rets = ind2.agg(metrics.annualized_rets)\n",
    "cov = ind2.cov()"
   ]
  },
  {
   "cell_type": "code",
   "execution_count": 4,
   "id": "f0d7ab8d-5b15-41b8-b685-32893c6551e4",
   "metadata": {
    "tags": []
   },
   "outputs": [
    {
     "data": {
      "text/plain": [
       "Smoke   0.107830\n",
       "Fin     0.223371\n",
       "Games   0.068212\n",
       "Coal    0.414689\n",
       "dtype: float64"
      ]
     },
     "execution_count": 4,
     "metadata": {},
     "output_type": "execute_result"
    }
   ],
   "source": [
    "rets"
   ]
  },
  {
   "cell_type": "code",
   "execution_count": 5,
   "id": "db4e9160-0037-42d7-b8ea-1c0cb8612b74",
   "metadata": {
    "tags": []
   },
   "outputs": [
    {
     "data": {
      "text/html": [
       "<div>\n",
       "<style scoped>\n",
       "    .dataframe tbody tr th:only-of-type {\n",
       "        vertical-align: middle;\n",
       "    }\n",
       "\n",
       "    .dataframe tbody tr th {\n",
       "        vertical-align: top;\n",
       "    }\n",
       "\n",
       "    .dataframe thead th {\n",
       "        text-align: right;\n",
       "    }\n",
       "</style>\n",
       "<table border=\"1\" class=\"dataframe\">\n",
       "  <thead>\n",
       "    <tr style=\"text-align: right;\">\n",
       "      <th></th>\n",
       "      <th>Smoke</th>\n",
       "      <th>Fin</th>\n",
       "      <th>Games</th>\n",
       "      <th>Coal</th>\n",
       "    </tr>\n",
       "  </thead>\n",
       "  <tbody>\n",
       "    <tr>\n",
       "      <th>Smoke</th>\n",
       "      <td>0.008349</td>\n",
       "      <td>0.001312</td>\n",
       "      <td>0.000379</td>\n",
       "      <td>-0.000733</td>\n",
       "    </tr>\n",
       "    <tr>\n",
       "      <th>Fin</th>\n",
       "      <td>0.001312</td>\n",
       "      <td>0.003982</td>\n",
       "      <td>0.002416</td>\n",
       "      <td>0.002946</td>\n",
       "    </tr>\n",
       "    <tr>\n",
       "      <th>Games</th>\n",
       "      <td>0.000379</td>\n",
       "      <td>0.002416</td>\n",
       "      <td>0.003773</td>\n",
       "      <td>0.001888</td>\n",
       "    </tr>\n",
       "    <tr>\n",
       "      <th>Coal</th>\n",
       "      <td>-0.000733</td>\n",
       "      <td>0.002946</td>\n",
       "      <td>0.001888</td>\n",
       "      <td>0.018641</td>\n",
       "    </tr>\n",
       "  </tbody>\n",
       "</table>\n",
       "</div>"
      ],
      "text/plain": [
       "          Smoke      Fin    Games      Coal\n",
       "Smoke  0.008349 0.001312 0.000379 -0.000733\n",
       "Fin    0.001312 0.003982 0.002416  0.002946\n",
       "Games  0.000379 0.002416 0.003773  0.001888\n",
       "Coal  -0.000733 0.002946 0.001888  0.018641"
      ]
     },
     "execution_count": 5,
     "metadata": {},
     "output_type": "execute_result"
    }
   ],
   "source": [
    "cov"
   ]
  },
  {
   "cell_type": "code",
   "execution_count": 6,
   "id": "f7b8f52b-2935-461e-ab06-21e5fe0ac505",
   "metadata": {
    "tags": []
   },
   "outputs": [],
   "source": [
    "#w15= metrics.minimize_vol(target_return=0.15, rets=rets, cov=cov)\n",
    "#vol15 = metrics.portfolio_vol(w15, cov)\n",
    "#vol15"
   ]
  },
  {
   "cell_type": "code",
   "execution_count": 7,
   "id": "07504f20-42bc-4575-87fe-7aac55434b96",
   "metadata": {
    "tags": []
   },
   "outputs": [],
   "source": [
    "#w15"
   ]
  },
  {
   "cell_type": "code",
   "execution_count": 8,
   "id": "a534c5ce-98c4-46ef-b24b-5627a7e0991b",
   "metadata": {
    "tags": []
   },
   "outputs": [
    {
     "data": {
      "text/plain": [
       "<Axes: xlabel='Vol'>"
      ]
     },
     "execution_count": 8,
     "metadata": {},
     "output_type": "execute_result"
    },
    {
     "data": {
      "image/png": "[encoded data removed]",
      "text/plain": [
       "<Figure size 1000x600 with 1 Axes>"
      ]
     },
     "metadata": {},
     "output_type": "display_data"
    }
   ],
   "source": [
    "metrics.plot_ef(25, rets, cov)"
   ]
  },
  {
   "cell_type": "markdown",
   "id": "06ffce69-adba-44d9-ac49-937ed2951f3d",
   "metadata": {},
   "source": [
    "## Finding the Maximum SR Portfolio"
   ]
  },
  {
   "cell_type": "code",
   "execution_count": 9,
   "id": "58954c92-a08a-48a8-b6b6-3ac0756b786d",
   "metadata": {
    "tags": []
   },
   "outputs": [
    {
     "data": {
      "text/plain": [
       "(60, 30)"
      ]
     },
     "execution_count": 9,
     "metadata": {},
     "output_type": "execute_result"
    }
   ],
   "source": [
    "ind3 = ind[\"1996\":\"2000\"]\n",
    "ind3.head()\n",
    "ind3.shape"
   ]
  },
  {
   "cell_type": "code",
   "execution_count": 10,
   "id": "be33a009-1cba-46e4-a29f-7ff6b086539a",
   "metadata": {
    "tags": []
   },
   "outputs": [],
   "source": [
    "# Generate expected Return vector and Covariance matrix\n",
    "rets3 = ind3.agg(metrics.annualized_rets)\n",
    "cov3 = ind3.cov()"
   ]
  },
  {
   "cell_type": "code",
   "execution_count": 11,
   "id": "d94846c5-1247-4e49-89fc-a8e2ff89ba35",
   "metadata": {
    "tags": []
   },
   "outputs": [
    {
     "data": {
      "text/plain": [
       "<Axes: xlabel='Vol'>"
      ]
     },
     "execution_count": 11,
     "metadata": {},
     "output_type": "execute_result"
    },
    {
     "data": {
      "image/png": "[encoded data removed]",
      "text/plain": [
       "<Figure size 1000x600 with 1 Axes>"
      ]
     },
     "metadata": {},
     "output_type": "display_data"
    }
   ],
   "source": [
    "metrics.plot_ef(20, rets3, cov3, show_cml=True, riskfree_rate=0.1, show_ew=False)"
   ]
  },
  {
   "cell_type": "markdown",
   "id": "128ff40a-3161-4eaa-83a5-2fbbdce6a77b",
   "metadata": {},
   "source": [
    "### Lack of Robustness of the Markowitz Procedure, and the GMV"
   ]
  },
  {
   "cell_type": "code",
   "execution_count": 12,
   "id": "b8bb3748-f4f6-4806-87e5-b8bdea80b994",
   "metadata": {},
   "outputs": [
    {
     "data": {
      "text/plain": [
       "(60, 2)"
      ]
     },
     "execution_count": 12,
     "metadata": {},
     "output_type": "execute_result"
    }
   ],
   "source": [
    "ass_to_invest = [\"Food\", \"Steel\"]\n",
    "ind4 = ind[\"1996\":\"2000\"][ass_to_invest]\n",
    "ind4.head()\n",
    "ind4.shape"
   ]
  },
  {
   "cell_type": "code",
   "execution_count": 13,
   "id": "b1c4b6b7-4a8d-4041-a3a4-9321bb653236",
   "metadata": {
    "tags": []
   },
   "outputs": [],
   "source": [
    "# Generate expected Return vector and Covariance matrix\n",
    "rets = ind4.agg(metrics.annualized_rets)\n",
    "cov = ind4.cov()"
   ]
  },
  {
   "cell_type": "code",
   "execution_count": 14,
   "id": "293b8452-7143-482c-9941-42a1f73fbd39",
   "metadata": {
    "tags": []
   },
   "outputs": [
    {
     "data": {
      "text/plain": [
       "array([0.75040362, 0.24959638])"
      ]
     },
     "execution_count": 14,
     "metadata": {},
     "output_type": "execute_result"
    }
   ],
   "source": [
    "metrics.maximum_sharpe_ratio(0.1, rets, cov)"
   ]
  },
  {
   "cell_type": "code",
   "execution_count": 15,
   "id": "194bc593-14be-4619-8e81-390877b221b5",
   "metadata": {
    "tags": []
   },
   "outputs": [
    {
     "data": {
      "text/plain": [
       "Food    0.116799\n",
       "Steel   0.115809\n",
       "dtype: float64"
      ]
     },
     "execution_count": 15,
     "metadata": {},
     "output_type": "execute_result"
    }
   ],
   "source": [
    "rets"
   ]
  },
  {
   "cell_type": "markdown",
   "id": "6f89a72c-a7d9-4bdb-add3-0bda4e275308",
   "metadata": {},
   "source": [
    "The above are the actual return calculated ex-post. Actually, we are going to estimate the expected returns and feed the model with our estimation.\n",
    "Let's suppose we are a the start of 1996 and that our estimation is pretty close to the real values.\n"
   ]
  },
  {
   "cell_type": "code",
   "execution_count": 16,
   "id": "046bb3a6-65fb-43c3-ad92-eaa31c4b30d8",
   "metadata": {
    "tags": []
   },
   "outputs": [
    {
     "data": {
      "text/plain": [
       "array([0.57930354, 0.42069646])"
      ]
     },
     "execution_count": 16,
     "metadata": {},
     "output_type": "execute_result"
    }
   ],
   "source": [
    "# a small changes in the estimation of the expected returns (like in this case)\n",
    "# produce a very different portfolio. As you can see here:\n",
    "rets = np.array([0.11, 0.12])\n",
    "metrics.maximum_sharpe_ratio(0.1, rets, cov)"
   ]
  },
  {
   "cell_type": "code",
   "execution_count": 17,
   "id": "9d317c97-c52e-49a6-9e92-a02f7d4b2dc0",
   "metadata": {
    "tags": []
   },
   "outputs": [
    {
     "data": {
      "text/plain": [
       "array([0., 1.])"
      ]
     },
     "execution_count": 17,
     "metadata": {},
     "output_type": "execute_result"
    }
   ],
   "source": [
    "# another case of pretty good estimation\n",
    "rets = np.array([0.10, 0.13])\n",
    "metrics.maximum_sharpe_ratio(0.1, rets, cov)"
   ]
  },
  {
   "cell_type": "code",
   "execution_count": 18,
   "id": "c0942555-3f14-4452-bd84-20d15d8d6737",
   "metadata": {
    "tags": []
   },
   "outputs": [
    {
     "data": {
      "text/plain": [
       "array([1., 0.])"
      ]
     },
     "execution_count": 18,
     "metadata": {},
     "output_type": "execute_result"
    }
   ],
   "source": [
    "# another case of pretty good estimation\n",
    "rets = np.array([0.13, 0.10])\n",
    "metrics.maximum_sharpe_ratio(0.1, rets, cov)"
   ]
  },
  {
   "cell_type": "code",
   "execution_count": 19,
   "id": "16f2db72-f839-4fe0-ae37-44d827efbb5c",
   "metadata": {
    "tags": []
   },
   "outputs": [],
   "source": [
    "# Error maximization estimation of the Markowitz procedure\n",
    "# To avoid the use of expected return we can use it in two ways:\n",
    "# 1) Equal Weight (EW or Naive) Portfolio\n",
    "# 2) Computes the Global Minimum Variance Portfolio\n",
    "#    which doesn't require the expected returns\n",
    "# "
   ]
  },
  {
   "cell_type": "code",
   "execution_count": 20,
   "id": "126b1256-2e57-4af8-a114-913de44c8c83",
   "metadata": {
    "tags": []
   },
   "outputs": [
    {
     "data": {
      "text/plain": [
       "<Axes: xlabel='Vol'>"
      ]
     },
     "execution_count": 20,
     "metadata": {},
     "output_type": "execute_result"
    },
    {
     "data": {
      "image/png": "[encoded data removed]",
      "text/plain": [
       "<Figure size 1000x600 with 1 Axes>"
      ]
     },
     "metadata": {},
     "output_type": "display_data"
    }
   ],
   "source": [
    "# the EW Portoflio is within the EF. However, it is still a good portfolio\n",
    "# considering the fact that we don't need Returns estimation\n",
    "# portfolio for the overall assets in the dataframe\n",
    "metrics.plot_ef(20, rets3, cov3, show_cml=True, riskfree_rate=0.1, show_ew=True)"
   ]
  },
  {
   "cell_type": "code",
   "execution_count": 21,
   "id": "0f0020b7-3b1d-4f01-954d-88eaabd1a118",
   "metadata": {
    "tags": []
   },
   "outputs": [],
   "source": [
    "# we can do better with the GMV Portfolio. It does not depend on the expected returns"
   ]
  },
  {
   "cell_type": "code",
   "execution_count": 22,
   "id": "f43c683f-0562-4fe6-aacd-64396bc977bb",
   "metadata": {
    "tags": []
   },
   "outputs": [
    {
     "data": {
      "text/plain": [
       "<Axes: xlabel='Vol'>"
      ]
     },
     "execution_count": 22,
     "metadata": {},
     "output_type": "execute_result"
    },
    {
     "data": {
      "image/png": "[encoded data removed]",
      "text/plain": [
       "<Figure size 1000x600 with 1 Axes>"
      ]
     },
     "metadata": {},
     "output_type": "display_data"
    }
   ],
   "source": [
    "metrics.plot_ef(20, rets3, cov3, show_cml=True, \\\n",
    "                riskfree_rate=0.1, show_ew=True, show_gmv=True)"
   ]
  },
  {
   "cell_type": "markdown",
   "id": "77cb5278-83fe-43f9-96ec-8cee16888285",
   "metadata": {},
   "source": [
    "### FINAL COMMENTS:"
   ]
  },
  {
   "cell_type": "markdown",
   "id": "34b8911a-d114-4791-a165-ff570804b336",
   "metadata": {},
   "source": [
    "The green point is the one we would like to be (Maximum Sharpe Ratio Portfolio.\n",
    "However, an even very small error in the return estimation gives very wrong results.\n",
    "Therefore the only available choices that don't depend on the expected returns are the EW (Naive) Portfolio (golden point) and the GMV (Global Minimum Variance) one. For the GMV, estimating the covariance matrix is a lot easier than estimating the expected return vector."
   ]
  },
  {
   "cell_type": "code",
   "execution_count": null,
   "id": "33f82506-36a3-4c97-8928-be8468ffd037",
   "metadata": {},
   "outputs": [],
   "source": []
  }
 ],
 "metadata": {
  "kernelspec": {
   "display_name": "Python (modern_ts)",
   "language": "python",
   "name": "modern_ts"
  },
  "language_info": {
   "codemirror_mode": {
    "name": "ipython",
    "version": 3
   },
   "file_extension": ".py",
   "mimetype": "text/x-python",
   "name": "python",
   "nbconvert_exporter": "python",
   "pygments_lexer": "ipython3",
   "version": "3.10.12"
  }
 },
 "nbformat": 4,
 "nbformat_minor": 5
}
