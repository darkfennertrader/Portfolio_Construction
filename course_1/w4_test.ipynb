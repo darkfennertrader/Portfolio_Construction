{
 "cells": [
  {
   "cell_type": "code",
   "execution_count": 336,
   "id": "9fbf7c64-6eb0-4c31-9804-ab6eb8d3c50b",
   "metadata": {
    "tags": []
   },
   "outputs": [
    {
     "name": "stdout",
     "output_type": "stream",
     "text": [
      "The autoreload extension is already loaded. To reload it, use:\n",
      "  %reload_ext autoreload\n"
     ]
    }
   ],
   "source": [
    "# used during development to releoad modules every time there is a change\n",
    "%load_ext autoreload\n",
    "%autoreload 2\n",
    "import numpy as np\n",
    "import pandas as pd\n",
    "from scipy.stats import norm\n",
    "import matplotlib.pyplot as plt\n",
    "import seaborn as sns\n",
    "from scipy.optimize import minimize\n",
    "from risk_kit import Metrics, pre_processing_ind, get_ind30_nfirms,\\\n",
    "                    get_ind30_size, plot_ef2, fixedmix_allocator, glidepath_allocator, floor_allocator, drawdown_allocator\n",
    "import ipywidgets as widgets\n",
    "from IPython.display import display\n",
    "import warnings\n",
    "warnings.filterwarnings('ignore')\n",
    "from IPython.core.interactiveshell import InteractiveShell\n",
    "InteractiveShell.ast_node_interactivity = 'all'\n",
    "\n",
    "pd.options.display.float_format = '{:.6f}'.format\n",
    "\n",
    "m = Metrics()"
   ]
  },
  {
   "cell_type": "code",
   "execution_count": 337,
   "id": "5b4122b9-8420-48d0-a6c1-041384fe7d4e",
   "metadata": {
    "tags": []
   },
   "outputs": [
    {
     "data": {
      "text/plain": [
       "(30,)"
      ]
     },
     "execution_count": 337,
     "metadata": {},
     "output_type": "execute_result"
    }
   ],
   "source": [
    "# b1 15-Year-bond, FV=1000, 5% coupon, coupons_per_year=2\n",
    "# b2 5-Year-bond,  FV=1000, 6% coupon, coupons_per_year=4\n",
    "# b3 10-Year-ZC,   FV=1000\n",
    "# yield curve flat 5%\n",
    "\n",
    "b1= m.bond_cash_flows(15, 1000, .05, 2)\n",
    "b1.shape"
   ]
  },
  {
   "cell_type": "code",
   "execution_count": 338,
   "id": "322b27f0-5afa-4280-823e-c84f3bfcf627",
   "metadata": {
    "tags": []
   },
   "outputs": [
    {
     "data": {
      "text/plain": [
       "(30, 1)"
      ]
     },
     "execution_count": 338,
     "metadata": {},
     "output_type": "execute_result"
    }
   ],
   "source": [
    "discounts = m.discount(b1.index, .05/2)\n",
    "discounts.shape"
   ]
  },
  {
   "cell_type": "code",
   "execution_count": 339,
   "id": "c22b0c1b-c844-4970-849d-1b099ad27801",
   "metadata": {
    "tags": []
   },
   "outputs": [],
   "source": [
    "b1= m.bond_cash_flows(15, 1000, .05, 2)\n",
    "discounts = m.discount(b1.index, .05/2)\n",
    "dcf= discounts*b1.values.reshape(len(b1),1)\n",
    "#(b1.index*dcf).sum()/dcf.sum()"
   ]
  },
  {
   "cell_type": "code",
   "execution_count": 334,
   "id": "095f301d-f874-47a1-88ae-5d83bfd93734",
   "metadata": {
    "tags": []
   },
   "outputs": [
    {
     "data": {
      "text/plain": [
       "10.72677495379012"
      ]
     },
     "execution_count": 334,
     "metadata": {},
     "output_type": "execute_result"
    }
   ],
   "source": [
    "m.macaulay_duration2(m.bond_cash_flows(15, 1000, .05, 2), .05/2)/2"
   ]
  },
  {
   "cell_type": "code",
   "execution_count": 335,
   "id": "7f355c95-0197-44de-b41f-bf430c84886c",
   "metadata": {
    "tags": []
   },
   "outputs": [
    {
     "data": {
      "text/plain": [
       "4.373363222636413"
      ]
     },
     "execution_count": 335,
     "metadata": {},
     "output_type": "execute_result"
    }
   ],
   "source": [
    "m.macaulay_duration2(m.bond_cash_flows(5, 1000, .06, 4), .05/4)/4"
   ]
  },
  {
   "cell_type": "code",
   "execution_count": 138,
   "id": "75696bee-7edb-4e2a-97fa-697c7c734f6b",
   "metadata": {
    "tags": []
   },
   "outputs": [
    {
     "data": {
      "text/plain": [
       "10.0"
      ]
     },
     "execution_count": 138,
     "metadata": {},
     "output_type": "execute_result"
    }
   ],
   "source": [
    "m.macaulay_duration2(m.bond_cash_flows(10, 1000, 0., 1), .05)/1"
   ]
  },
  {
   "cell_type": "code",
   "execution_count": 139,
   "id": "635ae544-cde4-4f38-89fd-e705fcc1f511",
   "metadata": {
    "tags": []
   },
   "outputs": [
    {
     "data": {
      "text/plain": [
       "0   615.688724\n",
       "dtype: float64"
      ]
     },
     "execution_count": 139,
     "metadata": {},
     "output_type": "execute_result"
    }
   ],
   "source": [
    "m.pv(m.bond_cash_flows(15, 1000, .05, 2), 0.05)"
   ]
  },
  {
   "cell_type": "code",
   "execution_count": 140,
   "id": "cebf5c06-29e0-4e3c-8c7d-376751f0e8fc",
   "metadata": {
    "tags": []
   },
   "outputs": [
    {
     "data": {
      "text/plain": [
       "0   563.822638\n",
       "dtype: float64"
      ]
     },
     "execution_count": 140,
     "metadata": {},
     "output_type": "execute_result"
    }
   ],
   "source": [
    "m.pv(m.bond_cash_flows(5, 1000, .06, 4), 0.05)"
   ]
  },
  {
   "cell_type": "code",
   "execution_count": 323,
   "id": "387fbf4d-95be-4753-a6ea-19e1afc40b29",
   "metadata": {
    "tags": []
   },
   "outputs": [
    {
     "data": {
      "text/plain": [
       "0   613.913254\n",
       "dtype: float64"
      ]
     },
     "execution_count": 323,
     "metadata": {},
     "output_type": "execute_result"
    }
   ],
   "source": [
    "m.pv(m.bond_cash_flows(10, 1000, 0, 1), 0.05)"
   ]
  },
  {
   "cell_type": "code",
   "execution_count": 328,
   "id": "e30729e1-3313-4dd9-81a2-2f388504053f",
   "metadata": {
    "tags": []
   },
   "outputs": [
    {
     "data": {
      "text/plain": [
       "(0   1000.000000\n",
       " dtype: float64,\n",
       " 0   1043.998290\n",
       " dtype: float64,\n",
       " 0   613.913254\n",
       " dtype: float64)"
      ]
     },
     "execution_count": 328,
     "metadata": {},
     "output_type": "execute_result"
    }
   ],
   "source": [
    "b1= m.bond_price(15, 1000, .05, 2, 0.05)\n",
    "b2= m.bond_price(5, 1000, .06, 4, 0.05)\n",
    "b3= m.bond_price(10, 1000, 0., 1, 0.05)\n",
    "b1, b2, b3"
   ]
  },
  {
   "cell_type": "code",
   "execution_count": null,
   "id": "27102b7a-816e-4c4d-b6db-23da9f6c8a6a",
   "metadata": {},
   "outputs": [],
   "source": []
  },
  {
   "cell_type": "code",
   "execution_count": 142,
   "id": "107b0a4d-6b07-453a-aed1-d2c3f99bd36b",
   "metadata": {
    "tags": []
   },
   "outputs": [],
   "source": [
    "# assume yield flat at 5%. Macaulay Duration?\n",
    "liab1=100000 # 3 years away\n",
    "liab2=200000 # 5 years away\n",
    "liab3=300000 # 10 years away"
   ]
  },
  {
   "cell_type": "code",
   "execution_count": 143,
   "id": "cca7d8fe-f3c1-4492-a974-f86ff0220754",
   "metadata": {
    "tags": []
   },
   "outputs": [
    {
     "data": {
      "text/plain": [
       "1         0.000000\n",
       "2         0.000000\n",
       "3    100000.000000\n",
       "4         0.000000\n",
       "5    200000.000000\n",
       "6         0.000000\n",
       "7         0.000000\n",
       "8         0.000000\n",
       "9         0.000000\n",
       "10   300000.000000\n",
       "dtype: float64"
      ]
     },
     "execution_count": 143,
     "metadata": {},
     "output_type": "execute_result"
    }
   ],
   "source": [
    "cf_liab1 = m.bond_cash_flows(3, 100000, 0, 1)\n",
    "cf_liab2 = m.bond_cash_flows(5, 200000, 0, 1)\n",
    "cf_liab3 = m.bond_cash_flows(10, 300000, 0, 1)\n",
    "cf = pd.concat([cf_liab1, cf_liab2, cf_liab3], axis=1)\n",
    "cf = cf[0].add(cf[1], fill_value=0).add(cf[2], fill_value=0)\n",
    "cf"
   ]
  },
  {
   "cell_type": "code",
   "execution_count": 144,
   "id": "6b4b66ad-6193-427e-bb0d-2e48ce7929a5",
   "metadata": {
    "tags": []
   },
   "outputs": [
    {
     "data": {
      "text/plain": [
       "1    0.952381\n",
       "2    0.907029\n",
       "3    0.863838\n",
       "4    0.822702\n",
       "5    0.783526\n",
       "6    0.746215\n",
       "7    0.710681\n",
       "8    0.676839\n",
       "9    0.644609\n",
       "10   0.613913\n",
       "Name: 0, dtype: float64"
      ]
     },
     "execution_count": 144,
     "metadata": {},
     "output_type": "execute_result"
    }
   ],
   "source": [
    "discounts = m.discount(cf.index, 0.05).squeeze()\n",
    "discounts"
   ]
  },
  {
   "cell_type": "code",
   "execution_count": 145,
   "id": "56a6b97e-bed0-4a20-9c01-7185f050d589",
   "metadata": {
    "tags": []
   },
   "outputs": [
    {
     "data": {
      "text/plain": [
       "1         0.000000\n",
       "2         0.000000\n",
       "3     86383.759853\n",
       "4         0.000000\n",
       "5    156705.233294\n",
       "6         0.000000\n",
       "7         0.000000\n",
       "8         0.000000\n",
       "9         0.000000\n",
       "10   184173.976062\n",
       "dtype: float64"
      ]
     },
     "execution_count": 145,
     "metadata": {},
     "output_type": "execute_result"
    }
   ],
   "source": [
    "# present values of the future cash flows\n",
    "dcf = discounts*cf\n",
    "dcf"
   ]
  },
  {
   "cell_type": "code",
   "execution_count": 146,
   "id": "4a856852-39e1-4424-8f9e-41393ca27a6d",
   "metadata": {
    "tags": []
   },
   "outputs": [
    {
     "data": {
      "text/plain": [
       "1    0.000000\n",
       "2    0.000000\n",
       "3    0.202179\n",
       "4    0.000000\n",
       "5    0.366765\n",
       "6    0.000000\n",
       "7    0.000000\n",
       "8    0.000000\n",
       "9    0.000000\n",
       "10   0.431055\n",
       "dtype: float64"
      ]
     },
     "execution_count": 146,
     "metadata": {},
     "output_type": "execute_result"
    }
   ],
   "source": [
    "# coverting them into a set of weights\n",
    "weights = dcf/dcf.sum()\n",
    "weights"
   ]
  },
  {
   "cell_type": "code",
   "execution_count": 147,
   "id": "e8a776a4-707d-4e84-8f47-fb58b1a78534",
   "metadata": {
    "tags": []
   },
   "outputs": [
    {
     "data": {
      "text/plain": [
       "6.750917852744651"
      ]
     },
     "execution_count": 147,
     "metadata": {},
     "output_type": "execute_result"
    }
   ],
   "source": [
    "# weighted average of all the periods: This is the weighted average time,\n",
    "#I am waiting to get all my money back\n",
    "macaulay_duration = (cf.index * weights).sum()\n",
    "macaulay_duration"
   ]
  },
  {
   "cell_type": "markdown",
   "id": "98345857-4a8f-44ed-8c38-6640950a0337",
   "metadata": {},
   "source": [
    "Assuming the same set of liabilities ,\n",
    "build a duration matched portfolio of B1 and B2 to match these liabilities.\n",
    "What is the weight of B2 in the portfolio?\n",
    "(Hint: the code we developed in match_duration() assumes that all bonds have the same number of coupons per year.\n",
    "This is not the case here."
   ]
  },
  {
   "cell_type": "code",
   "execution_count": 148,
   "id": "76344796-dd9a-4821-a2ae-f757e053df35",
   "metadata": {},
   "outputs": [
    {
     "data": {
      "text/plain": [
       "3     100000\n",
       "5     200000\n",
       "10    300000\n",
       "dtype: int64"
      ]
     },
     "execution_count": 148,
     "metadata": {},
     "output_type": "execute_result"
    }
   ],
   "source": [
    "liabilities = pd.Series(data=[liab1, liab2, liab3], index=[3, 5, 10])\n",
    "liabilities"
   ]
  },
  {
   "cell_type": "code",
   "execution_count": 149,
   "id": "cdde21d5-9fca-454f-8668-fdb0eaaf615e",
   "metadata": {
    "tags": []
   },
   "outputs": [
    {
     "data": {
      "text/plain": [
       "6.750917852744651"
      ]
     },
     "execution_count": 149,
     "metadata": {},
     "output_type": "execute_result"
    }
   ],
   "source": [
    "m.macaulay_duration2(liabilities, 0.05)"
   ]
  },
  {
   "cell_type": "code",
   "execution_count": 150,
   "id": "29a11ce6-2d33-4570-8765-3adcdde3ec45",
   "metadata": {
    "tags": []
   },
   "outputs": [
    {
     "data": {
      "text/plain": [
       "(9.372592076904976, 4.080205545924238)"
      ]
     },
     "execution_count": 150,
     "metadata": {},
     "output_type": "execute_result"
    }
   ],
   "source": [
    "b1_duration=m.macaulay_duration2(m.bond_cash_flows(15, 1000, .05, 2), .05)/2\n",
    "b2_duration = m.macaulay_duration2(m.bond_cash_flows(5, 1000, .06, 4), .05)/4\n",
    "b1_duration, b2_duration"
   ]
  },
  {
   "cell_type": "code",
   "execution_count": 227,
   "id": "66410dbb-7242-4808-8a97-ec776feeb74b",
   "metadata": {
    "tags": []
   },
   "outputs": [
    {
     "data": {
      "text/plain": [
       "Int64Index([ 1,  2,  3,  4,  5,  6,  7,  8,  9, 10, 11, 12, 13, 14, 15, 16, 17,\n",
       "            18, 19, 20, 21, 22, 23, 24, 25, 26, 27, 28, 29, 30, 31, 32, 33, 34,\n",
       "            35, 36, 37, 38, 39, 40, 41, 42, 43, 44, 45, 46, 47, 48, 49, 50, 51,\n",
       "            52, 53, 54, 55, 56, 57, 58, 59, 60],\n",
       "           dtype='int64')"
      ]
     },
     "execution_count": 227,
     "metadata": {},
     "output_type": "execute_result"
    }
   ],
   "source": [
    "# create index frequency\n",
    "data = pd.DataFrame()\n",
    "data.index = np.arange(60) + 1\n",
    "data.index"
   ]
  },
  {
   "cell_type": "code",
   "execution_count": 228,
   "id": "3b0c60d8-15ea-4163-a697-fb5366402888",
   "metadata": {
    "tags": []
   },
   "outputs": [],
   "source": [
    "b1= m.bond_cash_flows(15, 1000, .05, 2)\n",
    "b1.index =b1.index*2"
   ]
  },
  {
   "cell_type": "code",
   "execution_count": 229,
   "id": "825f02ab-cc99-4bb6-a8bb-be268a159b24",
   "metadata": {
    "tags": []
   },
   "outputs": [
    {
     "name": "stdout",
     "output_type": "stream",
     "text": [
      "1    0.000000\n",
      "2   25.000000\n",
      "3    0.000000\n",
      "4   25.000000\n",
      "5    0.000000\n",
      "Name: 0, dtype: float64\n"
     ]
    },
    {
     "data": {
      "text/plain": [
       "(60,)"
      ]
     },
     "execution_count": 229,
     "metadata": {},
     "output_type": "execute_result"
    },
    {
     "data": {
      "text/plain": [
       "1025.0"
      ]
     },
     "execution_count": 229,
     "metadata": {},
     "output_type": "execute_result"
    }
   ],
   "source": [
    "data = pd.concat([data, b1], axis=1).replace(np.nan, 0).squeeze()\n",
    "print(data.head())\n",
    "data.shape\n",
    "data.iloc[-1]"
   ]
  },
  {
   "cell_type": "code",
   "execution_count": 249,
   "id": "bb8d313b-c157-4d92-a40a-ef7971f74437",
   "metadata": {
    "tags": []
   },
   "outputs": [
    {
     "data": {
      "text/plain": [
       "0   996.736445\n",
       "dtype: float64"
      ]
     },
     "execution_count": 249,
     "metadata": {},
     "output_type": "execute_result"
    }
   ],
   "source": [
    "p_b1_bond= m.pv(data, 0.05/4)\n",
    "p_b1_bond"
   ]
  },
  {
   "cell_type": "code",
   "execution_count": 250,
   "id": "6398d48d-5eb5-4514-90c3-776e1a64965c",
   "metadata": {
    "tags": []
   },
   "outputs": [
    {
     "data": {
      "text/plain": [
       "1      15.000000\n",
       "2      15.000000\n",
       "3      15.000000\n",
       "4      15.000000\n",
       "5      15.000000\n",
       "6      15.000000\n",
       "7      15.000000\n",
       "8      15.000000\n",
       "9      15.000000\n",
       "10     15.000000\n",
       "11     15.000000\n",
       "12     15.000000\n",
       "13     15.000000\n",
       "14     15.000000\n",
       "15     15.000000\n",
       "16     15.000000\n",
       "17     15.000000\n",
       "18     15.000000\n",
       "19     15.000000\n",
       "20   1015.000000\n",
       "dtype: float64"
      ]
     },
     "execution_count": 250,
     "metadata": {},
     "output_type": "execute_result"
    }
   ],
   "source": [
    "b2= m.bond_cash_flows(5, 1000, .06, 4)\n",
    "b2"
   ]
  },
  {
   "cell_type": "code",
   "execution_count": 251,
   "id": "9a8e3ab7-1753-4e37-9ee8-fd1856067379",
   "metadata": {
    "tags": []
   },
   "outputs": [
    {
     "data": {
      "text/plain": [
       "0   1043.294767\n",
       "dtype: float64"
      ]
     },
     "execution_count": 251,
     "metadata": {},
     "output_type": "execute_result"
    }
   ],
   "source": [
    "p_b2_bond = m.bond_price(5, 1000, .06, 1, 0.05)\n",
    "p_b2_bond"
   ]
  },
  {
   "cell_type": "code",
   "execution_count": 252,
   "id": "5bb55f47-8d03-4e58-a197-ee924a41b350",
   "metadata": {
    "tags": []
   },
   "outputs": [],
   "source": [
    "short_bond= b2\n",
    "long_bond=data\n",
    "#w_s = m.match_duration(liabilities, short_bond, long_bond, 0.05) # discount_rate is 5%"
   ]
  },
  {
   "cell_type": "code",
   "execution_count": 296,
   "id": "43cd41a2-9c52-46d3-8cf2-a0eab43e990a",
   "metadata": {
    "tags": []
   },
   "outputs": [
    {
     "data": {
      "text/plain": [
       "0.6236589170428625"
      ]
     },
     "execution_count": 296,
     "metadata": {},
     "output_type": "execute_result"
    }
   ],
   "source": [
    "d_t = m.macaulay_duration2(liabilities, 0.05)\n",
    "d_s = m.macaulay_duration2(short_bond, 0.06/4)/4\n",
    "d_l = m.macaulay_duration2(long_bond, 0.05/4)/4\n",
    "w_s = (d_l - d_t)/(d_l - d_s)\n",
    "w_s"
   ]
  },
  {
   "cell_type": "code",
   "execution_count": 297,
   "id": "29f5f6bd-8257-4900-b79d-b07a1b59b755",
   "metadata": {
    "tags": []
   },
   "outputs": [
    {
     "data": {
      "text/plain": [
       "(6.750917852744651, 4.356542091714541, 10.718791310471271, 0.6236589170428625)"
      ]
     },
     "execution_count": 297,
     "metadata": {},
     "output_type": "execute_result"
    }
   ],
   "source": [
    "d_t, d_s, d_l, w_s"
   ]
  },
  {
   "cell_type": "code",
   "execution_count": 299,
   "id": "8832d17e-99c0-480a-83b5-7740783db2ad",
   "metadata": {
    "tags": []
   },
   "outputs": [
    {
     "data": {
      "text/plain": [
       "6.756542027154925"
      ]
     },
     "execution_count": 299,
     "metadata": {},
     "output_type": "execute_result"
    }
   ],
   "source": [
    "a_0=1000\n",
    "p_short = m.bond_price(5, 1000, 0.06, 4, 0.05)\n",
    "p_long=  m.bond_price(15, 1000, 0.05, 2, 0.05)\n",
    "p_flows =  pd.concat([(a_0*w_s/p_short).values*short_bond, \\\n",
    "                      (a_0*(1-w_s)/p_long).values*long_bond])\n",
    "duration = m.macaulay_duration2(p_flows, 0.05/4)/4\n",
    "duration"
   ]
  },
  {
   "cell_type": "code",
   "execution_count": 264,
   "id": "232e2e11-513d-4c63-9821-f43f0ca2c89b",
   "metadata": {
    "tags": []
   },
   "outputs": [
    {
     "data": {
      "text/plain": [
       "0   1043.998290\n",
       "dtype: float64"
      ]
     },
     "execution_count": 264,
     "metadata": {},
     "output_type": "execute_result"
    }
   ],
   "source": [
    "p_short_bond"
   ]
  },
  {
   "cell_type": "code",
   "execution_count": 265,
   "id": "2c4cd059-eb51-42a6-8676-4e49ae998bfe",
   "metadata": {
    "tags": []
   },
   "outputs": [
    {
     "data": {
      "text/plain": [
       "0   1000.000000\n",
       "dtype: float64"
      ]
     },
     "execution_count": 265,
     "metadata": {},
     "output_type": "execute_result"
    }
   ],
   "source": [
    "p_long_bond"
   ]
  },
  {
   "cell_type": "code",
   "execution_count": 242,
   "id": "48590da0-7d97-42fa-9dbc-19f2abf2a574",
   "metadata": {
    "tags": []
   },
   "outputs": [
    {
     "data": {
      "text/plain": [
       "1     10.066562\n",
       "2     10.066562\n",
       "3     10.066562\n",
       "4     10.066562\n",
       "5     10.066562\n",
       "6     10.066562\n",
       "7     10.066562\n",
       "8     10.066562\n",
       "9     10.066562\n",
       "10    10.066562\n",
       "11    10.066562\n",
       "12    10.066562\n",
       "13    10.066562\n",
       "14    10.066562\n",
       "15    10.066562\n",
       "16    10.066562\n",
       "17    10.066562\n",
       "18    10.066562\n",
       "19    10.066562\n",
       "20   681.170682\n",
       "dtype: float64"
      ]
     },
     "execution_count": 242,
     "metadata": {},
     "output_type": "execute_result"
    }
   ],
   "source": [
    "(a_0*w_s/p_short_bond).values*short_bond"
   ]
  },
  {
   "cell_type": "code",
   "execution_count": 243,
   "id": "226e1324-ab95-42e4-a7e6-bd7f89e5dd64",
   "metadata": {
    "tags": []
   },
   "outputs": [
    {
     "data": {
      "text/plain": [
       "0   0.671104\n",
       "dtype: float64"
      ]
     },
     "execution_count": 243,
     "metadata": {},
     "output_type": "execute_result"
    }
   ],
   "source": [
    "(a_0*w_s/p_short_bond)"
   ]
  },
  {
   "cell_type": "code",
   "execution_count": 244,
   "id": "631e8468-2c7f-43d8-8279-594c67ca7232",
   "metadata": {
    "tags": []
   },
   "outputs": [
    {
     "data": {
      "text/plain": [
       "42     7.484211\n",
       "43     0.000000\n",
       "44     7.484211\n",
       "45     0.000000\n",
       "46     7.484211\n",
       "47     0.000000\n",
       "48     7.484211\n",
       "49     0.000000\n",
       "50     7.484211\n",
       "51     0.000000\n",
       "52     7.484211\n",
       "53     0.000000\n",
       "54     7.484211\n",
       "55     0.000000\n",
       "56     7.484211\n",
       "57     0.000000\n",
       "58     7.484211\n",
       "59     0.000000\n",
       "60   306.852657\n",
       "dtype: float64"
      ]
     },
     "execution_count": 244,
     "metadata": {},
     "output_type": "execute_result"
    },
    {
     "data": {
      "text/plain": [
       "(80,)"
      ]
     },
     "execution_count": 244,
     "metadata": {},
     "output_type": "execute_result"
    }
   ],
   "source": [
    "p_flows[61:80]\n",
    "p_flows.shape"
   ]
  },
  {
   "cell_type": "markdown",
   "id": "e1a969da-08b1-4f4a-9f23-4be4ade2cf7a",
   "metadata": {},
   "source": [
    "#### b1 15-Year-bond, FV=1000, 5% coupon, coupons_per_year=2\n",
    "#### b2 5-Year-bond,  FV=1000, 6% coupon, coupons_per_year=4\n",
    "#### b3 10-Year-ZC,   FV=1000\n",
    "#### yield curve flat 5%"
   ]
  },
  {
   "cell_type": "code",
   "execution_count": 300,
   "id": "11d386c6-3dec-4866-bb43-f9a97462799a",
   "metadata": {
    "tags": []
   },
   "outputs": [
    {
     "data": {
      "text/plain": [
       "3     100000\n",
       "5     200000\n",
       "10    300000\n",
       "dtype: int64"
      ]
     },
     "execution_count": 300,
     "metadata": {},
     "output_type": "execute_result"
    }
   ],
   "source": [
    "# combination of b2 and b3\n",
    "liabilities = pd.Series(data=[liab1, liab2, liab3], index=[3, 5, 10])\n",
    "liabilities"
   ]
  },
  {
   "cell_type": "code",
   "execution_count": 311,
   "id": "7645a9b7-ac87-479e-afd1-8c1fca76d9d7",
   "metadata": {
    "tags": []
   },
   "outputs": [
    {
     "data": {
      "text/plain": [
       "Int64Index([ 1,  2,  3,  4,  5,  6,  7,  8,  9, 10, 11, 12, 13, 14, 15, 16, 17,\n",
       "            18, 19, 20, 21, 22, 23, 24, 25, 26, 27, 28, 29, 30, 31, 32, 33, 34,\n",
       "            35, 36, 37, 38, 39, 40],\n",
       "           dtype='int64')"
      ]
     },
     "execution_count": 311,
     "metadata": {},
     "output_type": "execute_result"
    }
   ],
   "source": [
    "# create index frequency\n",
    "data2 = pd.DataFrame()\n",
    "data2.index = np.arange(40) + 1\n",
    "data2.index"
   ]
  },
  {
   "cell_type": "code",
   "execution_count": 312,
   "id": "69aaeee5-338a-4268-b104-ad6ff46dec50",
   "metadata": {
    "tags": []
   },
   "outputs": [
    {
     "data": {
      "text/plain": [
       "4       0.000000\n",
       "8       0.000000\n",
       "12      0.000000\n",
       "16      0.000000\n",
       "20      0.000000\n",
       "24      0.000000\n",
       "28      0.000000\n",
       "32      0.000000\n",
       "36      0.000000\n",
       "40   1000.000000\n",
       "dtype: float64"
      ]
     },
     "execution_count": 312,
     "metadata": {},
     "output_type": "execute_result"
    }
   ],
   "source": [
    "b3= m.bond_cash_flows(10, 1000, 0., 1)\n",
    "b3.index =b3.index*4\n",
    "b3"
   ]
  },
  {
   "cell_type": "code",
   "execution_count": 313,
   "id": "d2614827-99b6-4393-86a1-f01f3d10ce72",
   "metadata": {
    "tags": []
   },
   "outputs": [
    {
     "name": "stdout",
     "output_type": "stream",
     "text": [
      "1   0.000000\n",
      "2   0.000000\n",
      "3   0.000000\n",
      "4   0.000000\n",
      "5   0.000000\n",
      "Name: 0, dtype: float64\n"
     ]
    },
    {
     "data": {
      "text/plain": [
       "(40,)"
      ]
     },
     "execution_count": 313,
     "metadata": {},
     "output_type": "execute_result"
    },
    {
     "data": {
      "text/plain": [
       "1000.0"
      ]
     },
     "execution_count": 313,
     "metadata": {},
     "output_type": "execute_result"
    }
   ],
   "source": [
    "data2 = pd.concat([data2, b3], axis=1).replace(np.nan, 0).squeeze()\n",
    "print(data2.head())\n",
    "data2.shape\n",
    "data2.iloc[-1]"
   ]
  },
  {
   "cell_type": "code",
   "execution_count": 314,
   "id": "9a8b01d9-2e63-4284-bd2e-10c637fcb1f6",
   "metadata": {
    "tags": []
   },
   "outputs": [
    {
     "data": {
      "text/plain": [
       "0   608.413335\n",
       "dtype: float64"
      ]
     },
     "execution_count": 314,
     "metadata": {},
     "output_type": "execute_result"
    }
   ],
   "source": [
    "p_b3_bond= m.pv(data, 0.05/4)\n",
    "p_b3_bond"
   ]
  },
  {
   "cell_type": "code",
   "execution_count": 315,
   "id": "7eb05d23-6edd-4bfe-82e2-361bcc525d62",
   "metadata": {
    "tags": []
   },
   "outputs": [
    {
     "data": {
      "text/plain": [
       "1      15.000000\n",
       "2      15.000000\n",
       "3      15.000000\n",
       "4      15.000000\n",
       "5      15.000000\n",
       "6      15.000000\n",
       "7      15.000000\n",
       "8      15.000000\n",
       "9      15.000000\n",
       "10     15.000000\n",
       "11     15.000000\n",
       "12     15.000000\n",
       "13     15.000000\n",
       "14     15.000000\n",
       "15     15.000000\n",
       "16     15.000000\n",
       "17     15.000000\n",
       "18     15.000000\n",
       "19     15.000000\n",
       "20   1015.000000\n",
       "dtype: float64"
      ]
     },
     "execution_count": 315,
     "metadata": {},
     "output_type": "execute_result"
    }
   ],
   "source": [
    "b2= m.bond_cash_flows(5, 1000, .06, 4)\n",
    "b2"
   ]
  },
  {
   "cell_type": "code",
   "execution_count": 316,
   "id": "93955bcb-f812-4bf2-9755-a896cb0249fd",
   "metadata": {
    "tags": []
   },
   "outputs": [
    {
     "data": {
      "text/plain": [
       "0   1043.294767\n",
       "dtype: float64"
      ]
     },
     "execution_count": 316,
     "metadata": {},
     "output_type": "execute_result"
    }
   ],
   "source": [
    "p_b2_bond = m.bond_price(5, 1000, .06, 1, 0.05)\n",
    "p_b2_bond"
   ]
  },
  {
   "cell_type": "code",
   "execution_count": 318,
   "id": "ee2140de-fac2-4ec1-8b09-fb4bf0eb708a",
   "metadata": {
    "tags": []
   },
   "outputs": [],
   "source": [
    "short_bond= b2\n",
    "long_bond=data2"
   ]
  },
  {
   "cell_type": "code",
   "execution_count": 320,
   "id": "f3c480d1-1cd2-4263-b332-c3bc7a490579",
   "metadata": {
    "tags": []
   },
   "outputs": [
    {
     "data": {
      "text/plain": [
       "0.5757254151723538"
      ]
     },
     "execution_count": 320,
     "metadata": {},
     "output_type": "execute_result"
    }
   ],
   "source": [
    "d_t = m.macaulay_duration2(liabilities, 0.05)\n",
    "d_s = m.macaulay_duration2(short_bond, 0.06/4)/4\n",
    "d_l = m.macaulay_duration2(long_bond, 0.05/4)/4\n",
    "w_s = (d_l - d_t)/(d_l - d_s)\n",
    "w_s"
   ]
  },
  {
   "cell_type": "code",
   "execution_count": 322,
   "id": "0fd95233-da62-4215-9616-3400bf929cce",
   "metadata": {
    "tags": []
   },
   "outputs": [
    {
     "data": {
      "text/plain": [
       "6.760602205328315"
      ]
     },
     "execution_count": 322,
     "metadata": {},
     "output_type": "execute_result"
    }
   ],
   "source": [
    "a_0=1000\n",
    "p_short = m.bond_price(5, 1000, 0.06, 4, 0.05)\n",
    "p_long =  p_b3_bond\n",
    "p_flows =  pd.concat([(a_0*w_s/p_short).values*short_bond, \\\n",
    "                      (a_0*(1-w_s)/p_long).values*long_bond])\n",
    "duration = m.macaulay_duration2(p_flows, 0.05/4)/4\n",
    "duration"
   ]
  },
  {
   "cell_type": "code",
   "execution_count": null,
   "id": "b3299457-7f4e-4a9e-be75-cf13d6abbcdf",
   "metadata": {},
   "outputs": [],
   "source": []
  }
 ],
 "metadata": {
  "kernelspec": {
   "display_name": "Python (modern_ts)",
   "language": "python",
   "name": "modern_ts"
  },
  "language_info": {
   "codemirror_mode": {
    "name": "ipython",
    "version": 3
   },
   "file_extension": ".py",
   "mimetype": "text/x-python",
   "name": "python",
   "nbconvert_exporter": "python",
   "pygments_lexer": "ipython3",
   "version": "3.10.12"
  }
 },
 "nbformat": 4,
 "nbformat_minor": 5
}
