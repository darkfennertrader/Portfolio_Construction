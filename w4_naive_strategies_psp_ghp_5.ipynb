{
 "cells": [
  {
   "cell_type": "markdown",
   "id": "a2d34c08-d1eb-443f-8d27-34365c28ba7d",
   "metadata": {
    "tags": []
   },
   "source": [
    "### Naive Risk Budgeting Strategies between PSP and GHP"
   ]
  },
  {
   "cell_type": "code",
   "execution_count": 27,
   "id": "e232b7b2-638b-4977-91dc-ba435f7ecf4c",
   "metadata": {
    "tags": []
   },
   "outputs": [
    {
     "name": "stdout",
     "output_type": "stream",
     "text": [
      "The autoreload extension is already loaded. To reload it, use:\n",
      "  %reload_ext autoreload\n"
     ]
    }
   ],
   "source": [
    "# used during development to releoad modules every time there is a change\n",
    "%load_ext autoreload\n",
    "%autoreload 2\n",
    "import numpy as np\n",
    "import pandas as pd\n",
    "from scipy.stats import norm\n",
    "import matplotlib.pyplot as plt\n",
    "import seaborn as sns\n",
    "from scipy.optimize import minimize\n",
    "from risk_kit import Metrics, pre_processing_ind, get_ind30_nfirms,\\\n",
    "                    get_ind30_size, plot_ef2, fixedmix_allocator, glidepath_allocator\n",
    "import ipywidgets as widgets\n",
    "from IPython.display import display\n",
    "import warnings\n",
    "warnings.filterwarnings('ignore')\n",
    "\n",
    "pd.options.display.float_format = '{:.6f}'.format\n",
    "\n",
    "m = Metrics()"
   ]
  },
  {
   "cell_type": "markdown",
   "id": "4477df1d-d7d1-46d9-81ea-2804158ceaa0",
   "metadata": {},
   "source": [
    "Let's figure out how to build Allocators, portfolio that makes the PSP and GHP\n",
    "in a systematic way"
   ]
  },
  {
   "cell_type": "code",
   "execution_count": 2,
   "id": "7f84954e-8f1c-423a-8faf-68c1ad588535",
   "metadata": {
    "tags": []
   },
   "outputs": [],
   "source": [
    "# generate rates and ZC Bond prices\n",
    "rates, zc_prices = m.cir(10, 500, b=0.03, r_0=0.03)\n",
    "# let's consider a 10-year bond\n",
    "price_10 = m.bond_price(10, 100, 0.05, 12, rates)\n",
    "rets_10 = m.bond_total_return(price_10, 100, 0.05, 12)\n",
    "# let's consider a 30-year bond after 10 years\n",
    "price_30 = m.bond_price(30, 100, 0.05, 12, rates)\n",
    "rets_30 = m.bond_total_return(price_30, 100, 0.05, 12)"
   ]
  },
  {
   "cell_type": "code",
   "execution_count": 4,
   "id": "260c9aee-2836-40e0-9c42-9a6089c7ec6d",
   "metadata": {
    "tags": []
   },
   "outputs": [
    {
     "data": {
      "text/html": [
       "<div>\n",
       "<style scoped>\n",
       "    .dataframe tbody tr th:only-of-type {\n",
       "        vertical-align: middle;\n",
       "    }\n",
       "\n",
       "    .dataframe tbody tr th {\n",
       "        vertical-align: top;\n",
       "    }\n",
       "\n",
       "    .dataframe thead th {\n",
       "        text-align: right;\n",
       "    }\n",
       "</style>\n",
       "<table border=\"1\" class=\"dataframe\">\n",
       "  <thead>\n",
       "    <tr style=\"text-align: right;\">\n",
       "      <th></th>\n",
       "      <th>0</th>\n",
       "      <th>1</th>\n",
       "      <th>2</th>\n",
       "      <th>3</th>\n",
       "      <th>4</th>\n",
       "      <th>5</th>\n",
       "      <th>6</th>\n",
       "      <th>7</th>\n",
       "      <th>8</th>\n",
       "      <th>9</th>\n",
       "      <th>...</th>\n",
       "      <th>490</th>\n",
       "      <th>491</th>\n",
       "      <th>492</th>\n",
       "      <th>493</th>\n",
       "      <th>494</th>\n",
       "      <th>495</th>\n",
       "      <th>496</th>\n",
       "      <th>497</th>\n",
       "      <th>498</th>\n",
       "      <th>499</th>\n",
       "    </tr>\n",
       "  </thead>\n",
       "  <tbody>\n",
       "    <tr>\n",
       "      <th>1</th>\n",
       "      <td>0.001429</td>\n",
       "      <td>-0.037709</td>\n",
       "      <td>-0.049564</td>\n",
       "      <td>-0.031290</td>\n",
       "      <td>0.033272</td>\n",
       "      <td>-0.036172</td>\n",
       "      <td>-0.003436</td>\n",
       "      <td>0.037842</td>\n",
       "      <td>0.014303</td>\n",
       "      <td>-0.039820</td>\n",
       "      <td>...</td>\n",
       "      <td>-0.015981</td>\n",
       "      <td>-0.027405</td>\n",
       "      <td>0.003249</td>\n",
       "      <td>0.021505</td>\n",
       "      <td>0.015596</td>\n",
       "      <td>-0.027088</td>\n",
       "      <td>-0.025103</td>\n",
       "      <td>0.009861</td>\n",
       "      <td>-0.005952</td>\n",
       "      <td>-0.048879</td>\n",
       "    </tr>\n",
       "    <tr>\n",
       "      <th>2</th>\n",
       "      <td>0.013651</td>\n",
       "      <td>0.005737</td>\n",
       "      <td>0.083275</td>\n",
       "      <td>-0.009013</td>\n",
       "      <td>-0.014935</td>\n",
       "      <td>0.009622</td>\n",
       "      <td>0.009717</td>\n",
       "      <td>0.042955</td>\n",
       "      <td>0.025218</td>\n",
       "      <td>-0.017660</td>\n",
       "      <td>...</td>\n",
       "      <td>-0.042280</td>\n",
       "      <td>0.023023</td>\n",
       "      <td>0.019870</td>\n",
       "      <td>0.063894</td>\n",
       "      <td>0.051877</td>\n",
       "      <td>0.016924</td>\n",
       "      <td>-0.021603</td>\n",
       "      <td>-0.009209</td>\n",
       "      <td>-0.016207</td>\n",
       "      <td>-0.056571</td>\n",
       "    </tr>\n",
       "    <tr>\n",
       "      <th>3</th>\n",
       "      <td>0.001005</td>\n",
       "      <td>-0.036047</td>\n",
       "      <td>-0.020224</td>\n",
       "      <td>0.022661</td>\n",
       "      <td>0.037914</td>\n",
       "      <td>-0.079990</td>\n",
       "      <td>-0.032711</td>\n",
       "      <td>0.011918</td>\n",
       "      <td>-0.032728</td>\n",
       "      <td>0.002086</td>\n",
       "      <td>...</td>\n",
       "      <td>0.022781</td>\n",
       "      <td>0.006443</td>\n",
       "      <td>-0.006908</td>\n",
       "      <td>-0.015018</td>\n",
       "      <td>-0.025812</td>\n",
       "      <td>0.030509</td>\n",
       "      <td>-0.025985</td>\n",
       "      <td>0.039282</td>\n",
       "      <td>-0.016764</td>\n",
       "      <td>-0.007300</td>\n",
       "    </tr>\n",
       "    <tr>\n",
       "      <th>4</th>\n",
       "      <td>0.004276</td>\n",
       "      <td>0.001403</td>\n",
       "      <td>0.059476</td>\n",
       "      <td>0.039422</td>\n",
       "      <td>-0.007560</td>\n",
       "      <td>-0.004948</td>\n",
       "      <td>-0.027933</td>\n",
       "      <td>-0.042236</td>\n",
       "      <td>0.013263</td>\n",
       "      <td>0.042423</td>\n",
       "      <td>...</td>\n",
       "      <td>-0.092477</td>\n",
       "      <td>0.024644</td>\n",
       "      <td>-0.019816</td>\n",
       "      <td>0.000897</td>\n",
       "      <td>-0.059358</td>\n",
       "      <td>0.022438</td>\n",
       "      <td>0.027420</td>\n",
       "      <td>-0.018831</td>\n",
       "      <td>0.068234</td>\n",
       "      <td>0.043151</td>\n",
       "    </tr>\n",
       "    <tr>\n",
       "      <th>5</th>\n",
       "      <td>0.000561</td>\n",
       "      <td>0.053520</td>\n",
       "      <td>-0.004056</td>\n",
       "      <td>0.005981</td>\n",
       "      <td>-0.009102</td>\n",
       "      <td>-0.023691</td>\n",
       "      <td>0.034927</td>\n",
       "      <td>0.013654</td>\n",
       "      <td>-0.051613</td>\n",
       "      <td>-0.011418</td>\n",
       "      <td>...</td>\n",
       "      <td>0.012078</td>\n",
       "      <td>-0.039253</td>\n",
       "      <td>-0.030158</td>\n",
       "      <td>0.004213</td>\n",
       "      <td>0.025594</td>\n",
       "      <td>0.022736</td>\n",
       "      <td>0.004317</td>\n",
       "      <td>-0.001194</td>\n",
       "      <td>-0.030491</td>\n",
       "      <td>0.019036</td>\n",
       "    </tr>\n",
       "  </tbody>\n",
       "</table>\n",
       "<p>5 rows × 500 columns</p>\n",
       "</div>"
      ],
      "text/plain": [
       "       0         1         2         3         4         5         6    \\\n",
       "1 0.001429 -0.037709 -0.049564 -0.031290  0.033272 -0.036172 -0.003436   \n",
       "2 0.013651  0.005737  0.083275 -0.009013 -0.014935  0.009622  0.009717   \n",
       "3 0.001005 -0.036047 -0.020224  0.022661  0.037914 -0.079990 -0.032711   \n",
       "4 0.004276  0.001403  0.059476  0.039422 -0.007560 -0.004948 -0.027933   \n",
       "5 0.000561  0.053520 -0.004056  0.005981 -0.009102 -0.023691  0.034927   \n",
       "\n",
       "        7         8         9    ...       490       491       492       493  \\\n",
       "1  0.037842  0.014303 -0.039820  ... -0.015981 -0.027405  0.003249  0.021505   \n",
       "2  0.042955  0.025218 -0.017660  ... -0.042280  0.023023  0.019870  0.063894   \n",
       "3  0.011918 -0.032728  0.002086  ...  0.022781  0.006443 -0.006908 -0.015018   \n",
       "4 -0.042236  0.013263  0.042423  ... -0.092477  0.024644 -0.019816  0.000897   \n",
       "5  0.013654 -0.051613 -0.011418  ...  0.012078 -0.039253 -0.030158  0.004213   \n",
       "\n",
       "        494       495       496       497       498       499  \n",
       "1  0.015596 -0.027088 -0.025103  0.009861 -0.005952 -0.048879  \n",
       "2  0.051877  0.016924 -0.021603 -0.009209 -0.016207 -0.056571  \n",
       "3 -0.025812  0.030509 -0.025985  0.039282 -0.016764 -0.007300  \n",
       "4 -0.059358  0.022438  0.027420 -0.018831  0.068234  0.043151  \n",
       "5  0.025594  0.022736  0.004317 -0.001194 -0.030491  0.019036  \n",
       "\n",
       "[5 rows x 500 columns]"
      ]
     },
     "execution_count": 4,
     "metadata": {},
     "output_type": "execute_result"
    }
   ],
   "source": [
    "rets_bonds = m.bt_mix(rets_10, rets_30, allocator=fixedmix_allocator, w1=.6)\n",
    "rets_bonds.head()"
   ]
  },
  {
   "cell_type": "code",
   "execution_count": 5,
   "id": "e9cccd4e-356f-4354-a8df-3c9165643f70",
   "metadata": {
    "tags": []
   },
   "outputs": [
    {
     "data": {
      "text/html": [
       "<div>\n",
       "<style scoped>\n",
       "    .dataframe tbody tr th:only-of-type {\n",
       "        vertical-align: middle;\n",
       "    }\n",
       "\n",
       "    .dataframe tbody tr th {\n",
       "        vertical-align: top;\n",
       "    }\n",
       "\n",
       "    .dataframe thead th {\n",
       "        text-align: right;\n",
       "    }\n",
       "</style>\n",
       "<table border=\"1\" class=\"dataframe\">\n",
       "  <thead>\n",
       "    <tr style=\"text-align: right;\">\n",
       "      <th></th>\n",
       "      <th>Ann. Return</th>\n",
       "      <th>Ann. Volatility</th>\n",
       "      <th>Skewness</th>\n",
       "      <th>Kurtosis</th>\n",
       "      <th>Corn-Fisher VaR (5%)</th>\n",
       "      <th>Hist. CVar (5%)</th>\n",
       "      <th>Sharpe Ratio</th>\n",
       "      <th>Max Drawdown</th>\n",
       "    </tr>\n",
       "  </thead>\n",
       "  <tbody>\n",
       "    <tr>\n",
       "      <th>0</th>\n",
       "      <td>0.035870</td>\n",
       "      <td>0.003384</td>\n",
       "      <td>0.051227</td>\n",
       "      <td>3.615259</td>\n",
       "      <td>-0.001368</td>\n",
       "      <td>-0.000865</td>\n",
       "      <td>1.688565</td>\n",
       "      <td>-0.000106</td>\n",
       "    </tr>\n",
       "  </tbody>\n",
       "</table>\n",
       "</div>"
      ],
      "text/plain": [
       "   Ann. Return  Ann. Volatility  Skewness  Kurtosis  Corn-Fisher VaR (5%)  \\\n",
       "0     0.035870         0.003384  0.051227  3.615259             -0.001368   \n",
       "\n",
       "   Hist. CVar (5%)  Sharpe Ratio  Max Drawdown  \n",
       "0        -0.000865      1.688565     -0.000106  "
      ]
     },
     "execution_count": 5,
     "metadata": {},
     "output_type": "execute_result"
    }
   ],
   "source": [
    "# build composite return across all bonds\n",
    "mean_rets_bonds = rets_bonds.mean(axis=\"columns\")\n",
    "m.summary_stats(pd.DataFrame(mean_rets_bonds))"
   ]
  },
  {
   "cell_type": "code",
   "execution_count": 6,
   "id": "6a3a9d0e-d25b-43e4-87f9-c6ac12b21d2e",
   "metadata": {
    "tags": []
   },
   "outputs": [],
   "source": [
    "price_eq = m.gbm(n_years=10, n_scenarios=500 , mu=0.07, sigma=0.15)\n",
    "rets_eq =price_eq.pct_change().dropna()\n",
    "rets_zc = zc_prices.pct_change().dropna()"
   ]
  },
  {
   "cell_type": "code",
   "execution_count": 7,
   "id": "8e5587e3-dad6-4dd2-b159-e55681cffea6",
   "metadata": {
    "tags": []
   },
   "outputs": [],
   "source": [
    "# construct a portfolio PSP and GHP\n",
    "rets_7030b = m.bt_mix(rets_eq, rets_bonds, allocator=fixedmix_allocator, w1=0.7)"
   ]
  },
  {
   "cell_type": "code",
   "execution_count": 8,
   "id": "0aa9c185-9d84-4c94-a516-a11c03fa5e92",
   "metadata": {
    "tags": []
   },
   "outputs": [
    {
     "data": {
      "text/html": [
       "<div>\n",
       "<style scoped>\n",
       "    .dataframe tbody tr th:only-of-type {\n",
       "        vertical-align: middle;\n",
       "    }\n",
       "\n",
       "    .dataframe tbody tr th {\n",
       "        vertical-align: top;\n",
       "    }\n",
       "\n",
       "    .dataframe thead th {\n",
       "        text-align: right;\n",
       "    }\n",
       "</style>\n",
       "<table border=\"1\" class=\"dataframe\">\n",
       "  <thead>\n",
       "    <tr style=\"text-align: right;\">\n",
       "      <th></th>\n",
       "      <th>Ann. Return</th>\n",
       "      <th>Ann. Volatility</th>\n",
       "      <th>Skewness</th>\n",
       "      <th>Kurtosis</th>\n",
       "      <th>Corn-Fisher VaR (5%)</th>\n",
       "      <th>Hist. CVar (5%)</th>\n",
       "      <th>Sharpe Ratio</th>\n",
       "      <th>Max Drawdown</th>\n",
       "    </tr>\n",
       "  </thead>\n",
       "  <tbody>\n",
       "    <tr>\n",
       "      <th>0</th>\n",
       "      <td>0.059438</td>\n",
       "      <td>0.004492</td>\n",
       "      <td>0.045154</td>\n",
       "      <td>2.411831</td>\n",
       "      <td>-0.002701</td>\n",
       "      <td>-0.002332</td>\n",
       "      <td>6.377954</td>\n",
       "      <td>0.000000</td>\n",
       "    </tr>\n",
       "  </tbody>\n",
       "</table>\n",
       "</div>"
      ],
      "text/plain": [
       "   Ann. Return  Ann. Volatility  Skewness  Kurtosis  Corn-Fisher VaR (5%)  \\\n",
       "0     0.059438         0.004492  0.045154  2.411831             -0.002701   \n",
       "\n",
       "   Hist. CVar (5%)  Sharpe Ratio  Max Drawdown  \n",
       "0        -0.002332      6.377954      0.000000  "
      ]
     },
     "execution_count": 8,
     "metadata": {},
     "output_type": "execute_result"
    }
   ],
   "source": [
    "# build composite return across PSP/GHP (appriximate with one time series)\n",
    "mean_rets_7030b = rets_7030b.mean(axis=\"columns\")\n",
    "m.summary_stats(pd.DataFrame(mean_rets_7030b))"
   ]
  },
  {
   "cell_type": "markdown",
   "id": "fe11ed96-dc64-4b08-98db-1b417b41bc2a",
   "metadata": {},
   "source": [
    "The annualized return is greater with PSP/GHP than the sole GHP.\n",
    "The conclusion is: \n",
    "if you have the money to buy a ZC Bond (or equivalently a mix of coupon-paying bonds\n",
    "that matches the duration of the desired ZC bond (i.e. your liability) to get a funding ratio of 100%\n",
    "then you are good!\n",
    "Otherwise, if your funnding ratio is less then one, you have to put some money in the PSP\n",
    "to increase the probability of getting the Funding Ratio as close as possible to 1."
   ]
  },
  {
   "cell_type": "code",
   "execution_count": 11,
   "id": "1e7b6f19-a545-4306-b91b-15a68fc6e8c5",
   "metadata": {
    "tags": []
   },
   "outputs": [],
   "source": [
    "# ASIDE NOTE:\n",
    "# to get a more precise summary stat you have to calculate it this way:\n",
    "summaries = m.summary_stats(rets_7030b)"
   ]
  },
  {
   "cell_type": "code",
   "execution_count": 12,
   "id": "8e10278b-cfb6-40aa-bf39-45eada4c9941",
   "metadata": {
    "tags": []
   },
   "outputs": [
    {
     "data": {
      "text/html": [
       "<div>\n",
       "<style scoped>\n",
       "    .dataframe tbody tr th:only-of-type {\n",
       "        vertical-align: middle;\n",
       "    }\n",
       "\n",
       "    .dataframe tbody tr th {\n",
       "        vertical-align: top;\n",
       "    }\n",
       "\n",
       "    .dataframe thead th {\n",
       "        text-align: right;\n",
       "    }\n",
       "</style>\n",
       "<table border=\"1\" class=\"dataframe\">\n",
       "  <thead>\n",
       "    <tr style=\"text-align: right;\">\n",
       "      <th></th>\n",
       "      <th>Ann. Return</th>\n",
       "      <th>Ann. Volatility</th>\n",
       "      <th>Skewness</th>\n",
       "      <th>Kurtosis</th>\n",
       "      <th>Corn-Fisher VaR (5%)</th>\n",
       "      <th>Hist. CVar (5%)</th>\n",
       "      <th>Sharpe Ratio</th>\n",
       "      <th>Max Drawdown</th>\n",
       "    </tr>\n",
       "  </thead>\n",
       "  <tbody>\n",
       "    <tr>\n",
       "      <th>0</th>\n",
       "      <td>0.058541</td>\n",
       "      <td>0.118286</td>\n",
       "      <td>0.307924</td>\n",
       "      <td>3.596302</td>\n",
       "      <td>0.047161</td>\n",
       "      <td>0.060519</td>\n",
       "      <td>0.234696</td>\n",
       "      <td>-0.228350</td>\n",
       "    </tr>\n",
       "    <tr>\n",
       "      <th>1</th>\n",
       "      <td>0.032145</td>\n",
       "      <td>0.111612</td>\n",
       "      <td>-0.209626</td>\n",
       "      <td>2.837318</td>\n",
       "      <td>0.051610</td>\n",
       "      <td>0.066639</td>\n",
       "      <td>0.018563</td>\n",
       "      <td>-0.228379</td>\n",
       "    </tr>\n",
       "    <tr>\n",
       "      <th>2</th>\n",
       "      <td>0.133244</td>\n",
       "      <td>0.095356</td>\n",
       "      <td>0.098303</td>\n",
       "      <td>2.522979</td>\n",
       "      <td>0.033732</td>\n",
       "      <td>0.043372</td>\n",
       "      <td>1.053768</td>\n",
       "      <td>-0.123952</td>\n",
       "    </tr>\n",
       "    <tr>\n",
       "      <th>3</th>\n",
       "      <td>0.066901</td>\n",
       "      <td>0.115826</td>\n",
       "      <td>0.371699</td>\n",
       "      <td>2.859251</td>\n",
       "      <td>0.045300</td>\n",
       "      <td>0.055228</td>\n",
       "      <td>0.309941</td>\n",
       "      <td>-0.171496</td>\n",
       "    </tr>\n",
       "    <tr>\n",
       "      <th>4</th>\n",
       "      <td>0.041744</td>\n",
       "      <td>0.113279</td>\n",
       "      <td>0.062336</td>\n",
       "      <td>2.347307</td>\n",
       "      <td>0.049471</td>\n",
       "      <td>0.058211</td>\n",
       "      <td>0.100760</td>\n",
       "      <td>-0.157140</td>\n",
       "    </tr>\n",
       "  </tbody>\n",
       "</table>\n",
       "</div>"
      ],
      "text/plain": [
       "   Ann. Return  Ann. Volatility  Skewness  Kurtosis  Corn-Fisher VaR (5%)  \\\n",
       "0     0.058541         0.118286  0.307924  3.596302              0.047161   \n",
       "1     0.032145         0.111612 -0.209626  2.837318              0.051610   \n",
       "2     0.133244         0.095356  0.098303  2.522979              0.033732   \n",
       "3     0.066901         0.115826  0.371699  2.859251              0.045300   \n",
       "4     0.041744         0.113279  0.062336  2.347307              0.049471   \n",
       "\n",
       "   Hist. CVar (5%)  Sharpe Ratio  Max Drawdown  \n",
       "0         0.060519      0.234696     -0.228350  \n",
       "1         0.066639      0.018563     -0.228379  \n",
       "2         0.043372      1.053768     -0.123952  \n",
       "3         0.055228      0.309941     -0.171496  \n",
       "4         0.058211      0.100760     -0.157140  "
      ]
     },
     "execution_count": 12,
     "metadata": {},
     "output_type": "execute_result"
    }
   ],
   "source": [
    "summaries.head()"
   ]
  },
  {
   "cell_type": "code",
   "execution_count": 13,
   "id": "f4de07b3-42d8-420d-91d4-db5562cd8b9a",
   "metadata": {
    "tags": []
   },
   "outputs": [
    {
     "data": {
      "text/plain": [
       "Ann. Return             0.053949\n",
       "Ann. Volatility         0.107523\n",
       "Skewness                0.014977\n",
       "Kurtosis                2.946384\n",
       "Corn-Fisher VaR (5%)    0.045888\n",
       "Hist. CVar (5%)         0.057690\n",
       "Sharpe Ratio            0.218557\n",
       "Max Drawdown           -0.207018\n",
       "dtype: float64"
      ]
     },
     "execution_count": 13,
     "metadata": {},
     "output_type": "execute_result"
    }
   ],
   "source": [
    "# you get silightly different results\n",
    "summaries.mean()\n",
    "m."
   ]
  },
  {
   "cell_type": "code",
   "execution_count": 17,
   "id": "923643c2-7b3c-46ce-8feb-b854b8be3968",
   "metadata": {
    "tags": []
   },
   "outputs": [
    {
     "data": {
      "text/html": [
       "<div>\n",
       "<style scoped>\n",
       "    .dataframe tbody tr th:only-of-type {\n",
       "        vertical-align: middle;\n",
       "    }\n",
       "\n",
       "    .dataframe tbody tr th {\n",
       "        vertical-align: top;\n",
       "    }\n",
       "\n",
       "    .dataframe thead th {\n",
       "        text-align: right;\n",
       "    }\n",
       "</style>\n",
       "<table border=\"1\" class=\"dataframe\">\n",
       "  <thead>\n",
       "    <tr style=\"text-align: right;\">\n",
       "      <th></th>\n",
       "      <th>FI</th>\n",
       "      <th>Eq</th>\n",
       "      <th>70/30</th>\n",
       "    </tr>\n",
       "  </thead>\n",
       "  <tbody>\n",
       "    <tr>\n",
       "      <th>mean</th>\n",
       "      <td>1.384212</td>\n",
       "      <td>1.959991</td>\n",
       "      <td>1.777116</td>\n",
       "    </tr>\n",
       "    <tr>\n",
       "      <th>std</th>\n",
       "      <td>0.107460</td>\n",
       "      <td>0.978651</td>\n",
       "      <td>0.608182</td>\n",
       "    </tr>\n",
       "    <tr>\n",
       "      <th>p_breach</th>\n",
       "      <td>NaN</td>\n",
       "      <td>0.046000</td>\n",
       "      <td>0.016000</td>\n",
       "    </tr>\n",
       "    <tr>\n",
       "      <th>e_short</th>\n",
       "      <td>NaN</td>\n",
       "      <td>0.147844</td>\n",
       "      <td>0.097574</td>\n",
       "    </tr>\n",
       "    <tr>\n",
       "      <th>p_reach</th>\n",
       "      <td>NaN</td>\n",
       "      <td>NaN</td>\n",
       "      <td>NaN</td>\n",
       "    </tr>\n",
       "    <tr>\n",
       "      <th>e_surplus</th>\n",
       "      <td>NaN</td>\n",
       "      <td>NaN</td>\n",
       "      <td>NaN</td>\n",
       "    </tr>\n",
       "  </tbody>\n",
       "</table>\n",
       "</div>"
      ],
      "text/plain": [
       "                FI       Eq    70/30\n",
       "mean      1.384212 1.959991 1.777116\n",
       "std       0.107460 0.978651 0.608182\n",
       "p_breach       NaN 0.046000 0.016000\n",
       "e_short        NaN 0.147844 0.097574\n",
       "p_reach        NaN      NaN      NaN\n",
       "e_surplus      NaN      NaN      NaN"
      ]
     },
     "execution_count": 17,
     "metadata": {},
     "output_type": "execute_result"
    }
   ],
   "source": [
    "pd.concat([\n",
    "        m.terminal_stats(rets_bonds, name=\"FI\"), # fixed income\n",
    "        m.terminal_stats(rets_eq, name=\"Eq\"), # equities\n",
    "        m.terminal_stats(rets_7030b, name=\"70/30\") # mix of PSP and LHP\n",
    "        ], axis=1)"
   ]
  },
  {
   "cell_type": "markdown",
   "id": "a5a635fe-164e-41cb-809c-2f8de131678c",
   "metadata": {},
   "source": [
    "COMMENT: as you can see with Fixed Income porfolio\n",
    "we exceed our target and we never fall below our floor (set at 80%)\n",
    "with Equity only portfolio, we miss our minimum less than 5% of the cases and the expected shortfall is almost 15%. Finally with the fixed-mix portfolio. We still miss our targer in a small number of cases with an expected shortfall of roughly 10%.\n",
    "We will see how we can hit our liability no matter what happens!"
   ]
  },
  {
   "cell_type": "code",
   "execution_count": 26,
   "id": "b13b7458-e6ad-4411-bed1-04c27e72031e",
   "metadata": {
    "tags": []
   },
   "outputs": [
    {
     "data": {
      "image/png": "[encoded data removed]",
      "text/plain": [
       "<Figure size 1000x600 with 1 Axes>"
      ]
     },
     "metadata": {},
     "output_type": "display_data"
    }
   ],
   "source": [
    "sns.distplot(m.terminal_values(rets_eq), color=\"red\", label=\"100% Equitites\")\n",
    "sns.distplot(m.terminal_values(rets_bonds), color=\"blue\", label=\"100% bonds\")\n",
    "sns.distplot(m.terminal_values(rets_7030b), color=\"orange\", label=\"100% Equitites/Bonds\")\n",
    "plt.legend();"
   ]
  },
  {
   "cell_type": "markdown",
   "id": "bd868680-2f42-44f9-921f-41b5033d097f",
   "metadata": {},
   "source": [
    "COMMENT: from these graphs let's explore hte following idea:\n",
    "we consider risk as time and as we get close to the end of our time period we move towards bond.\n",
    "this is the basic idea of a Target-Date Fund.\n",
    "Let's simulatee this behaviour and see what happens.  (Glide Paths)"
   ]
  },
  {
   "cell_type": "code",
   "execution_count": 33,
   "id": "4e24e790-f23b-4ab4-b0da-6d129280623e",
   "metadata": {
    "tags": []
   },
   "outputs": [],
   "source": [
    "rets_g8020 = m.bt_mix(rets_eq, rets_bonds, allocator=glidepath_allocator, start_glide=0.8, end_glide=0.2)"
   ]
  },
  {
   "cell_type": "code",
   "execution_count": 35,
   "id": "1e23a083-d021-45f9-aea3-d484086ca6bd",
   "metadata": {
    "tags": []
   },
   "outputs": [
    {
     "data": {
      "text/html": [
       "<div>\n",
       "<style scoped>\n",
       "    .dataframe tbody tr th:only-of-type {\n",
       "        vertical-align: middle;\n",
       "    }\n",
       "\n",
       "    .dataframe tbody tr th {\n",
       "        vertical-align: top;\n",
       "    }\n",
       "\n",
       "    .dataframe thead th {\n",
       "        text-align: right;\n",
       "    }\n",
       "</style>\n",
       "<table border=\"1\" class=\"dataframe\">\n",
       "  <thead>\n",
       "    <tr style=\"text-align: right;\">\n",
       "      <th></th>\n",
       "      <th>FI</th>\n",
       "      <th>Eq</th>\n",
       "      <th>70/30</th>\n",
       "      <th>Glide 80 to 20</th>\n",
       "    </tr>\n",
       "  </thead>\n",
       "  <tbody>\n",
       "    <tr>\n",
       "      <th>mean</th>\n",
       "      <td>1.384212</td>\n",
       "      <td>1.959991</td>\n",
       "      <td>1.777116</td>\n",
       "      <td>1.661710</td>\n",
       "    </tr>\n",
       "    <tr>\n",
       "      <th>std</th>\n",
       "      <td>0.107460</td>\n",
       "      <td>0.978651</td>\n",
       "      <td>0.608182</td>\n",
       "      <td>0.425427</td>\n",
       "    </tr>\n",
       "    <tr>\n",
       "      <th>p_breach</th>\n",
       "      <td>NaN</td>\n",
       "      <td>0.046000</td>\n",
       "      <td>0.016000</td>\n",
       "      <td>0.004000</td>\n",
       "    </tr>\n",
       "    <tr>\n",
       "      <th>e_short</th>\n",
       "      <td>NaN</td>\n",
       "      <td>0.147844</td>\n",
       "      <td>0.097574</td>\n",
       "      <td>0.017122</td>\n",
       "    </tr>\n",
       "    <tr>\n",
       "      <th>p_reach</th>\n",
       "      <td>NaN</td>\n",
       "      <td>NaN</td>\n",
       "      <td>NaN</td>\n",
       "      <td>NaN</td>\n",
       "    </tr>\n",
       "    <tr>\n",
       "      <th>e_surplus</th>\n",
       "      <td>NaN</td>\n",
       "      <td>NaN</td>\n",
       "      <td>NaN</td>\n",
       "      <td>NaN</td>\n",
       "    </tr>\n",
       "  </tbody>\n",
       "</table>\n",
       "</div>"
      ],
      "text/plain": [
       "                FI       Eq    70/30  Glide 80 to 20\n",
       "mean      1.384212 1.959991 1.777116        1.661710\n",
       "std       0.107460 0.978651 0.608182        0.425427\n",
       "p_breach       NaN 0.046000 0.016000        0.004000\n",
       "e_short        NaN 0.147844 0.097574        0.017122\n",
       "p_reach        NaN      NaN      NaN             NaN\n",
       "e_surplus      NaN      NaN      NaN             NaN"
      ]
     },
     "execution_count": 35,
     "metadata": {},
     "output_type": "execute_result"
    }
   ],
   "source": [
    "pd.concat([\n",
    "        m.terminal_stats(rets_bonds, name=\"FI\"), # fixed income\n",
    "        m.terminal_stats(rets_eq, name=\"Eq\"), # equities\n",
    "        m.terminal_stats(rets_7030b, name=\"70/30\"), # mix of PSP and LHP\n",
    "        m.terminal_stats(rets_g8020, name=\"Glide 80 to 20\") # mix of PSP and LHP with Glide Paths\n",
    "        ], axis=1)"
   ]
  },
  {
   "cell_type": "markdown",
   "id": "66cd1163-6abe-418f-9f88-0e240531136b",
   "metadata": {},
   "source": [
    "COMMENT: Glide Paths is better but still does not solv the problem (4 over 1000 cases floor is breached)"
   ]
  },
  {
   "cell_type": "code",
   "execution_count": null,
   "id": "bb5e8114-9fde-44ea-a085-27cf18d5462e",
   "metadata": {},
   "outputs": [],
   "source": []
  },
  {
   "cell_type": "code",
   "execution_count": null,
   "id": "2130336b-e85b-41e0-b07f-7eb3b444cd01",
   "metadata": {},
   "outputs": [],
   "source": []
  }
 ],
 "metadata": {
  "kernelspec": {
   "display_name": "Python (modern_ts)",
   "language": "python",
   "name": "modern_ts"
  },
  "language_info": {
   "codemirror_mode": {
    "name": "ipython",
    "version": 3
   },
   "file_extension": ".py",
   "mimetype": "text/x-python",
   "name": "python",
   "nbconvert_exporter": "python",
   "pygments_lexer": "ipython3",
   "version": "3.10.12"
  }
 },
 "nbformat": 4,
 "nbformat_minor": 5
}
