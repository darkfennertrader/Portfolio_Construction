{
 "cells": [
  {
   "cell_type": "code",
   "execution_count": 40,
   "id": "fe09a2d7-f80b-4d45-9fe1-e0ed909b5552",
   "metadata": {
    "tags": []
   },
   "outputs": [
    {
     "name": "stdout",
     "output_type": "stream",
     "text": [
      "The autoreload extension is already loaded. To reload it, use:\n",
      "  %reload_ext autoreload\n"
     ]
    }
   ],
   "source": [
    "# used during development to releoad modules every time there is a change\n",
    "%load_ext autoreload\n",
    "%autoreload 2\n",
    "import numpy as np\n",
    "import pandas as pd\n",
    "from scipy.stats import norm\n",
    "import matplotlib.pyplot as plt\n",
    "from scipy.optimize import minimize\n",
    "from risk_kit import Metrics, pre_processing_ind, get_ind30_nfirms, get_ind30_size, plot_ef2\n",
    "import ipywidgets as widgets\n",
    "from IPython.display import display\n",
    "\n",
    "pd.options.display.float_format = '{:.6f}'.format"
   ]
  },
  {
   "cell_type": "markdown",
   "id": "999bbeed-c2f5-46b2-941e-6cc056789dc5",
   "metadata": {},
   "source": [
    "### GBM Interactive Plots"
   ]
  },
  {
   "cell_type": "code",
   "execution_count": 32,
   "id": "e65e1620-31af-44d2-95d0-c8c5cdcbebfa",
   "metadata": {
    "tags": []
   },
   "outputs": [],
   "source": [
    "m = Metrics()"
   ]
  },
  {
   "cell_type": "code",
   "execution_count": 33,
   "id": "226c83c6-7117-4879-996e-920ed56b0ebc",
   "metadata": {
    "tags": []
   },
   "outputs": [],
   "source": [
    "gbm_controls = widgets.interactive(m.show_gbm,\n",
    "                                   n_scenarios = (1, 20, 1), # min, max, increment\n",
    "                                   mu = (-0.2, 0.2, 0.01),\n",
    "                                   sigma = (0, 0.3, 0.01)\n",
    "                                  )"
   ]
  },
  {
   "cell_type": "code",
   "execution_count": 34,
   "id": "38326ed7-009d-4ad6-ac38-f09cc4748704",
   "metadata": {
    "tags": []
   },
   "outputs": [
    {
     "data": {
      "application/vnd.jupyter.widget-view+json": {
       "model_id": "b763558b4db04688adbd1bc504eb1f98",
       "version_major": 2,
       "version_minor": 0
      },
      "text/plain": [
       "interactive(children=(IntSlider(value=10, description='n_scenarios', max=20, min=1), FloatSlider(value=0.0, de…"
      ]
     },
     "metadata": {},
     "output_type": "display_data"
    }
   ],
   "source": [
    "display(gbm_controls)"
   ]
  },
  {
   "cell_type": "markdown",
   "id": "f88f89fe-7b57-4c31-b665-e9d8e277be0a",
   "metadata": {},
   "source": [
    "### Interactive CPPI Simulation - Monte Carlo"
   ]
  },
  {
   "cell_type": "code",
   "execution_count": 62,
   "id": "3c2af6bb-b2b8-4163-b04c-e5682e6a4797",
   "metadata": {
    "tags": []
   },
   "outputs": [],
   "source": [
    "cppi_controls = widgets.interactive(m.show_cppi,\n",
    "                                   n_scenarios = widgets.IntSlider(min=1, max=1000, step=5, value=50),\n",
    "                                   mu = (0., +.2, 0.01),\n",
    "                                   sigma = (0, 0.3, 0.05),\n",
    "                                   floor = (0, 2, .1),\n",
    "                                   m= (1, 5, .5),\n",
    "                                   riskfree_rate = (0, .05, .01),\n",
    "                                   y_max = widgets.IntSlider(min=0, max=100, step=1,\\\n",
    "                                                             value=100, description=\"Zoom Y Axis\") \n",
    "                                  )"
   ]
  },
  {
   "cell_type": "code",
   "execution_count": 63,
   "id": "f5fef046-8f77-4835-8bc2-9daffcf7ac83",
   "metadata": {
    "tags": []
   },
   "outputs": [
    {
     "data": {
      "application/vnd.jupyter.widget-view+json": {
       "model_id": "2b326af6836b446b86ce40b3ca92e239",
       "version_major": 2,
       "version_minor": 0
      },
      "text/plain": [
       "interactive(children=(IntSlider(value=50, description='n_scenarios', max=1000, min=1, step=5), FloatSlider(val…"
      ]
     },
     "metadata": {},
     "output_type": "display_data"
    }
   ],
   "source": [
    "display(cppi_controls)"
   ]
  },
  {
   "cell_type": "code",
   "execution_count": null,
   "id": "f538d5a3-f85c-426e-9682-59d0e7845a9f",
   "metadata": {},
   "outputs": [],
   "source": []
  },
  {
   "cell_type": "code",
   "execution_count": null,
   "id": "697dd096-befc-4a60-82c7-b0984047b159",
   "metadata": {},
   "outputs": [],
   "source": []
  },
  {
   "cell_type": "code",
   "execution_count": null,
   "id": "ccca7aa7-d323-41e9-a27e-35edc25c2a95",
   "metadata": {},
   "outputs": [],
   "source": []
  },
  {
   "cell_type": "code",
   "execution_count": null,
   "id": "044ada9d-4a3a-4406-b941-14066ea83d27",
   "metadata": {},
   "outputs": [],
   "source": []
  }
 ],
 "metadata": {
  "kernelspec": {
   "display_name": "Python (modern_ts)",
   "language": "python",
   "name": "modern_ts"
  },
  "language_info": {
   "codemirror_mode": {
    "name": "ipython",
    "version": 3
   },
   "file_extension": ".py",
   "mimetype": "text/x-python",
   "name": "python",
   "nbconvert_exporter": "python",
   "pygments_lexer": "ipython3",
   "version": "3.10.12"
  }
 },
 "nbformat": 4,
 "nbformat_minor": 5
}
