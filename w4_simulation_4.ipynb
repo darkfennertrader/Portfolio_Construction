{
 "cells": [
  {
   "cell_type": "markdown",
   "id": "bd033dad-d286-4186-a8d6-fa1638befcc0",
   "metadata": {},
   "source": [
    "### Simulation of Prices of coupon-Bearing Bonds using CIR"
   ]
  },
  {
   "cell_type": "code",
   "execution_count": 67,
   "id": "dea9af57-fbcf-41b2-90f2-64f811aa39c8",
   "metadata": {
    "tags": []
   },
   "outputs": [
    {
     "name": "stdout",
     "output_type": "stream",
     "text": [
      "The autoreload extension is already loaded. To reload it, use:\n",
      "  %reload_ext autoreload\n"
     ]
    }
   ],
   "source": [
    "# used during development to releoad modules every time there is a change\n",
    "%load_ext autoreload\n",
    "%autoreload 2\n",
    "import numpy as np\n",
    "import pandas as pd\n",
    "from scipy.stats import norm\n",
    "import matplotlib.pyplot as plt\n",
    "from scipy.optimize import minimize\n",
    "from risk_kit import Metrics, pre_processing_ind, get_ind30_nfirms, get_ind30_size, plot_ef2\n",
    "import ipywidgets as widgets\n",
    "from IPython.display import display\n",
    "\n",
    "pd.options.display.float_format = '{:.6f}'.format\n",
    "\n",
    "m = Metrics()"
   ]
  },
  {
   "cell_type": "markdown",
   "id": "e3b2a878-7f26-4b07-9784-5984861b8427",
   "metadata": {},
   "source": [
    "We want to simulate thousands of different portfolio construction techniques on how\n",
    "to put together a Goal Hedging Portofolio in a Performance Seeking Portfolio. For this purpose we will use the CIR model that generates scenarios for different interest rates."
   ]
  },
  {
   "cell_type": "code",
   "execution_count": 48,
   "id": "c63ff114-aff4-4a1f-a7e7-41ff4f5203fa",
   "metadata": {
    "tags": []
   },
   "outputs": [
    {
     "data": {
      "text/plain": [
       "0   109.275\n",
       "dtype: float64"
      ]
     },
     "execution_count": 48,
     "metadata": {},
     "output_type": "execute_result"
    }
   ],
   "source": [
    "m.bond_price(5, 100, 0.05, 12, .03)"
   ]
  },
  {
   "cell_type": "code",
   "execution_count": 49,
   "id": "b7f86314-e20f-40c1-88f7-109a81460ea6",
   "metadata": {
    "tags": []
   },
   "outputs": [],
   "source": [
    "# generate rates and ZC Bond prices\n",
    "rates, zc_prices = m.cir(10, 500, b=0.03, r_0=0.03)"
   ]
  },
  {
   "cell_type": "code",
   "execution_count": 50,
   "id": "b9cd05ab-7054-4570-9aed-7ad78955a228",
   "metadata": {
    "tags": []
   },
   "outputs": [
    {
     "data": {
      "text/html": [
       "<div>\n",
       "<style scoped>\n",
       "    .dataframe tbody tr th:only-of-type {\n",
       "        vertical-align: middle;\n",
       "    }\n",
       "\n",
       "    .dataframe tbody tr th {\n",
       "        vertical-align: top;\n",
       "    }\n",
       "\n",
       "    .dataframe thead th {\n",
       "        text-align: right;\n",
       "    }\n",
       "</style>\n",
       "<table border=\"1\" class=\"dataframe\">\n",
       "  <thead>\n",
       "    <tr style=\"text-align: right;\">\n",
       "      <th></th>\n",
       "      <th>1</th>\n",
       "      <th>2</th>\n",
       "      <th>3</th>\n",
       "    </tr>\n",
       "  </thead>\n",
       "  <tbody>\n",
       "    <tr>\n",
       "      <th>0</th>\n",
       "      <td>0.030</td>\n",
       "      <td>0.030</td>\n",
       "      <td>0.030</td>\n",
       "    </tr>\n",
       "    <tr>\n",
       "      <th>1</th>\n",
       "      <td>0.028</td>\n",
       "      <td>0.028</td>\n",
       "      <td>0.029</td>\n",
       "    </tr>\n",
       "    <tr>\n",
       "      <th>2</th>\n",
       "      <td>0.033</td>\n",
       "      <td>0.028</td>\n",
       "      <td>0.027</td>\n",
       "    </tr>\n",
       "    <tr>\n",
       "      <th>3</th>\n",
       "      <td>0.032</td>\n",
       "      <td>0.029</td>\n",
       "      <td>0.026</td>\n",
       "    </tr>\n",
       "    <tr>\n",
       "      <th>4</th>\n",
       "      <td>0.033</td>\n",
       "      <td>0.026</td>\n",
       "      <td>0.029</td>\n",
       "    </tr>\n",
       "  </tbody>\n",
       "</table>\n",
       "</div>"
      ],
      "text/plain": [
       "      1     2     3\n",
       "0 0.030 0.030 0.030\n",
       "1 0.028 0.028 0.029\n",
       "2 0.033 0.028 0.027\n",
       "3 0.032 0.029 0.026\n",
       "4 0.033 0.026 0.029"
      ]
     },
     "execution_count": 50,
     "metadata": {},
     "output_type": "execute_result"
    }
   ],
   "source": [
    "rates[[1,2,3]].head()"
   ]
  },
  {
   "cell_type": "code",
   "execution_count": 51,
   "id": "b1aeb6db-0c96-4abe-bafa-579e6b75fda0",
   "metadata": {
    "tags": []
   },
   "outputs": [
    {
     "data": {
      "text/plain": [
       "1   109.275\n",
       "2   109.275\n",
       "3   109.275\n",
       "dtype: float64"
      ]
     },
     "execution_count": 51,
     "metadata": {},
     "output_type": "execute_result"
    }
   ],
   "source": [
    "m.bond_price(5, 100, 0.05, 12, rates.iloc[0][[1,2,3]])"
   ]
  },
  {
   "cell_type": "code",
   "execution_count": 52,
   "id": "ef7fbb30-77f2-4179-bdca-12ae9bbf35f1",
   "metadata": {
    "tags": []
   },
   "outputs": [
    {
     "data": {
      "text/plain": [
       "1   110.154\n",
       "2   110.282\n",
       "3   109.902\n",
       "dtype: float64"
      ]
     },
     "execution_count": 52,
     "metadata": {},
     "output_type": "execute_result"
    }
   ],
   "source": [
    "# let's see the bond prices at time = 1\n",
    "m.bond_price(5, 100, 0.05, 12, rates.iloc[1][[1,2,3]])"
   ]
  },
  {
   "cell_type": "code",
   "execution_count": 53,
   "id": "acc4ab97-8533-4936-a09f-ff9304c6e496",
   "metadata": {
    "tags": []
   },
   "outputs": [
    {
     "data": {
      "image/png": "[encoded data removed]",
      "text/plain": [
       "<Figure size 1000x600 with 1 Axes>"
      ]
     },
     "metadata": {},
     "output_type": "display_data"
    }
   ],
   "source": [
    "# let's simulate how bond prices changes with interest rates\n",
    "m.bond_price(10, 100, 0.05, 12, rates[[1, 2, 3, 4, 5]]).plot(legend=False);"
   ]
  },
  {
   "cell_type": "code",
   "execution_count": 54,
   "id": "6aa632ec-f9f8-41a0-bc13-df81b2dad049",
   "metadata": {
    "tags": []
   },
   "outputs": [
    {
     "data": {
      "text/html": [
       "<div>\n",
       "<style scoped>\n",
       "    .dataframe tbody tr th:only-of-type {\n",
       "        vertical-align: middle;\n",
       "    }\n",
       "\n",
       "    .dataframe tbody tr th {\n",
       "        vertical-align: top;\n",
       "    }\n",
       "\n",
       "    .dataframe thead th {\n",
       "        text-align: right;\n",
       "    }\n",
       "</style>\n",
       "<table border=\"1\" class=\"dataframe\">\n",
       "  <thead>\n",
       "    <tr style=\"text-align: right;\">\n",
       "      <th></th>\n",
       "      <th>1</th>\n",
       "      <th>2</th>\n",
       "      <th>3</th>\n",
       "      <th>4</th>\n",
       "      <th>5</th>\n",
       "    </tr>\n",
       "  </thead>\n",
       "  <tbody>\n",
       "    <tr>\n",
       "      <th>0</th>\n",
       "      <td>117.260</td>\n",
       "      <td>117.260</td>\n",
       "      <td>117.260</td>\n",
       "      <td>117.260</td>\n",
       "      <td>117.260</td>\n",
       "    </tr>\n",
       "    <tr>\n",
       "      <th>1</th>\n",
       "      <td>118.837</td>\n",
       "      <td>119.085</td>\n",
       "      <td>118.348</td>\n",
       "      <td>114.718</td>\n",
       "      <td>116.231</td>\n",
       "    </tr>\n",
       "    <tr>\n",
       "      <th>2</th>\n",
       "      <td>114.653</td>\n",
       "      <td>118.729</td>\n",
       "      <td>119.476</td>\n",
       "      <td>120.077</td>\n",
       "      <td>114.902</td>\n",
       "    </tr>\n",
       "    <tr>\n",
       "      <th>3</th>\n",
       "      <td>115.237</td>\n",
       "      <td>117.905</td>\n",
       "      <td>120.445</td>\n",
       "      <td>126.687</td>\n",
       "      <td>115.128</td>\n",
       "    </tr>\n",
       "    <tr>\n",
       "      <th>4</th>\n",
       "      <td>114.095</td>\n",
       "      <td>120.802</td>\n",
       "      <td>117.702</td>\n",
       "      <td>127.689</td>\n",
       "      <td>115.344</td>\n",
       "    </tr>\n",
       "    <tr>\n",
       "      <th>...</th>\n",
       "      <td>...</td>\n",
       "      <td>...</td>\n",
       "      <td>...</td>\n",
       "      <td>...</td>\n",
       "      <td>...</td>\n",
       "    </tr>\n",
       "    <tr>\n",
       "      <th>116</th>\n",
       "      <td>101.333</td>\n",
       "      <td>99.886</td>\n",
       "      <td>101.245</td>\n",
       "      <td>101.041</td>\n",
       "      <td>101.109</td>\n",
       "    </tr>\n",
       "    <tr>\n",
       "      <th>117</th>\n",
       "      <td>100.944</td>\n",
       "      <td>99.694</td>\n",
       "      <td>100.915</td>\n",
       "      <td>100.730</td>\n",
       "      <td>100.794</td>\n",
       "    </tr>\n",
       "    <tr>\n",
       "      <th>118</th>\n",
       "      <td>100.655</td>\n",
       "      <td>99.752</td>\n",
       "      <td>100.642</td>\n",
       "      <td>100.545</td>\n",
       "      <td>100.481</td>\n",
       "    </tr>\n",
       "    <tr>\n",
       "      <th>119</th>\n",
       "      <td>100.299</td>\n",
       "      <td>99.875</td>\n",
       "      <td>100.309</td>\n",
       "      <td>100.270</td>\n",
       "      <td>100.262</td>\n",
       "    </tr>\n",
       "    <tr>\n",
       "      <th>120</th>\n",
       "      <td>100.417</td>\n",
       "      <td>100.417</td>\n",
       "      <td>100.417</td>\n",
       "      <td>100.417</td>\n",
       "      <td>100.417</td>\n",
       "    </tr>\n",
       "  </tbody>\n",
       "</table>\n",
       "<p>121 rows × 5 columns</p>\n",
       "</div>"
      ],
      "text/plain": [
       "          1       2       3       4       5\n",
       "0   117.260 117.260 117.260 117.260 117.260\n",
       "1   118.837 119.085 118.348 114.718 116.231\n",
       "2   114.653 118.729 119.476 120.077 114.902\n",
       "3   115.237 117.905 120.445 126.687 115.128\n",
       "4   114.095 120.802 117.702 127.689 115.344\n",
       "..      ...     ...     ...     ...     ...\n",
       "116 101.333  99.886 101.245 101.041 101.109\n",
       "117 100.944  99.694 100.915 100.730 100.794\n",
       "118 100.655  99.752 100.642 100.545 100.481\n",
       "119 100.299  99.875 100.309 100.270 100.262\n",
       "120 100.417 100.417 100.417 100.417 100.417\n",
       "\n",
       "[121 rows x 5 columns]"
      ]
     },
     "execution_count": 54,
     "metadata": {},
     "output_type": "execute_result"
    }
   ],
   "source": [
    "prices = m.bond_price(10, 100, 0.05, 12, rates[[1, 2, 3, 4, 5]])\n",
    "prices"
   ]
  },
  {
   "cell_type": "code",
   "execution_count": 55,
   "id": "a0919b0b-5c38-47c8-a674-345663d8b859",
   "metadata": {
    "tags": []
   },
   "outputs": [
    {
     "data": {
      "text/plain": [
       "1   -0.015\n",
       "2   -0.015\n",
       "3   -0.015\n",
       "4   -0.015\n",
       "5   -0.015\n",
       "dtype: float64"
      ]
     },
     "execution_count": 55,
     "metadata": {},
     "output_type": "execute_result"
    }
   ],
   "source": [
    "# let's compute the bond returns\n",
    "br = prices.pct_change().dropna()\n",
    "m.annualized_rets(br, 12)"
   ]
  },
  {
   "cell_type": "markdown",
   "id": "ec91db1c-fffd-4595-bcfd-bd34f23d508f",
   "metadata": {},
   "source": [
    "COMMENT: How is that the annualized returns are negative? It doesn't make any sense\n",
    "However we are looking only at the prices return instead of total return of the bond (the quantity we are interested in). We forgot to include the coupons of the returns."
   ]
  },
  {
   "cell_type": "code",
   "execution_count": 56,
   "id": "5ad72342-b555-4ab9-b55f-59ec4a67bfb2",
   "metadata": {
    "tags": []
   },
   "outputs": [
    {
     "data": {
      "text/plain": [
       "1   0.029\n",
       "2   0.036\n",
       "3   0.029\n",
       "4   0.029\n",
       "dtype: object"
      ]
     },
     "execution_count": 56,
     "metadata": {},
     "output_type": "execute_result"
    }
   ],
   "source": [
    "p= m.bond_price(10, 100, .05, 12, rates[[1,2,3,4]])\n",
    "btr = m.bond_total_return(p, 100, .05, 12)\n",
    "m.annualized_rets(btr, 12)"
   ]
  },
  {
   "cell_type": "markdown",
   "id": "18b05bce-0a90-4f51-9d03-2cab791bf9a0",
   "metadata": {},
   "source": [
    "#### Now we can put everything together: we have got a way to generate prices (from which we can compute return). We can start experimenting across asset classes"
   ]
  },
  {
   "cell_type": "code",
   "execution_count": 57,
   "id": "33b98a8b-6d0e-4820-a098-6a8a2d2cc8f5",
   "metadata": {
    "tags": []
   },
   "outputs": [
    {
     "data": {
      "text/html": [
       "<div>\n",
       "<style scoped>\n",
       "    .dataframe tbody tr th:only-of-type {\n",
       "        vertical-align: middle;\n",
       "    }\n",
       "\n",
       "    .dataframe tbody tr th {\n",
       "        vertical-align: top;\n",
       "    }\n",
       "\n",
       "    .dataframe thead th {\n",
       "        text-align: right;\n",
       "    }\n",
       "</style>\n",
       "<table border=\"1\" class=\"dataframe\">\n",
       "  <thead>\n",
       "    <tr style=\"text-align: right;\">\n",
       "      <th></th>\n",
       "      <th>1</th>\n",
       "      <th>2</th>\n",
       "      <th>3</th>\n",
       "    </tr>\n",
       "  </thead>\n",
       "  <tbody>\n",
       "    <tr>\n",
       "      <th>116</th>\n",
       "      <td>101.333</td>\n",
       "      <td>99.886</td>\n",
       "      <td>101.245</td>\n",
       "    </tr>\n",
       "    <tr>\n",
       "      <th>117</th>\n",
       "      <td>100.944</td>\n",
       "      <td>99.694</td>\n",
       "      <td>100.915</td>\n",
       "    </tr>\n",
       "    <tr>\n",
       "      <th>118</th>\n",
       "      <td>100.655</td>\n",
       "      <td>99.752</td>\n",
       "      <td>100.642</td>\n",
       "    </tr>\n",
       "    <tr>\n",
       "      <th>119</th>\n",
       "      <td>100.299</td>\n",
       "      <td>99.875</td>\n",
       "      <td>100.309</td>\n",
       "    </tr>\n",
       "    <tr>\n",
       "      <th>120</th>\n",
       "      <td>100.417</td>\n",
       "      <td>100.417</td>\n",
       "      <td>100.417</td>\n",
       "    </tr>\n",
       "  </tbody>\n",
       "</table>\n",
       "</div>"
      ],
      "text/plain": [
       "          1       2       3\n",
       "116 101.333  99.886 101.245\n",
       "117 100.944  99.694 100.915\n",
       "118 100.655  99.752 100.642\n",
       "119 100.299  99.875 100.309\n",
       "120 100.417 100.417 100.417"
      ]
     },
     "execution_count": 57,
     "metadata": {},
     "output_type": "execute_result"
    }
   ],
   "source": [
    "# let's consider a 10-year bond\n",
    "price_10 = m.bond_price(10, 100, 0.05, 12, rates)\n",
    "price_10[[1,2,3]].tail()"
   ]
  },
  {
   "cell_type": "code",
   "execution_count": 59,
   "id": "3aa59e9f-bfbe-4441-8bea-e77ef2b729ea",
   "metadata": {
    "tags": []
   },
   "outputs": [
    {
     "data": {
      "text/html": [
       "<div>\n",
       "<style scoped>\n",
       "    .dataframe tbody tr th:only-of-type {\n",
       "        vertical-align: middle;\n",
       "    }\n",
       "\n",
       "    .dataframe tbody tr th {\n",
       "        vertical-align: top;\n",
       "    }\n",
       "\n",
       "    .dataframe thead th {\n",
       "        text-align: right;\n",
       "    }\n",
       "</style>\n",
       "<table border=\"1\" class=\"dataframe\">\n",
       "  <thead>\n",
       "    <tr style=\"text-align: right;\">\n",
       "      <th></th>\n",
       "      <th>1</th>\n",
       "      <th>2</th>\n",
       "      <th>3</th>\n",
       "    </tr>\n",
       "  </thead>\n",
       "  <tbody>\n",
       "    <tr>\n",
       "      <th>116</th>\n",
       "      <td>173.724</td>\n",
       "      <td>95.717</td>\n",
       "      <td>167.202</td>\n",
       "    </tr>\n",
       "    <tr>\n",
       "      <th>117</th>\n",
       "      <td>167.874</td>\n",
       "      <td>85.814</td>\n",
       "      <td>165.076</td>\n",
       "    </tr>\n",
       "    <tr>\n",
       "      <th>118</th>\n",
       "      <td>171.448</td>\n",
       "      <td>83.159</td>\n",
       "      <td>169.473</td>\n",
       "    </tr>\n",
       "    <tr>\n",
       "      <th>119</th>\n",
       "      <td>162.705</td>\n",
       "      <td>83.159</td>\n",
       "      <td>165.522</td>\n",
       "    </tr>\n",
       "    <tr>\n",
       "      <th>120</th>\n",
       "      <td>163.505</td>\n",
       "      <td>77.948</td>\n",
       "      <td>157.904</td>\n",
       "    </tr>\n",
       "  </tbody>\n",
       "</table>\n",
       "</div>"
      ],
      "text/plain": [
       "          1      2       3\n",
       "116 173.724 95.717 167.202\n",
       "117 167.874 85.814 165.076\n",
       "118 171.448 83.159 169.473\n",
       "119 162.705 83.159 165.522\n",
       "120 163.505 77.948 157.904"
      ]
     },
     "execution_count": 59,
     "metadata": {},
     "output_type": "execute_result"
    }
   ],
   "source": [
    "# let's consider a 30-year bond after 10 years\n",
    "price_30 = m.bond_price(30, 100, 0.05, 12, rates)\n",
    "price_30[[1,2,3]].tail()"
   ]
  },
  {
   "cell_type": "code",
   "execution_count": 60,
   "id": "4e2f138f-ea4a-4257-b8b7-e19e68ec3039",
   "metadata": {
    "tags": []
   },
   "outputs": [
    {
     "data": {
      "text/html": [
       "<div>\n",
       "<style scoped>\n",
       "    .dataframe tbody tr th:only-of-type {\n",
       "        vertical-align: middle;\n",
       "    }\n",
       "\n",
       "    .dataframe tbody tr th {\n",
       "        vertical-align: top;\n",
       "    }\n",
       "\n",
       "    .dataframe thead th {\n",
       "        text-align: right;\n",
       "    }\n",
       "</style>\n",
       "<table border=\"1\" class=\"dataframe\">\n",
       "  <thead>\n",
       "    <tr style=\"text-align: right;\">\n",
       "      <th></th>\n",
       "      <th>1</th>\n",
       "      <th>2</th>\n",
       "      <th>3</th>\n",
       "    </tr>\n",
       "  </thead>\n",
       "  <tbody>\n",
       "    <tr>\n",
       "      <th>0</th>\n",
       "      <td>139.532</td>\n",
       "      <td>139.532</td>\n",
       "      <td>139.532</td>\n",
       "    </tr>\n",
       "    <tr>\n",
       "      <th>1</th>\n",
       "      <td>144.015</td>\n",
       "      <td>144.687</td>\n",
       "      <td>142.693</td>\n",
       "    </tr>\n",
       "    <tr>\n",
       "      <th>2</th>\n",
       "      <td>133.245</td>\n",
       "      <td>144.016</td>\n",
       "      <td>146.067</td>\n",
       "    </tr>\n",
       "    <tr>\n",
       "      <th>3</th>\n",
       "      <td>134.975</td>\n",
       "      <td>142.064</td>\n",
       "      <td>149.101</td>\n",
       "    </tr>\n",
       "    <tr>\n",
       "      <th>4</th>\n",
       "      <td>132.242</td>\n",
       "      <td>150.468</td>\n",
       "      <td>141.796</td>\n",
       "    </tr>\n",
       "  </tbody>\n",
       "</table>\n",
       "</div>"
      ],
      "text/plain": [
       "        1       2       3\n",
       "0 139.532 139.532 139.532\n",
       "1 144.015 144.687 142.693\n",
       "2 133.245 144.016 146.067\n",
       "3 134.975 142.064 149.101\n",
       "4 132.242 150.468 141.796"
      ]
     },
     "execution_count": 60,
     "metadata": {},
     "output_type": "execute_result"
    }
   ],
   "source": [
    "price_30[[1,2,3]].head()"
   ]
  },
  {
   "cell_type": "markdown",
   "id": "a7f7e4a0-228f-498f-86fc-10020bbb81ff",
   "metadata": {},
   "source": [
    "COMMENT: after 10 years there is an enormous variation wrt the starting value. It is so tempting\n",
    "to think that a bond is safe but it isn't."
   ]
  },
  {
   "cell_type": "code",
   "execution_count": 63,
   "id": "a23103c3-f42d-4c8d-904d-f3ba5e633e20",
   "metadata": {
    "tags": []
   },
   "outputs": [],
   "source": [
    "# let's construct a portfolio of two bonds. We are assuming a monthly rebalance with the same weights since at\n",
    "# the end of every month the composition of the two portfolio has changed\n",
    "rets_10 = m.bond_total_return(price_10, 100, 0.05, 12)\n",
    "rets_30 = m.bond_total_return(price_30, 100, 0.05, 12)\n",
    "rets_bonds = .6*rets_10 + .4*rets_30"
   ]
  },
  {
   "cell_type": "code",
   "execution_count": 68,
   "id": "a6ef56db-6f4a-4b33-8f89-29b7ffb32acb",
   "metadata": {
    "tags": []
   },
   "outputs": [
    {
     "data": {
      "text/html": [
       "<div>\n",
       "<style scoped>\n",
       "    .dataframe tbody tr th:only-of-type {\n",
       "        vertical-align: middle;\n",
       "    }\n",
       "\n",
       "    .dataframe tbody tr th {\n",
       "        vertical-align: top;\n",
       "    }\n",
       "\n",
       "    .dataframe thead th {\n",
       "        text-align: right;\n",
       "    }\n",
       "</style>\n",
       "<table border=\"1\" class=\"dataframe\">\n",
       "  <thead>\n",
       "    <tr style=\"text-align: right;\">\n",
       "      <th></th>\n",
       "      <th>Ann. Return</th>\n",
       "      <th>Ann. Volatility</th>\n",
       "      <th>Skewness</th>\n",
       "      <th>Kurtosis</th>\n",
       "      <th>Corn-Fisher VaR (5%)</th>\n",
       "      <th>Hist. CVar (5%)</th>\n",
       "      <th>Sharpe Ratio</th>\n",
       "      <th>Max Drawdown</th>\n",
       "    </tr>\n",
       "  </thead>\n",
       "  <tbody>\n",
       "    <tr>\n",
       "      <th>0</th>\n",
       "      <td>0.035862</td>\n",
       "      <td>0.003877</td>\n",
       "      <td>-0.040945</td>\n",
       "      <td>3.105715</td>\n",
       "      <td>-0.001097</td>\n",
       "      <td>-0.000637</td>\n",
       "      <td>1.471598</td>\n",
       "      <td>0.000000</td>\n",
       "    </tr>\n",
       "  </tbody>\n",
       "</table>\n",
       "</div>"
      ],
      "text/plain": [
       "   Ann. Return  Ann. Volatility  Skewness  Kurtosis  Corn-Fisher VaR (5%)  \\\n",
       "0     0.035862         0.003877 -0.040945  3.105715             -0.001097   \n",
       "\n",
       "   Hist. CVar (5%)  Sharpe Ratio  Max Drawdown  \n",
       "0        -0.000637      1.471598      0.000000  "
      ]
     },
     "execution_count": 68,
     "metadata": {},
     "output_type": "execute_result"
    }
   ],
   "source": [
    "# let's construct a one time series from 500 time series using the mean of them\n",
    "mean_rets_bond = rets_bonds.mean(axis=\"columns\")\n",
    "m.summary_stats(pd.DataFrame(mean_rets_bond))"
   ]
  },
  {
   "cell_type": "markdown",
   "id": "415818c4-5b5c-476b-a73e-d2d6a8b5b496",
   "metadata": {},
   "source": [
    "this composite index has no drawdown by definition"
   ]
  },
  {
   "cell_type": "code",
   "execution_count": 72,
   "id": "f43ed653-b631-419b-a7d5-0eca9b4aadcb",
   "metadata": {
    "tags": []
   },
   "outputs": [
    {
     "data": {
      "text/plain": [
       "(121, 500)"
      ]
     },
     "execution_count": 72,
     "metadata": {},
     "output_type": "execute_result"
    }
   ],
   "source": [
    "# let's generate a portoflio of equities\n",
    "price_eq = m.gbm(n_years=10, n_scenarios=500, mu=0.07, sigma=0.15)\n",
    "price_eq.shape"
   ]
  },
  {
   "cell_type": "code",
   "execution_count": 76,
   "id": "983de18b-d999-4ca8-9080-50f6e2332511",
   "metadata": {
    "tags": []
   },
   "outputs": [
    {
     "data": {
      "text/plain": [
       "((120, 500), (120, 500))"
      ]
     },
     "execution_count": 76,
     "metadata": {},
     "output_type": "execute_result"
    }
   ],
   "source": [
    "# we are ok\n",
    "rets_eq = price_eq.pct_change().dropna()\n",
    "rets_eq.shape, rets_bonds.shape"
   ]
  },
  {
   "cell_type": "code",
   "execution_count": 77,
   "id": "d0fb7203-f2a5-49f5-932f-60b2fecae29a",
   "metadata": {
    "tags": []
   },
   "outputs": [
    {
     "data": {
      "text/html": [
       "<div>\n",
       "<style scoped>\n",
       "    .dataframe tbody tr th:only-of-type {\n",
       "        vertical-align: middle;\n",
       "    }\n",
       "\n",
       "    .dataframe tbody tr th {\n",
       "        vertical-align: top;\n",
       "    }\n",
       "\n",
       "    .dataframe thead th {\n",
       "        text-align: right;\n",
       "    }\n",
       "</style>\n",
       "<table border=\"1\" class=\"dataframe\">\n",
       "  <thead>\n",
       "    <tr style=\"text-align: right;\">\n",
       "      <th></th>\n",
       "      <th>Ann. Return</th>\n",
       "      <th>Ann. Volatility</th>\n",
       "      <th>Skewness</th>\n",
       "      <th>Kurtosis</th>\n",
       "      <th>Corn-Fisher VaR (5%)</th>\n",
       "      <th>Hist. CVar (5%)</th>\n",
       "      <th>Sharpe Ratio</th>\n",
       "      <th>Max Drawdown</th>\n",
       "    </tr>\n",
       "  </thead>\n",
       "  <tbody>\n",
       "    <tr>\n",
       "      <th>0</th>\n",
       "      <td>0.059980</td>\n",
       "      <td>0.004455</td>\n",
       "      <td>0.256124</td>\n",
       "      <td>3.035188</td>\n",
       "      <td>-0.002856</td>\n",
       "      <td>-0.002424</td>\n",
       "      <td>6.549578</td>\n",
       "      <td>0.000000</td>\n",
       "    </tr>\n",
       "  </tbody>\n",
       "</table>\n",
       "</div>"
      ],
      "text/plain": [
       "   Ann. Return  Ann. Volatility  Skewness  Kurtosis  Corn-Fisher VaR (5%)  \\\n",
       "0     0.059980         0.004455  0.256124  3.035188             -0.002856   \n",
       "\n",
       "   Hist. CVar (5%)  Sharpe Ratio  Max Drawdown  \n",
       "0        -0.002424      6.549578      0.000000  "
      ]
     },
     "execution_count": 77,
     "metadata": {},
     "output_type": "execute_result"
    }
   ],
   "source": [
    "# let's combine the two portfolios\n",
    "rets = .7*rets_eq + .3*rets_bonds\n",
    "# let's build a composite (not very accurate)\n",
    "rets_mean = rets.mean(axis=\"columns\")\n",
    "m.summary_stats(pd.DataFrame(rets_mean))"
   ]
  },
  {
   "cell_type": "markdown",
   "id": "f98b7186-0a52-47fd-9f2f-f753e647dde1",
   "metadata": {},
   "source": [
    "COMMENT: we are able to combine random bonds and random stock prices. We would like to know\n",
    "how to allocate the weights (called: Fix-Mixes Allocator).\n",
    "The whole goal is to find the weights given a certain liabilities constraints."
   ]
  },
  {
   "cell_type": "code",
   "execution_count": null,
   "id": "6be554f8-56ea-4df1-8d9a-549c72a62345",
   "metadata": {},
   "outputs": [],
   "source": []
  }
 ],
 "metadata": {
  "kernelspec": {
   "display_name": "Python (modern_ts)",
   "language": "python",
   "name": "modern_ts"
  },
  "language_info": {
   "codemirror_mode": {
    "name": "ipython",
    "version": 3
   },
   "file_extension": ".py",
   "mimetype": "text/x-python",
   "name": "python",
   "nbconvert_exporter": "python",
   "pygments_lexer": "ipython3",
   "version": "3.10.12"
  }
 },
 "nbformat": 4,
 "nbformat_minor": 5
}
