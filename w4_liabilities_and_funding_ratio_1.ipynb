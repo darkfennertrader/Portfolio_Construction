{
 "cells": [
  {
   "cell_type": "code",
   "execution_count": 1,
   "id": "70156f53-fe49-48a4-bbcf-7824789be8bd",
   "metadata": {
    "tags": []
   },
   "outputs": [],
   "source": [
    "# used during development to releoad modules every time there is a change\n",
    "%load_ext autoreload\n",
    "%autoreload 2\n",
    "import numpy as np\n",
    "import pandas as pd\n",
    "from scipy.stats import norm\n",
    "import matplotlib.pyplot as plt\n",
    "from scipy.optimize import minimize\n",
    "from risk_kit import Metrics, pre_processing_ind, get_ind30_nfirms, get_ind30_size, plot_ef2\n",
    "import ipywidgets as widgets\n",
    "from IPython.display import display\n",
    "\n",
    "pd.options.display.float_format = '{:.6f}'.format"
   ]
  },
  {
   "cell_type": "markdown",
   "id": "fa341da6-ccb3-4bd2-8270-7c6b6aca4fed",
   "metadata": {},
   "source": [
    "## Present Value of Liabilities and funding Ratio\n",
    "#### The goal of investing is not to grow the assets as large as possibile but it to make sure that you will have the money that you need to do the things that you want to do in the future."
   ]
  },
  {
   "cell_type": "markdown",
   "id": "701f7764-d35e-4113-ae43-f0018ad2f0b3",
   "metadata": {},
   "source": [
    "## Objective: setup some prep work to measure two things:\n",
    "#### 1) Measure the future liability (this future consumption that we need to do the things we want to do)\n",
    "#### 2) Do I have enough money today to meet my future requirements (point 1) ?"
   ]
  },
  {
   "cell_type": "markdown",
   "id": "61ab4bd4-6399-4063-b305-a2df2172297b",
   "metadata": {},
   "source": [
    "$$ PV(L) = \\sum_{i=1}^{k} B(t_i) L_i$$\n",
    "where $B(t_i)$ is the price of a pure discount bond (Zero Coupon Bond) that pays 1 dollat at time $t_i$\n",
    "If we assume the yield curve flat and the annual rate of interest is $r$ then $B(t)$ is given by\n",
    "$$B(t) = \\frac{1}{(1+r)^t}$$"
   ]
  },
  {
   "cell_type": "code",
   "execution_count": 2,
   "id": "36d74c5e-2deb-41c4-8f9f-c9be943690bb",
   "metadata": {
    "tags": []
   },
   "outputs": [],
   "source": [
    "m = Metrics()"
   ]
  },
  {
   "cell_type": "code",
   "execution_count": 3,
   "id": "6df8abe0-ae50-44de-811b-a002d02b10d0",
   "metadata": {
    "tags": []
   },
   "outputs": [],
   "source": [
    "def discount(t, r):\n",
    "    \"\"\"\n",
    "    Computes the price of a pure discount bond (ZCB) thta pays 1 dollar at time t,\n",
    "    given the interest rate r\n",
    "    \"\"\"\n",
    "    return 1/(1+r)**t"
   ]
  },
  {
   "cell_type": "code",
   "execution_count": 4,
   "id": "c34e670a-4158-4eab-a0e8-c6b604ad86b7",
   "metadata": {
    "tags": []
   },
   "outputs": [
    {
     "data": {
      "text/plain": [
       "0.7440939148967249"
      ]
     },
     "execution_count": 4,
     "metadata": {},
     "output_type": "execute_result"
    }
   ],
   "source": [
    "discount(10, 0.03)"
   ]
  },
  {
   "cell_type": "code",
   "execution_count": 5,
   "id": "2b768fc3-fc45-483a-9a25-1f49d54404a0",
   "metadata": {
    "tags": []
   },
   "outputs": [],
   "source": [
    "def pv(l,r):\n",
    "    \"\"\"\n",
    "    Computes the present value of a sequence of liabilities\n",
    "    l is index by the time, and the values are the amounts of each liability\n",
    "    returns the present value of the sequence\n",
    "    \"\"\"\n",
    "    dates = l.index\n",
    "    discounts = discount(dates, r)\n",
    "    return (discounts*l).sum()"
   ]
  },
  {
   "cell_type": "code",
   "execution_count": 6,
   "id": "deaf21c0-fb21-4c4b-8528-71fd60c256a7",
   "metadata": {
    "tags": []
   },
   "outputs": [
    {
     "data": {
      "text/plain": [
       "3.000000   1.000000\n",
       "3.500000   1.500000\n",
       "4.000000   2.000000\n",
       "4.500000   2.500000\n",
       "dtype: float64"
      ]
     },
     "execution_count": 6,
     "metadata": {},
     "output_type": "execute_result"
    }
   ],
   "source": [
    "# payment schedule: sequence of liabilities: in 3 years I have to pay 1 Million, ecc...\n",
    "liabilities = pd.Series(data=[1, 1.5, 2, 2.5], index=[3, 3.5, 4, 4.5])\n",
    "liabilities"
   ]
  },
  {
   "cell_type": "code",
   "execution_count": 7,
   "id": "50086519-c9d1-44b0-8c9d-41d4b9287d40",
   "metadata": {
    "tags": []
   },
   "outputs": [
    {
     "data": {
      "text/plain": [
       "6.233320315080044"
      ]
     },
     "execution_count": 7,
     "metadata": {},
     "output_type": "execute_result"
    }
   ],
   "source": [
    "# the present value of the sum of the liabilities is less than 7 million\n",
    "pv(liabilities, 0.03)"
   ]
  },
  {
   "cell_type": "code",
   "execution_count": 8,
   "id": "fd440e72-0f5a-4e78-8004-806b68f7b28b",
   "metadata": {
    "tags": []
   },
   "outputs": [
    {
     "data": {
      "text/plain": [
       "0.8021407126958778"
      ]
     },
     "execution_count": 8,
     "metadata": {},
     "output_type": "execute_result"
    }
   ],
   "source": [
    "# in this case we are under funded\n",
    "m.funding_ratio(5, liabilities, 0.03)"
   ]
  },
  {
   "cell_type": "code",
   "execution_count": 9,
   "id": "e111b04f-f7de-4620-b412-5a21f592a47c",
   "metadata": {
    "tags": []
   },
   "outputs": [
    {
     "data": {
      "text/plain": [
       "0.7720304366941647"
      ]
     },
     "execution_count": 9,
     "metadata": {},
     "output_type": "execute_result"
    }
   ],
   "source": [
    "# if interest rates go down the situation is even worse\n",
    "m.funding_ratio(5, liabilities, 0.02)"
   ]
  },
  {
   "cell_type": "code",
   "execution_count": 10,
   "id": "f5f5af93-3e2a-4b1d-8a49-33070cdf5b73",
   "metadata": {
    "tags": []
   },
   "outputs": [
    {
     "data": {
      "text/plain": [
       "0.8649082768407929"
      ]
     },
     "execution_count": 10,
     "metadata": {},
     "output_type": "execute_result"
    }
   ],
   "source": [
    "# if interest rates go up the situation is better\n",
    "m.funding_ratio(5, liabilities, 0.05)"
   ]
  },
  {
   "cell_type": "code",
   "execution_count": 11,
   "id": "c0049106-388b-492a-8444-324893301af6",
   "metadata": {
    "tags": []
   },
   "outputs": [],
   "source": [
    "def show_funding_ratio(assets, r):\n",
    "    fr = m.funding_ratio(assets, liabilities, r)\n",
    "    print(f\"{fr*100:.2f}%\")"
   ]
  },
  {
   "cell_type": "code",
   "execution_count": 12,
   "id": "db3da0a2-53f5-49a8-9127-623c763d27f1",
   "metadata": {
    "tags": []
   },
   "outputs": [
    {
     "data": {
      "application/vnd.jupyter.widget-view+json": {
       "model_id": "146d1c67d3f44a37b6e52958b25d1130",
       "version_major": 2,
       "version_minor": 0
      },
      "text/plain": [
       "interactive(children=(IntSlider(value=5, description='assets', max=10, min=1), FloatSlider(value=0.1, descript…"
      ]
     },
     "metadata": {},
     "output_type": "display_data"
    }
   ],
   "source": [
    "controls = widgets.interactive(show_funding_ratio,\n",
    "                                assets = widgets.IntSlider(min=1, max=10, step=1, value=5),\n",
    "                                r = (0, .2, .01)\n",
    "                              )\n",
    "display(controls)"
   ]
  },
  {
   "cell_type": "markdown",
   "id": "502f820e-2845-40a9-9297-ce97883ba75e",
   "metadata": {},
   "source": [
    "COMMENT: if your funding ratio is < 1:\n",
    "1) you can try to get more assets (in pension funds they ask for more money)\n",
    "2) You have to find some way to improve the rate of return"
   ]
  },
  {
   "cell_type": "code",
   "execution_count": null,
   "id": "ebe86dcf-e16f-493a-93a2-d56ff05ffe00",
   "metadata": {},
   "outputs": [],
   "source": []
  }
 ],
 "metadata": {
  "kernelspec": {
   "display_name": "Python (modern_ts)",
   "language": "python",
   "name": "modern_ts"
  },
  "language_info": {
   "codemirror_mode": {
    "name": "ipython",
    "version": 3
   },
   "file_extension": ".py",
   "mimetype": "text/x-python",
   "name": "python",
   "nbconvert_exporter": "python",
   "pygments_lexer": "ipython3",
   "version": "3.10.12"
  }
 },
 "nbformat": 4,
 "nbformat_minor": 5
}
